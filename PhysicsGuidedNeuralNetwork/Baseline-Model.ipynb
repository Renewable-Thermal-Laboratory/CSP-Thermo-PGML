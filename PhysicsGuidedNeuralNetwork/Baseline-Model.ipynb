{
 "cells": [
  {
   "cell_type": "code",
   "execution_count": null,
   "id": "ea565300",
   "metadata": {},
   "outputs": [
    {
     "name": "stdout",
     "output_type": "stream",
     "text": [
      "Drive already mounted at /content/drive; to attempt to forcibly remount, call drive.mount(\"/content/drive\", force_remount=True).\n"
     ]
    }
   ],
   "source": [
    "from google.colab import drive\n",
    "drive.mount('/content/drive')"
   ]
  },
  {
   "cell_type": "code",
   "execution_count": null,
   "id": "7dd42b56",
   "metadata": {},
   "outputs": [
    {
     "name": "stdout",
     "output_type": "stream",
     "text": [
      "[Errno 2] No such file or directory: 'drive/MyDrive/Colab Notebooks/'\n",
      "/content/drive/MyDrive/Colab Notebooks\n"
     ]
    }
   ],
   "source": [
    "\n",
    "cd drive/MyDrive/Colab\\ Notebooks/\n"
   ]
  },
  {
   "cell_type": "code",
   "execution_count": null,
   "id": "790860a1",
   "metadata": {},
   "outputs": [
    {
     "name": "stdout",
     "output_type": "stream",
     "text": [
      " CMPUT466_Coding_Assignment1_Thasanka_Kandage_1716597.ipynb\n",
      " CMPUT466_CodingAssignment2_ThasankaKandage_1716597.ipynb\n",
      " \u001b[0m\u001b[01;34mcsv_temp_profiles\u001b[0m/\n",
      " database.db\n",
      " dataset_A_linear.png\n",
      " dataset_A_logistic.png\n",
      " dataset_B_linear.png\n",
      " dataset_B_logistic.png\n",
      "'ECE 449 Lab 1 - Thasanka Kandage 1716597.ipynb'\n",
      "'ECE449_Lab2_Thasanka Kandage 1716597.ipynb'\n",
      " ECE449_Lab3_Thasanka_Kandage_1716597\n",
      " ECE449_Lab4_Thasanka_Kandage_17165971.ipynb\n",
      " ECE449_Lab5_An_Huynh.ipynb\n",
      " ECE449_Lab5_ThasankaKandage_1716597.ipynb\n",
      " Forecasting.ipynb\n",
      " Learning_PyTorch.ipynb\n",
      " ML_Models_TempProfiles.ipynb\n",
      " paper_plots_and_im_crossover.ipynb\n",
      "'PG PI ML_Models_TempProfiles.ipynb'\n",
      " PhysicsGuidedNN_Modeling_VTDP.ipynb\n",
      " t10k-images-idx3-ubyte.idx3-ubyte\n",
      " t10k-labels-idx1-ubyte.idx1-ubyte\n",
      " \u001b[01;34mTheoretical_VTDP\u001b[0m/\n",
      " thermal_model_weights.pth\n",
      " tipper_test.csv\n",
      " tipper_train.csv\n",
      " train-images-idx3-ubyte.idx3-ubyte\n",
      " train-labels-idx1-ubyte.idx1-ubyte\n",
      " \u001b[01;34mTrimmed_TC_updated\u001b[0m/\n",
      " Untitled0.ipynb\n",
      " Untitled1.ipynb\n",
      " Untitled2.ipynb\n",
      " Untitled3.ipynb\n",
      " Untitled4.ipynb\n",
      " Untitled5.ipynb\n"
     ]
    }
   ],
   "source": [
    "ls"
   ]
  },
  {
   "cell_type": "markdown",
   "id": "d00cd6db",
   "metadata": {},
   "source": [
    "# Imports + Setup"
   ]
  },
  {
   "cell_type": "code",
   "execution_count": 1,
   "id": "579f5c41",
   "metadata": {},
   "outputs": [],
   "source": [
    "import os, re\n",
    "import pandas as pd\n",
    "import numpy as np\n",
    "import torch\n",
    "import torch.nn as nn\n",
    "import torch.optim as optim\n",
    "from sklearn.model_selection import train_test_split\n",
    "from sklearn.preprocessing import MinMaxScaler\n",
    "import matplotlib.pyplot as plt"
   ]
  },
  {
   "cell_type": "code",
   "execution_count": 2,
   "id": "ec90e967",
   "metadata": {},
   "outputs": [],
   "source": [
    "# Set seeds for reproducibility\n",
    "import random\n",
    "SEED = 1\n",
    "random.seed(SEED)\n",
    "np.random.seed(SEED)\n",
    "torch.manual_seed(SEED)\n",
    "torch.backends.cudnn.deterministic = True  # Ensure deterministic behavior for CUDA\n",
    "torch.backends.cudnn.benchmark = False      # Disable auto-tuner that can introduce randomness"
   ]
  },
  {
   "cell_type": "code",
   "execution_count": 3,
   "id": "7837c223",
   "metadata": {},
   "outputs": [],
   "source": [
    "# File Mapping\n",
    "h_map = {2: 0.0375, 3: 0.084, 6: 0.1575}\n",
    "flux_map = {88: 25900, 78: 21250, 73: 19400}\n",
    "abs_map = {0: 3, 92: 100}\n",
    "surf_map = {0: 0.98, 1: 0.76}\n",
    "pattern = r\"h(\\d+)_flux(\\d+)_abs(\\d+)(?:_[A-Za-z0-9]+)*_surf([01])(?:_[A-Za-z0-9]+)*[\\s_]+(\\d+)s\\b\"\n",
    "# Depending on where u store the data files\n",
    "# cd drive/MyDrive/Colab\\ Notebooks/Theoretical_VTDP\n",
    "DATA_DIR = \"../data/Theoretical_VTDP\"\n",
    "# DATA_DIR = \"Theoretical_VTDP/\"\n",
    "DROP_COLS = [\"TC_9_5\", \"TC_Bottom_rec_groove\", \"TC_wall_ins_ext\", \"TC_bottom_ins_groove\", \"Theoretical_Temps_11\"]"
   ]
  },
  {
   "cell_type": "markdown",
   "id": "5a1b8ede",
   "metadata": {},
   "source": [
    "# Utilities"
   ]
  },
  {
   "cell_type": "code",
   "execution_count": 4,
   "id": "79014449",
   "metadata": {},
   "outputs": [],
   "source": [
    "def parse_filename_params(filename):\n",
    "    m = re.search(pattern, filename)\n",
    "    if not m:\n",
    "        return None\n",
    "    h_raw    = int(m.group(1))\n",
    "    flux_raw = int(m.group(2))\n",
    "    abs_raw  = int(m.group(3))\n",
    "    surf_raw = int(m.group(4))\n",
    "    t        = int(m.group(5))\n",
    "\n",
    "    # keeping number if no entry exists\n",
    "    h    = h_map.get(h_raw,    h_raw)\n",
    "    flux = flux_map.get(flux_raw, flux_raw)\n",
    "    abs_ = abs_map.get(abs_raw,  abs_raw)\n",
    "    surf = surf_map.get(surf_raw)\n",
    "\n",
    "    return h, flux, abs_, surf, t\n",
    "\n",
    "def load_and_process_file(path, h, flux, abs_val, surf, min_time):\n",
    "    df = pd.read_csv(path, encoding=\"utf-8-sig\")\n",
    "    df = df[df[\"Time\"] >= min_time].copy()\n",
    "    df.drop(columns=[col for col in df.columns if col in DROP_COLS or col.startswith(\"Depth_\")], inplace=True)\n",
    "    df[\"h\"] = h\n",
    "    df[\"flux\"] = flux\n",
    "    df[\"abs\"] = abs_val\n",
    "    df[\"surf\"] = surf\n",
    "    return df"
   ]
  },
  {
   "cell_type": "markdown",
   "id": "6144463b",
   "metadata": {},
   "source": [
    "# Load and Combine Data"
   ]
  },
  {
   "cell_type": "code",
   "execution_count": 5,
   "id": "0dcfe510",
   "metadata": {},
   "outputs": [
    {
     "name": "stdout",
     "output_type": "stream",
     "text": [
      "Skipping: h2_flux88_abs25_wr_surfParAdded_169s - Sheet1_processed.csv\n",
      "Skipping: h2_flux88_abs25_wr_surfSimD_525s - Sheet1_processed.csv\n",
      "<class 'pandas.core.frame.DataFrame'>\n",
      "RangeIndex: 66146 entries, 0 to 66145\n",
      "Data columns (total 25 columns):\n",
      " #   Column                Non-Null Count  Dtype  \n",
      "---  ------                --------------  -----  \n",
      " 0   Time                  66146 non-null  int64  \n",
      " 1   TC1_tip               66146 non-null  float64\n",
      " 2   TC2                   66146 non-null  float64\n",
      " 3   TC3                   66146 non-null  float64\n",
      " 4   TC4                   66146 non-null  float64\n",
      " 5   TC5                   66146 non-null  float64\n",
      " 6   TC6                   66146 non-null  float64\n",
      " 7   TC7                   66146 non-null  float64\n",
      " 8   TC8                   66146 non-null  float64\n",
      " 9   TC9                   66146 non-null  float64\n",
      " 10  TC10                  66146 non-null  float64\n",
      " 11  Theoretical_Temps_1   66146 non-null  float64\n",
      " 12  Theoretical_Temps_2   66146 non-null  float64\n",
      " 13  Theoretical_Temps_3   66146 non-null  float64\n",
      " 14  Theoretical_Temps_4   66146 non-null  float64\n",
      " 15  Theoretical_Temps_5   66146 non-null  float64\n",
      " 16  Theoretical_Temps_6   66146 non-null  float64\n",
      " 17  Theoretical_Temps_7   66146 non-null  float64\n",
      " 18  Theoretical_Temps_8   66146 non-null  float64\n",
      " 19  Theoretical_Temps_9   66146 non-null  float64\n",
      " 20  Theoretical_Temps_10  66146 non-null  float64\n",
      " 21  h                     66146 non-null  float64\n",
      " 22  flux                  66146 non-null  int64  \n",
      " 23  abs                   66146 non-null  int64  \n",
      " 24  surf                  66146 non-null  float64\n",
      "dtypes: float64(22), int64(3)\n",
      "memory usage: 12.6 MB\n",
      "None\n",
      "   Time  TC1_tip     TC2     TC3     TC4     TC5    TC6    TC7    TC8    TC9  \\\n",
      "0   571   362.19  358.26  333.06  183.66  124.89  82.55  64.62  52.62  42.62   \n",
      "1   572   362.24  358.30  332.63  183.57  124.75  82.47  64.61  52.71  42.62   \n",
      "2   573   362.55  358.94  332.55  183.51  124.68  82.44  64.79  52.91  42.80   \n",
      "3   574   362.82  359.44  332.70  183.64  124.69  82.52  65.04  53.29  43.01   \n",
      "4   575   363.11  359.92  332.86  183.88  124.72  82.53  65.26  53.63  43.24   \n",
      "\n",
      "   ...  Theoretical_Temps_5  Theoretical_Temps_6  Theoretical_Temps_7  \\\n",
      "0  ...           401.456645           401.456645           401.456645   \n",
      "1  ...           401.612500           401.612500           401.612500   \n",
      "2  ...           401.768277           401.768277           401.768277   \n",
      "3  ...           401.923974           401.923974           401.923974   \n",
      "4  ...           402.079593           402.079593           402.079593   \n",
      "\n",
      "   Theoretical_Temps_8  Theoretical_Temps_9  Theoretical_Temps_10       h  \\\n",
      "0           401.456645           401.456645            401.456645  0.0375   \n",
      "1           401.612500           401.612500            401.612500  0.0375   \n",
      "2           401.768277           401.768277            401.768277  0.0375   \n",
      "3           401.923974           401.923974            401.923974  0.0375   \n",
      "4           402.079593           402.079593            402.079593  0.0375   \n",
      "\n",
      "    flux  abs  surf  \n",
      "0  25900    3  0.98  \n",
      "1  25900    3  0.98  \n",
      "2  25900    3  0.98  \n",
      "3  25900    3  0.98  \n",
      "4  25900    3  0.98  \n",
      "\n",
      "[5 rows x 25 columns]\n"
     ]
    }
   ],
   "source": [
    "dataframes = []\n",
    "for fname in os.listdir(DATA_DIR):\n",
    "    if not fname.endswith(\".csv\"):\n",
    "        continue\n",
    "    params = parse_filename_params(fname)\n",
    "    if params is None or params[3] is None:\n",
    "        print(\"Skipping:\", fname)\n",
    "        continue\n",
    "    path = os.path.join(DATA_DIR, fname)\n",
    "    df = load_and_process_file(path, *params)\n",
    "    dataframes.append(df)\n",
    "\n",
    "data = pd.concat(dataframes, ignore_index=True)\n",
    "print(data.info())\n",
    "print(data.head())\n"
   ]
  },
  {
   "cell_type": "markdown",
   "id": "4c3a3125",
   "metadata": {},
   "source": [
    "# Preprocessing"
   ]
  },
  {
   "cell_type": "code",
   "execution_count": 6,
   "id": "03e363a6",
   "metadata": {},
   "outputs": [],
   "source": [
    "theory_cols = [c for c in data.columns if c.startswith(\"Theoretical_Temps_\")]\n",
    "X = data[[\"Time\", \"h\", \"flux\", \"abs\", \"surf\"] + theory_cols]\n",
    "y = data.drop(columns=[\"Time\", \"h\", \"flux\", \"abs\", \"surf\"] + theory_cols)\n",
    "y_columns = y.columns\n",
    "\n",
    "X_scaler = MinMaxScaler()\n",
    "y_scaler = MinMaxScaler()\n",
    "X_scaled = X_scaler.fit_transform(X)\n",
    "y_scaled = y_scaler.fit_transform(y)\n",
    "\n",
    "X_train, X_temp, y_train, y_temp = train_test_split(X_scaled, y_scaled, test_size=0.3, random_state=SEED) # 70% of dataset is training\n",
    "X_val, X_test, y_val, y_test = train_test_split(X_temp, y_temp, test_size=0.5, random_state=SEED) # 15% of entire dataset is val and another 15 is test\n",
    "\n",
    "X_train = torch.tensor(X_train, dtype=torch.float32)\n",
    "X_val = torch.tensor(X_val, dtype=torch.float32)\n",
    "X_test = torch.tensor(X_test, dtype=torch.float32)\n",
    "\n",
    "y_train = torch.tensor(y_train, dtype=torch.float32)\n",
    "y_val = torch.tensor(y_val, dtype=torch.float32)\n",
    "y_test = torch.tensor(y_test, dtype=torch.float32)"
   ]
  },
  {
   "cell_type": "markdown",
   "id": "c9d6b1f8",
   "metadata": {},
   "source": [
    "# Model"
   ]
  },
  {
   "cell_type": "code",
   "execution_count": 7,
   "id": "7e7d1f5d",
   "metadata": {},
   "outputs": [],
   "source": [
    "class NeuralNet(nn.Module):\n",
    "    def __init__(self, input_size, output_size):\n",
    "        super().__init__()\n",
    "        self.fc1 = nn.Linear(input_size, 64)\n",
    "        self.fc2 = nn.Linear(64, 128)\n",
    "        self.fc3 = nn.Linear(128, 64)\n",
    "        self.fc4 = nn.Linear(64, output_size)\n",
    "        self.relu = nn.ReLU()\n",
    "\n",
    "    def forward(self, x):\n",
    "        x = self.relu(self.fc1(x))\n",
    "        x = self.relu(self.fc2(x))\n",
    "        x = self.relu(self.fc3(x))\n",
    "        return self.fc4(x)\n",
    "\n",
    "input_size = X_train.shape[1]\n",
    "output_size = y_train.shape[1]\n",
    "model = NeuralNet(input_size, output_size)"
   ]
  },
  {
   "cell_type": "markdown",
   "id": "819752cf",
   "metadata": {},
   "source": [
    "# Training"
   ]
  },
  {
   "cell_type": "code",
   "execution_count": 8,
   "id": "4ced7c2c",
   "metadata": {},
   "outputs": [
    {
     "name": "stdout",
     "output_type": "stream",
     "text": [
      "Epoch [50/500], Train Loss: 0.040665, Val Loss: 0.041579\n",
      "Epoch [100/500], Train Loss: 0.022860, Val Loss: 0.023734\n",
      "Epoch [150/500], Train Loss: 0.012598, Val Loss: 0.013494\n",
      "Epoch [200/500], Train Loss: 0.010070, Val Loss: 0.011006\n",
      "Epoch [250/500], Train Loss: 0.008912, Val Loss: 0.009811\n",
      "Epoch [300/500], Train Loss: 0.008279, Val Loss: 0.009159\n",
      "Epoch [350/500], Train Loss: 0.007988, Val Loss: 0.008843\n",
      "Epoch [400/500], Train Loss: 0.007788, Val Loss: 0.008624\n",
      "Epoch [450/500], Train Loss: 0.007662, Val Loss: 0.008474\n",
      "Epoch [500/500], Train Loss: 0.007575, Val Loss: 0.008372\n"
     ]
    }
   ],
   "source": [
    "criterion = nn.MSELoss()\n",
    "optimizer = optim.Adam(model.parameters(), lr=0.001)\n",
    "EPOCHS = 500\n",
    "\n",
    "train_losses = []\n",
    "val_losses = []\n",
    "\n",
    "for epoch in range(EPOCHS):\n",
    "    model.train()\n",
    "    optimizer.zero_grad()\n",
    "    predictions = model(X_train)\n",
    "    train_loss = criterion(predictions, y_train)\n",
    "    train_loss.backward()\n",
    "    optimizer.step()\n",
    "\n",
    "    # validate\n",
    "    model.eval()\n",
    "    with torch.no_grad():\n",
    "        val_preds = model(X_val)\n",
    "        val_loss = criterion(val_preds, y_val)\n",
    "\n",
    "    train_losses.append(train_loss.item())\n",
    "    val_losses.append(val_loss.item())\n",
    "\n",
    "    if (epoch + 1) % 50 == 0:\n",
    "        print(f\"Epoch [{epoch+1}/{EPOCHS}], Train Loss: {train_loss.item():.6f}, Val Loss: {val_loss.item():.6f}\")"
   ]
  },
  {
   "cell_type": "code",
   "execution_count": 9,
   "id": "a1359e5d",
   "metadata": {},
   "outputs": [
    {
     "data": {
      "image/png": "[encoded data removed]",
      "text/plain": [
       "<Figure size 1000x600 with 1 Axes>"
      ]
     },
     "metadata": {},
     "output_type": "display_data"
    }
   ],
   "source": [
    "plt.figure(figsize=(10, 6))\n",
    "plt.plot(train_losses, label='Train Loss', color='blue')\n",
    "plt.plot(val_losses, label='Validation Loss', color='orange')\n",
    "plt.xlabel('Epoch')\n",
    "plt.ylabel('Loss')\n",
    "plt.title('Training and Validation Loss over Epochs')\n",
    "plt.legend()\n",
    "plt.grid(True)\n",
    "plt.show()"
   ]
  },
  {
   "cell_type": "markdown",
   "id": "46c9dcf4",
   "metadata": {},
   "source": [
    "# Evaluation"
   ]
  },
  {
   "cell_type": "code",
   "execution_count": 10,
   "id": "608ac66a",
   "metadata": {},
   "outputs": [
    {
     "name": "stdout",
     "output_type": "stream",
     "text": [
      "\n",
      "RMSE per output (°C):\n",
      "TC1_tip: 30.185 °C\n",
      "TC2: 29.814 °C\n",
      "TC3: 30.382 °C\n",
      "TC4: 30.057 °C\n",
      "TC5: 30.059 °C\n",
      "TC6: 29.846 °C\n",
      "TC7: 30.263 °C\n",
      "TC8: 31.226 °C\n",
      "TC9: 32.897 °C\n",
      "TC10: 35.567 °C\n",
      "\n",
      "Average RMSE across all outputs: 31.030 °C\n",
      "Model weights saved to 'thermal_model_weights.pth'\n"
     ]
    }
   ],
   "source": [
    "model.eval()\n",
    "with torch.no_grad():\n",
    "    preds = model(X_test).numpy()\n",
    "\n",
    "preds_real = y_scaler.inverse_transform(preds)\n",
    "y_real = y_scaler.inverse_transform(y_test.numpy())\n",
    "rmse = np.sqrt(np.mean((preds_real - y_real) ** 2, axis=0))\n",
    "\n",
    "print(\"\\nRMSE per output (°C):\")\n",
    "for col, val in zip(y.columns, rmse):\n",
    "    print(f\"{col}: {val:.3f} °C\")\n",
    "\n",
    "print(f\"\\nAverage RMSE across all outputs: {np.mean(rmse):.3f} °C\")\n",
    "\n",
    "torch.save(model.state_dict(), \"thermal_model_weights.pth\")\n",
    "print(\"Model weights saved to 'thermal_model_weights.pth'\")"
   ]
  },
  {
   "cell_type": "markdown",
   "id": "1db253c9",
   "metadata": {},
   "source": [
    "<!-- ----------------------------------------------------------------------------------------------------------------------------------- -->"
   ]
  },
  {
   "cell_type": "code",
   "execution_count": 12,
   "id": "4fd27adf",
   "metadata": {},
   "outputs": [
    {
     "name": "stdout",
     "output_type": "stream",
     "text": [
      "\n",
      "Predicted Temperatures: [[368.71533  367.29965  343.96594  212.23734  156.5188   110.83491\n",
      "   89.34357   76.69324   67.05076   70.479515]]\n"
     ]
    },
    {
     "name": "stderr",
     "output_type": "stream",
     "text": [
      "C:\\Users\\Rajasekar\\AppData\\Roaming\\Python\\Python311\\site-packages\\sklearn\\utils\\validation.py:2739: UserWarning: X does not have valid feature names, but MinMaxScaler was fitted with feature names\n",
      "  warnings.warn(\n"
     ]
    }
   ],
   "source": [
    "new_input = [\n",
    "    [  # Full input vector for inference\n",
    "        571,     # Time (seconds)\n",
    "        0.0375,     # Depth (h)\n",
    "        25900,      # Heat flux (q0)\n",
    "        3,          # Absorption coefficient (abs)\n",
    "        0.98        # Surface emissivity (surf)\n",
    "    ] + [347.183842706293,372.46138718949,372.46138718949,372.46138718949,372.46138718949,372.46138718949,372.46138718949,372.46138718949,372.46138718949,372.46138718949]  # Theoretical temperature values at 10 vertical points\n",
    "]\n",
    "new_input_scaled = X_scaler.transform(new_input)\n",
    "new_tensor = torch.tensor(new_input_scaled, dtype=torch.float32)\n",
    "\n",
    "with torch.no_grad():\n",
    "    pred = model(new_tensor).numpy()\n",
    "real_pred = y_scaler.inverse_transform(pred)\n",
    "print(\"\\nPredicted Temperatures:\", real_pred)\n"
   ]
  }
 ],
 "metadata": {
  "kernelspec": {
   "display_name": "Python 3",
   "language": "python",
   "name": "python3"
  },
  "language_info": {
   "codemirror_mode": {
    "name": "ipython",
    "version": 3
   },
   "file_extension": ".py",
   "mimetype": "text/x-python",
   "name": "python",
   "nbconvert_exporter": "python",
   "pygments_lexer": "ipython3",
   "version": "3.11.5"
  }
 },
 "nbformat": 4,
 "nbformat_minor": 5
}
