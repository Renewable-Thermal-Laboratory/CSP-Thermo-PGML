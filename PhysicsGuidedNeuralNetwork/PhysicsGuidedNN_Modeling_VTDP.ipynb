{
  "cells": [
    {
      "cell_type": "code",
      "execution_count": 1,
      "metadata": {
        "colab": {
          "base_uri": "https://localhost:8080/"
        },
        "id": "vi_opgPH29S_",
        "outputId": "b5eb3ad0-75d7-4f51-9aa7-dbe553f967ac"
      },
      "outputs": [],
      "source": [
        "\n",
        "# cd drive/MyDrive/Colab\\ Notebooks/\n"
      ]
    },
    {
      "cell_type": "code",
      "execution_count": 2,
      "metadata": {
        "colab": {
          "base_uri": "https://localhost:8080/"
        },
        "id": "hnks7Rop3Bft",
        "outputId": "7b882ff3-0da1-4fa0-f44f-3aebc37525c3"
      },
      "outputs": [],
      "source": [
        "# ls"
      ]
    },
    {
      "cell_type": "markdown",
      "metadata": {
        "id": "8mVGwbKW0Vn2"
      },
      "source": [
        "# Imports + Setup"
      ]
    },
    {
      "cell_type": "code",
      "execution_count": 19,
      "metadata": {
        "id": "HNxLFpgi0Vn4"
      },
      "outputs": [],
      "source": [
        "import os, re\n",
        "import pandas as pd\n",
        "import numpy as np\n",
        "import torch\n",
        "import torch.nn as nn\n",
        "import torch.optim as optim\n",
        "from sklearn.model_selection import train_test_split\n",
        "from sklearn.preprocessing import MinMaxScaler\n",
        "import joblib\n",
        "import matplotlib.pyplot as plt\n",
        "from torch.utils.data import TensorDataset, DataLoader\n",
        "import random"
      ]
    },
    {
      "cell_type": "code",
      "execution_count": 20,
      "metadata": {
        "id": "5-TXbl4Y0Vn5"
      },
      "outputs": [],
      "source": [
        "# Set seeds for reproducibility\n",
        "import random\n",
        "SEED = 1\n",
        "random.seed(SEED)\n",
        "np.random.seed(SEED)\n",
        "torch.manual_seed(SEED)\n",
        "torch.backends.cudnn.deterministic = True  # Ensure deterministic behavior for CUDA\n",
        "torch.backends.cudnn.benchmark = False      # Disable auto-tuner that can introduce randomness"
      ]
    },
    {
      "cell_type": "code",
      "execution_count": 21,
      "metadata": {
        "id": "q96kJ_tT0Vn6"
      },
      "outputs": [],
      "source": [
        "# File Mapping\n",
        "h_map = {2: 0.0375, 3: 0.084, 6: 0.1575}\n",
        "flux_map = {88: 25900, 78: 21250, 73: 19400}\n",
        "abs_map = {0: 3, 92: 100}\n",
        "surf_map = {0: 0.98, 1: 0.76}\n",
        "pattern = r\"h(\\d+)_flux(\\d+)_abs(\\d+)(?:_[A-Za-z0-9]+)*_surf([01])(?:_[A-Za-z0-9]+)*[\\s_]+(\\d+)s\\b\"\n",
        "# Depending on where u store the data files\n",
        "# cd drive/MyDrive/Colab\\ Notebooks/Theoretical_VTDP\n",
        "DATA_DIR = \"../../../data/Theoretical_VTDP\"\n",
        "# DATA_DIR = \"Theoretical_VTDP/\"\n",
        "DROP_COLS = [\"TC_9_5\", \"TC_Bottom_rec_groove\", \"TC_wall_ins_ext\", \"TC_bottom_ins_groove\", \"Theoretical_Temps_11\"]"
      ]
    },
    {
      "cell_type": "markdown",
      "metadata": {
        "id": "IEPwSUTU0Vn6"
      },
      "source": [
        "# Utilities"
      ]
    },
    {
      "cell_type": "code",
      "execution_count": 22,
      "metadata": {
        "id": "s0OmPxTi0Vn7"
      },
      "outputs": [],
      "source": [
        "def parse_filename_params(filename):\n",
        "    m = re.search(pattern, filename)\n",
        "    if not m:\n",
        "        return None\n",
        "    h_raw    = int(m.group(1))\n",
        "    flux_raw = int(m.group(2))\n",
        "    abs_raw  = int(m.group(3))\n",
        "    surf_raw = int(m.group(4))\n",
        "    t        = int(m.group(5))\n",
        "\n",
        "    # keeping number if no entry exists\n",
        "    h    = h_map.get(h_raw,    h_raw)\n",
        "    flux = flux_map.get(flux_raw, flux_raw)\n",
        "    abs_ = abs_map.get(abs_raw,  abs_raw)\n",
        "    surf = surf_map.get(surf_raw)\n",
        "\n",
        "    return h, flux, abs_, surf, t\n",
        "\n",
        "def load_and_process_file(path, h, flux, abs_val, surf, min_time,filename):\n",
        "    df = pd.read_csv(path, encoding=\"utf-8-sig\")\n",
        "    df = df[df[\"Time\"] >= min_time].copy()\n",
        "    df.drop(columns=[col for col in df.columns if col in DROP_COLS or col.startswith(\"Depth_\")], inplace=True)\n",
        "    df[\"h\"] = h\n",
        "    df[\"flux\"] = flux\n",
        "    df[\"abs\"] = abs_val\n",
        "    df[\"surf\"] = surf\n",
        "    df[\"filename\"] = filename\n",
        "    return df"
      ]
    },
    {
      "cell_type": "markdown",
      "metadata": {
        "id": "EZon2gIG0Vn7"
      },
      "source": [
        "# Load and Combine Data"
      ]
    },
    {
      "cell_type": "code",
      "execution_count": 25,
      "metadata": {
        "colab": {
          "base_uri": "https://localhost:8080/"
        },
        "id": "YJIZorgZ0Vn8",
        "outputId": "1b80bd5b-a6b3-4099-fa65-226c99bf2b5d"
      },
      "outputs": [
        {
          "name": "stdout",
          "output_type": "stream",
          "text": [
            "Skipping (unmatched): h2_flux88_abs25_wr_surfParAdded_169s - Sheet1_processed.csv\n",
            "Skipping (unmatched): h2_flux88_abs25_wr_surfSimD_525s - Sheet1_processed.csv\n",
            "<class 'pandas.core.frame.DataFrame'>\n",
            "RangeIndex: 66146 entries, 0 to 66145\n",
            "Data columns (total 26 columns):\n",
            " #   Column                Non-Null Count  Dtype  \n",
            "---  ------                --------------  -----  \n",
            " 0   Time                  66146 non-null  int64  \n",
            " 1   TC1_tip               66146 non-null  float64\n",
            " 2   TC2                   66146 non-null  float64\n",
            " 3   TC3                   66146 non-null  float64\n",
            " 4   TC4                   66146 non-null  float64\n",
            " 5   TC5                   66146 non-null  float64\n",
            " 6   TC6                   66146 non-null  float64\n",
            " 7   TC7                   66146 non-null  float64\n",
            " 8   TC8                   66146 non-null  float64\n",
            " 9   TC9                   66146 non-null  float64\n",
            " 10  TC10                  66146 non-null  float64\n",
            " 11  Theoretical_Temps_1   66146 non-null  float64\n",
            " 12  Theoretical_Temps_2   66146 non-null  float64\n",
            " 13  Theoretical_Temps_3   66146 non-null  float64\n",
            " 14  Theoretical_Temps_4   66146 non-null  float64\n",
            " 15  Theoretical_Temps_5   66146 non-null  float64\n",
            " 16  Theoretical_Temps_6   66146 non-null  float64\n",
            " 17  Theoretical_Temps_7   66146 non-null  float64\n",
            " 18  Theoretical_Temps_8   66146 non-null  float64\n",
            " 19  Theoretical_Temps_9   66146 non-null  float64\n",
            " 20  Theoretical_Temps_10  66146 non-null  float64\n",
            " 21  h                     66146 non-null  float64\n",
            " 22  flux                  66146 non-null  int64  \n",
            " 23  abs                   66146 non-null  int64  \n",
            " 24  surf                  66146 non-null  float64\n",
            " 25  filename              66146 non-null  object \n",
            "dtypes: float64(22), int64(3), object(1)\n",
            "memory usage: 13.1+ MB\n",
            "None\n",
            "   Time  TC1_tip     TC2     TC3     TC4     TC5    TC6    TC7    TC8    TC9  \\\n",
            "0   571   362.19  358.26  333.06  183.66  124.89  82.55  64.62  52.62  42.62   \n",
            "1   572   362.24  358.30  332.63  183.57  124.75  82.47  64.61  52.71  42.62   \n",
            "2   573   362.55  358.94  332.55  183.51  124.68  82.44  64.79  52.91  42.80   \n",
            "3   574   362.82  359.44  332.70  183.64  124.69  82.52  65.04  53.29  43.01   \n",
            "4   575   363.11  359.92  332.86  183.88  124.72  82.53  65.26  53.63  43.24   \n",
            "\n",
            "   ...  Theoretical_Temps_6  Theoretical_Temps_7  Theoretical_Temps_8  \\\n",
            "0  ...           401.456645           401.456645           401.456645   \n",
            "1  ...           401.612500           401.612500           401.612500   \n",
            "2  ...           401.768277           401.768277           401.768277   \n",
            "3  ...           401.923974           401.923974           401.923974   \n",
            "4  ...           402.079593           402.079593           402.079593   \n",
            "\n",
            "   Theoretical_Temps_9  Theoretical_Temps_10       h   flux  abs  surf  \\\n",
            "0           401.456645            401.456645  0.0375  25900    3  0.98   \n",
            "1           401.612500            401.612500  0.0375  25900    3  0.98   \n",
            "2           401.768277            401.768277  0.0375  25900    3  0.98   \n",
            "3           401.923974            401.923974  0.0375  25900    3  0.98   \n",
            "4           402.079593            402.079593  0.0375  25900    3  0.98   \n",
            "\n",
            "                                            filename  \n",
            "0  h2_flux88_abs0_mr_surf0_571s - Sheet1_processe...  \n",
            "1  h2_flux88_abs0_mr_surf0_571s - Sheet1_processe...  \n",
            "2  h2_flux88_abs0_mr_surf0_571s - Sheet1_processe...  \n",
            "3  h2_flux88_abs0_mr_surf0_571s - Sheet1_processe...  \n",
            "4  h2_flux88_abs0_mr_surf0_571s - Sheet1_processe...  \n",
            "\n",
            "[5 rows x 26 columns]\n"
          ]
        }
      ],
      "source": [
        "dataframes = []\n",
        "for fname in os.listdir(DATA_DIR):\n",
        "    if not fname.endswith(\".csv\"):\n",
        "        continue\n",
        "\n",
        "    params = parse_filename_params(fname)\n",
        "    if params is None or params[3] is None:\n",
        "        print(\"Skipping (unmatched):\", fname)\n",
        "        continue\n",
        "\n",
        "    path = os.path.join(DATA_DIR, fname)\n",
        "    df = load_and_process_file(path, *params, filename=fname)\n",
        "    dataframes.append(df)\n",
        "    data = pd.concat(dataframes, ignore_index=True)\n",
        "print(data.info())\n",
        "print(data.head())"
      ]
    },
    {
      "cell_type": "markdown",
      "metadata": {},
      "source": [
        "# H6 Only Dataset"
      ]
    },
    {
      "cell_type": "code",
      "execution_count": null,
      "metadata": {},
      "outputs": [
        {
          "name": "stdout",
          "output_type": "stream",
          "text": [
            "Skipping (not h6): h2_flux88_abs0_mr_surf0_571s - Sheet1_processed.csv\n",
            "Skipping (not h6): h2_flux88_abs0_surf0_431s - Sheet1_processed.csv\n",
            "Skipping (not h6): h2_flux88_abs0_surf0_585s - Sheet2_processed.csv\n",
            "Skipping (not h6): h2_flux88_abs0_surf0_probeUp_590s - Sheet2_processed.csv\n",
            "Skipping (not h6): h2_flux88_abs0_wr_surf0_368s - Sheet1_processed.csv\n",
            "Skipping (not h6): h2_flux88_abs25_newSalt_surf0_172s - Sheet1_processed.csv\n",
            "Skipping (not h6): h2_flux88_abs25_newSalt_wr_surf0_123s - Sheet1_processed.csv\n",
            "Skipping (not h6): h2_flux88_abs25_surf0_493s - Sheet1_processed.csv\n",
            "Skipping (not h6): h2_flux88_abs25_wr_surf0_393s - Sheet1_processed.csv\n",
            "Skipping (unmatched): h2_flux88_abs25_wr_surfParAdded_169s - Sheet1_processed.csv\n",
            "Skipping (unmatched): h2_flux88_abs25_wr_surfSimD_525s - Sheet1_processed.csv\n",
            "Skipping (not h6): h2_flux88_abs92_surf0_115s - Sheet1_processed.csv\n",
            "Skipping (not h6): h2_flux88_abs92_surf0_probeUp_193s - Sheet1_processed.csv\n",
            "Skipping (not h6): h2_flux88_abs92_wr_surf0_215s - Sheet1_processed.csv\n",
            "Skipping (not h6): h3_flux88_abs0_mr_surf0_635s-Sheet1_processed.csv\n",
            "Skipping (not h6): h3_flux88_abs0_surf0_644s-Sheet2_processed.csv\n",
            "Skipping (not h6): h3_flux88_abs0_surf0_719s-Sheet1_processed.csv\n",
            "Skipping (not h6): h3_flux88_abs0_surf0_825s-Sheer3_processed.csv\n",
            "Skipping (not h6): h3_flux88_abs0_wr_surf0_416s-Sheet1_processed.csv\n",
            "Skipping (not h6): h3_flux88_abs25_mr_surf0_796s-Sheet1_processed.csv\n",
            "Skipping (not h6): h3_flux88_abs25_surf0_439s-Sheet2_processed.csv\n",
            "Skipping (not h6): h3_flux88_abs25_surf0_660s-Sheet1_processed.csv\n",
            "Skipping (not h6): h3_flux88_abs25_wr_surf0_422s-Sheet1_processed.csv\n",
            "Skipping (not h6): h3_flux88_abs25_wr_surf0_746s-Sheet2_processed.csv\n",
            "Skipping (not h6): h3_flux88_abs90_mr_surf0_506s-Sheet1_processed.csv\n",
            "Skipping (not h6): h3_flux88_abs90_surf0_692s-Sheet2_processed.csv\n",
            "Skipping (not h6): h3_flux88_abs90_surf0_747s-Sheet3_processed.csv\n",
            "Skipping (not h6): h3_flux88_abs90_surf0_749s-Sheet1_processed.csv\n",
            "Skipping (not h6): h3_flux88_abs90_surf0_Redone_640s-Sheet3_processed.csv\n",
            "Skipping (not h6): h3_flux88_abs90_surf0_Redone_again2_398s-Sheet1_processed.csv\n",
            "Skipping (not h6): h3_flux88_abs90_surf0_Redone_again3_344s-Sheet1_processed.csv\n",
            "Skipping (not h6): h3_flux88_abs90_surf0_Redone_again_266s-Sheet1_processed.csv\n",
            "Skipping (not h6): h3_flux88_abs90_wr_surf0_529s-Sheet1_processed.csv\n",
            "<class 'pandas.core.frame.DataFrame'>\n",
            "RangeIndex: 48233 entries, 0 to 48232\n",
            "Data columns (total 26 columns):\n",
            " #   Column                Non-Null Count  Dtype  \n",
            "---  ------                --------------  -----  \n",
            " 0   Time                  48233 non-null  int64  \n",
            " 1   TC1_tip               48233 non-null  float64\n",
            " 2   TC2                   48233 non-null  float64\n",
            " 3   TC3                   48233 non-null  float64\n",
            " 4   TC4                   48233 non-null  float64\n",
            " 5   TC5                   48233 non-null  float64\n",
            " 6   TC6                   48233 non-null  float64\n",
            " 7   TC7                   48233 non-null  float64\n",
            " 8   TC8                   48233 non-null  float64\n",
            " 9   TC9                   48233 non-null  float64\n",
            " 10  TC10                  48233 non-null  float64\n",
            " 11  Theoretical_Temps_1   48233 non-null  float64\n",
            " 12  Theoretical_Temps_2   48233 non-null  float64\n",
            " 13  Theoretical_Temps_3   48233 non-null  float64\n",
            " 14  Theoretical_Temps_4   48233 non-null  float64\n",
            " 15  Theoretical_Temps_5   48233 non-null  float64\n",
            " 16  Theoretical_Temps_6   48233 non-null  float64\n",
            " 17  Theoretical_Temps_7   48233 non-null  float64\n",
            " 18  Theoretical_Temps_8   48233 non-null  float64\n",
            " 19  Theoretical_Temps_9   48233 non-null  float64\n",
            " 20  Theoretical_Temps_10  48233 non-null  float64\n",
            " 21  h                     48233 non-null  float64\n",
            " 22  flux                  48233 non-null  int64  \n",
            " 23  abs                   48233 non-null  int64  \n",
            " 24  surf                  48233 non-null  float64\n",
            " 25  filename              48233 non-null  object \n",
            "dtypes: float64(22), int64(3), object(1)\n",
            "memory usage: 9.6+ MB\n",
            "None\n",
            "   Time  TC1_tip     TC2     TC3     TC4     TC5     TC6     TC7     TC8  \\\n",
            "0   429   359.39  358.73  358.61  359.15  358.48  360.28  358.15  358.81   \n",
            "1   430   359.41  358.78  358.62  359.17  358.48  360.30  358.28  359.01   \n",
            "2   431   359.48  358.90  358.67  359.21  358.49  360.33  358.45  359.24   \n",
            "3   432   359.55  359.03  358.74  359.29  358.53  360.38  358.65  359.43   \n",
            "4   433   359.65  359.22  358.84  359.39  358.62  360.46  358.90  359.61   \n",
            "\n",
            "      TC9  ...  Theoretical_Temps_6  Theoretical_Temps_7  Theoretical_Temps_8  \\\n",
            "0  356.29  ...           313.628513           313.628513           313.628513   \n",
            "1  356.33  ...           313.659721           313.659721           313.659721   \n",
            "2  356.47  ...           313.690927           313.690927           313.690927   \n",
            "3  356.65  ...           313.722129           313.722129           313.722129   \n",
            "4  356.93  ...           313.753329           313.753329           313.753329   \n",
            "\n",
            "   Theoretical_Temps_9  Theoretical_Temps_10       h   flux  abs  surf  \\\n",
            "0           313.628513            313.628513  0.1575  19400    3  0.98   \n",
            "1           313.659721            313.659721  0.1575  19400    3  0.98   \n",
            "2           313.690927            313.690927  0.1575  19400    3  0.98   \n",
            "3           313.722129            313.722129  0.1575  19400    3  0.98   \n",
            "4           313.753329            313.753329  0.1575  19400    3  0.98   \n",
            "\n",
            "                                           filename  \n",
            "0  h6_flux73_abs0_surf0_429s - Sheet2_processed.csv  \n",
            "1  h6_flux73_abs0_surf0_429s - Sheet2_processed.csv  \n",
            "2  h6_flux73_abs0_surf0_429s - Sheet2_processed.csv  \n",
            "3  h6_flux73_abs0_surf0_429s - Sheet2_processed.csv  \n",
            "4  h6_flux73_abs0_surf0_429s - Sheet2_processed.csv  \n",
            "\n",
            "[5 rows x 26 columns]\n"
          ]
        }
      ],
      "source": [
        "# dataframes = []\n",
        "# for fname in os.listdir(DATA_DIR):\n",
        "#     if not fname.endswith(\".csv\"):\n",
        "#         continue\n",
        "\n",
        "#     params = parse_filename_params(fname)\n",
        "#     if params is None or params[3] is None:\n",
        "#         print(\"Skipping (unmatched):\", fname)\n",
        "#         continue\n",
        "\n",
        "#     h_val = params[0]\n",
        "#     if h_val != h_map[6]:  # Only include h6 = 0.1575\n",
        "#         print(\"Skipping (not h6):\", fname)\n",
        "#         continue\n",
        "\n",
        "#     path = os.path.join(DATA_DIR, fname)\n",
        "#     df = load_and_process_file(path, *params,filename=fname)\n",
        "#     dataframes.append(df)\n",
        "#     data = pd.concat(dataframes, ignore_index=True)\n",
        "# print(data.info())\n",
        "# print(data.head())\n"
      ]
    },
    {
      "cell_type": "markdown",
      "metadata": {
        "id": "PhvD7dmJ0Vn9"
      },
      "source": [
        "# Preprocessing"
      ]
    },
    {
      "cell_type": "code",
      "execution_count": 26,
      "metadata": {},
      "outputs": [
        {
          "name": "stdout",
          "output_type": "stream",
          "text": [
            "Train Files: ['h6_flux88_abs0_surf0_689s - Sheet3_processed.csv', 'h6_flux88_abs20_surf0_longRun_612s - Sheet2_processed.csv', 'h6_flux78_abs0_surf0_450s - Sheet3_processed.csv', 'h6_flux88_abs0_surf1_newSalt_573s - Sheet2_processed.csv', 'h2_flux88_abs25_surf0_493s - Sheet1_processed.csv', 'h3_flux88_abs25_surf0_660s-Sheet1_processed.csv', 'h6_flux88_abs20_surf0_longRun_780s - Sheet1_processed.csv', 'h6_flux88_abs92_wr_surf0 _835s- Sheet1_processed.csv', 'h6_flux78_abs0_surf1_newSalt_851s - Sheet2_processed.csv', 'h6_flux88_abs92_surf0_630s - Sheet2_processed.csv', 'h3_flux88_abs90_surf0_692s-Sheet2_processed.csv', 'h6_flux73_abs0_surf1_754s - Sheet3_processed.csv', 'h6_flux88_abs0_surf0_longRun_762s - Sheet1_processed.csv', 'h2_flux88_abs92_surf0_115s - Sheet1_processed.csv', 'h6_flux88_abs20_surf0_389s - Sheet3_processed.csv', 'h6_flux88_abs0_surf0_longRun_643s - Sheet3_processed.csv', 'h2_flux88_abs25_newSalt_surf0_172s - Sheet1_processed.csv', 'h6_flux78_abs0_surf0_523s - Sheet2_processed.csv', 'h6_flux88_abs92_surf0_628s - Sheet4_processed.csv', 'h3_flux88_abs90_surf0_Redone_again_266s-Sheet1_processed.csv', 'h6_flux73_abs0_surf1_868s - Sheet2_processed.csv', 'h6_flux73_abs0_surf0_newSalt_398s - Sheet1_processed.csv', 'h6_flux88_abs20_surf0_651s - Sheet4_processed.csv', 'h6_flux88_abs20_surf0_699s - Sheet1_processed.csv', 'h3_flux88_abs0_surf0_825s-Sheer3_processed.csv', 'h6_flux88_abs0_surf0_longRun_558s - Sheet2_processed.csv', 'h6_flux88_abs0_surf1_790s - Sheet1_processed.csv', 'h3_flux88_abs90_surf0_Redone_640s-Sheet3_processed.csv', 'h2_flux88_abs0_surf0_probeUp_590s - Sheet2_processed.csv', 'h6_flux88_abs0_surf0_389s - Sheet4_processed.csv', 'h6_flux88_abs92_surf0_648s - Sheet3_processed.csv', 'h6_flux73_abs0_surf1_660s - Sheet1_processed.csv', 'h6_flux78_abs0_surf1_newSalt_466s - Sheet1_processed.csv', 'h6_flux73_abs0_surf0_511s - Sheet3_processed.csv', 'h6_flux73_abs0_surf0_868s - Sheet1_processed.csv', 'h6_flux88_abs0_graphDisc_surf0_759s - Sheet1_processed.csv', 'h3_flux88_abs25_wr_surf0_422s-Sheet1_processed.csv', 'h3_flux88_abs25_wr_surf0_746s-Sheet2_processed.csv', 'h2_flux88_abs0_mr_surf0_571s - Sheet1_processed.csv', 'h2_flux88_abs25_newSalt_wr_surf0_123s - Sheet1_processed.csv', 'h6_flux88_abs20_surf1_830s - Sheet2_processed.csv', 'h6_flux88_abs20_wr_surf0_734s - Sheet1_processed.csv', 'h6_flux88_abs20_mr_surf0_537s - Sheet1_processed.csv', 'h3_flux88_abs90_surf0_Redone_again2_398s-Sheet1_processed.csv', 'h3_flux88_abs0_wr_surf0_416s-Sheet1_processed.csv', 'h6_flux88_abs0_mr_surf0_617s - Sheet1_processed.csv', 'h2_flux88_abs25_wr_surf0_393s - Sheet1_processed.csv', 'h6_flux78_abs0_surf1_newSalt_505s - Sheet3_processed.csv', 'h6_flux88_abs20_surf1_675s - Sheet3_processed.csv', 'h3_flux88_abs90_surf0_747s-Sheet3_processed.csv', 'h6_flux88_abs0_surf0_800s - Sheet1_processed.csv', 'h2_flux88_abs92_wr_surf0_215s - Sheet1_processed.csv', 'h6_flux88_abs92_surf0_598s - Sheet1_processed.csv', 'h6_flux78_abs0_surf0_newSalt_641s - Sheet1_processed.csv', 'h6_flux88_abs0_surf1_newSalt_689s - Sheet1_processed.csv', 'h3_flux88_abs25_mr_surf0_796s-Sheet1_processed.csv', 'h3_flux88_abs0_surf0_719s-Sheet1_processed.csv', 'h6_flux88_abs92_mr_surf0_580s - Sheet1_processed.csv', 'h6_flux78_abs0_surf0_745s - Sheet1_processed.csv', 'h6_flux88_abs0_surf1_491s - Sheet3_processed.csv', 'h6_flux88_abs0_wr_surf0_632s - Sheet1_processed.csv', 'h6_flux88_abs0_surf0_800s - Sheet2_processed.csv', 'h6_flux88_abs0_surf1_545s - Sheet2_processed.csv', 'h6_flux88_abs20_surf0_781s - Sheet2_processed.csv', 'h3_flux88_abs90_wr_surf0_529s-Sheet1_processed.csv', 'h2_flux88_abs0_surf0_585s - Sheet2_processed.csv', 'h6_flux73_abs0_surf0_429s - Sheet2_processed.csv', 'h3_flux88_abs90_mr_surf0_506s-Sheet1_processed.csv', 'h6_flux88_abs20_surf1_613s - Sheet1_processed.csv', 'h3_flux88_abs90_surf0_Redone_again3_344s-Sheet1_processed.csv', 'h2_flux88_abs0_wr_surf0_368s - Sheet1_processed.csv', 'h3_flux88_abs0_mr_surf0_635s-Sheet1_processed.csv', 'h2_flux88_abs0_surf0_431s - Sheet1_processed.csv', 'h2_flux88_abs92_surf0_probeUp_193s - Sheet1_processed.csv', 'h3_flux88_abs25_surf0_439s-Sheet2_processed.csv', 'h3_flux88_abs90_surf0_749s-Sheet1_processed.csv', 'h3_flux88_abs0_surf0_644s-Sheet2_processed.csv']\n",
            "Val Files: ['h6_flux88_abs0_surf0_longRun_762s - Sheet1_processed.csv', 'h6_flux73_abs0_surf0_868s - Sheet1_processed.csv', 'h3_flux88_abs25_wr_surf0_422s-Sheet1_processed.csv', 'h3_flux88_abs90_surf0_Redone_again2_398s-Sheet1_processed.csv', 'h6_flux88_abs92_surf0_628s - Sheet4_processed.csv', 'h6_flux88_abs0_surf1_newSalt_573s - Sheet2_processed.csv', 'h6_flux88_abs20_surf0_longRun_780s - Sheet1_processed.csv', 'h6_flux73_abs0_surf1_660s - Sheet1_processed.csv', 'h6_flux88_abs20_surf1_675s - Sheet3_processed.csv', 'h2_flux88_abs0_surf0_probeUp_590s - Sheet2_processed.csv', 'h6_flux88_abs20_wr_surf0_734s - Sheet1_processed.csv', 'h2_flux88_abs0_mr_surf0_571s - Sheet1_processed.csv', 'h6_flux78_abs0_surf0_newSalt_641s - Sheet1_processed.csv', 'h3_flux88_abs0_wr_surf0_416s-Sheet1_processed.csv', 'h6_flux88_abs92_mr_surf0_580s - Sheet1_processed.csv', 'h6_flux88_abs0_graphDisc_surf0_759s - Sheet1_processed.csv', 'h6_flux88_abs20_surf0_651s - Sheet4_processed.csv', 'h6_flux88_abs0_surf0_689s - Sheet3_processed.csv', 'h3_flux88_abs90_surf0_Redone_again_266s-Sheet1_processed.csv', 'h6_flux88_abs0_surf1_545s - Sheet2_processed.csv', 'h2_flux88_abs0_surf0_585s - Sheet2_processed.csv', 'h3_flux88_abs90_surf0_Redone_again3_344s-Sheet1_processed.csv', 'h6_flux88_abs20_surf0_781s - Sheet2_processed.csv', 'h3_flux88_abs0_mr_surf0_635s-Sheet1_processed.csv', 'h6_flux78_abs0_surf1_newSalt_851s - Sheet2_processed.csv', 'h6_flux88_abs0_surf0_389s - Sheet4_processed.csv', 'h3_flux88_abs0_surf0_644s-Sheet2_processed.csv', 'h6_flux73_abs0_surf0_429s - Sheet2_processed.csv', 'h6_flux88_abs0_surf0_longRun_558s - Sheet2_processed.csv', 'h6_flux78_abs0_surf1_newSalt_505s - Sheet3_processed.csv', 'h6_flux88_abs20_surf1_613s - Sheet1_processed.csv', 'h6_flux78_abs0_surf0_523s - Sheet2_processed.csv', 'h6_flux88_abs0_surf0_800s - Sheet2_processed.csv', 'h6_flux78_abs0_surf0_450s - Sheet3_processed.csv', 'h6_flux88_abs20_surf0_longRun_612s - Sheet2_processed.csv', 'h3_flux88_abs90_surf0_Redone_640s-Sheet3_processed.csv', 'h6_flux88_abs92_surf0_648s - Sheet3_processed.csv', 'h2_flux88_abs25_wr_surf0_393s - Sheet1_processed.csv', 'h2_flux88_abs92_surf0_115s - Sheet1_processed.csv', 'h3_flux88_abs90_surf0_692s-Sheet2_processed.csv', 'h6_flux88_abs0_surf0_800s - Sheet1_processed.csv', 'h6_flux88_abs0_surf1_790s - Sheet1_processed.csv', 'h6_flux88_abs0_surf1_newSalt_689s - Sheet1_processed.csv', 'h6_flux88_abs92_surf0_630s - Sheet2_processed.csv', 'h2_flux88_abs25_newSalt_wr_surf0_123s - Sheet1_processed.csv', 'h3_flux88_abs25_wr_surf0_746s-Sheet2_processed.csv', 'h3_flux88_abs90_surf0_749s-Sheet1_processed.csv', 'h3_flux88_abs0_surf0_825s-Sheer3_processed.csv', 'h6_flux88_abs20_surf0_699s - Sheet1_processed.csv', 'h2_flux88_abs25_surf0_493s - Sheet1_processed.csv', 'h6_flux73_abs0_surf0_newSalt_398s - Sheet1_processed.csv', 'h3_flux88_abs90_surf0_747s-Sheet3_processed.csv', 'h2_flux88_abs92_wr_surf0_215s - Sheet1_processed.csv', 'h6_flux88_abs92_surf0_598s - Sheet1_processed.csv', 'h3_flux88_abs90_wr_surf0_529s-Sheet1_processed.csv', 'h6_flux73_abs0_surf1_754s - Sheet3_processed.csv', 'h6_flux88_abs0_wr_surf0_632s - Sheet1_processed.csv', 'h6_flux88_abs0_surf0_longRun_643s - Sheet3_processed.csv', 'h6_flux88_abs92_wr_surf0 _835s- Sheet1_processed.csv', 'h2_flux88_abs92_surf0_probeUp_193s - Sheet1_processed.csv', 'h2_flux88_abs0_wr_surf0_368s - Sheet1_processed.csv', 'h6_flux88_abs20_mr_surf0_537s - Sheet1_processed.csv', 'h2_flux88_abs25_newSalt_surf0_172s - Sheet1_processed.csv', 'h6_flux88_abs20_surf0_389s - Sheet3_processed.csv', 'h6_flux88_abs20_surf1_830s - Sheet2_processed.csv', 'h6_flux78_abs0_surf1_newSalt_466s - Sheet1_processed.csv', 'h6_flux78_abs0_surf0_745s - Sheet1_processed.csv', 'h3_flux88_abs90_mr_surf0_506s-Sheet1_processed.csv', 'h6_flux88_abs0_surf1_491s - Sheet3_processed.csv', 'h3_flux88_abs25_mr_surf0_796s-Sheet1_processed.csv', 'h6_flux73_abs0_surf1_868s - Sheet2_processed.csv', 'h6_flux73_abs0_surf0_511s - Sheet3_processed.csv', 'h3_flux88_abs25_surf0_439s-Sheet2_processed.csv', 'h3_flux88_abs25_surf0_660s-Sheet1_processed.csv', 'h6_flux88_abs0_mr_surf0_617s - Sheet1_processed.csv', 'h2_flux88_abs0_surf0_431s - Sheet1_processed.csv', 'h3_flux88_abs0_surf0_719s-Sheet1_processed.csv']\n",
            "Test Files: ['h6_flux88_abs20_surf0_389s - Sheet3_processed.csv', 'h3_flux88_abs90_mr_surf0_506s-Sheet1_processed.csv', 'h6_flux88_abs20_surf0_longRun_780s - Sheet1_processed.csv', 'h6_flux88_abs20_surf1_613s - Sheet1_processed.csv', 'h6_flux88_abs0_wr_surf0_632s - Sheet1_processed.csv', 'h6_flux88_abs0_surf0_389s - Sheet4_processed.csv', 'h3_flux88_abs0_surf0_644s-Sheet2_processed.csv', 'h6_flux88_abs0_surf0_longRun_558s - Sheet2_processed.csv', 'h6_flux88_abs0_surf1_491s - Sheet3_processed.csv', 'h6_flux88_abs0_graphDisc_surf0_759s - Sheet1_processed.csv', 'h3_flux88_abs25_wr_surf0_422s-Sheet1_processed.csv', 'h6_flux73_abs0_surf1_660s - Sheet1_processed.csv', 'h3_flux88_abs25_wr_surf0_746s-Sheet2_processed.csv', 'h6_flux88_abs20_surf0_longRun_612s - Sheet2_processed.csv', 'h2_flux88_abs0_wr_surf0_368s - Sheet1_processed.csv', 'h3_flux88_abs25_surf0_439s-Sheet2_processed.csv', 'h6_flux73_abs0_surf0_newSalt_398s - Sheet1_processed.csv', 'h6_flux88_abs0_surf0_longRun_762s - Sheet1_processed.csv', 'h6_flux73_abs0_surf0_868s - Sheet1_processed.csv', 'h6_flux78_abs0_surf1_newSalt_851s - Sheet2_processed.csv', 'h6_flux73_abs0_surf0_511s - Sheet3_processed.csv', 'h2_flux88_abs25_newSalt_surf0_172s - Sheet1_processed.csv', 'h6_flux88_abs92_wr_surf0 _835s- Sheet1_processed.csv', 'h6_flux88_abs20_surf0_781s - Sheet2_processed.csv', 'h3_flux88_abs0_surf0_719s-Sheet1_processed.csv', 'h6_flux73_abs0_surf0_429s - Sheet2_processed.csv', 'h6_flux78_abs0_surf0_450s - Sheet3_processed.csv', 'h6_flux88_abs0_surf1_newSalt_689s - Sheet1_processed.csv', 'h2_flux88_abs25_surf0_493s - Sheet1_processed.csv', 'h6_flux73_abs0_surf1_868s - Sheet2_processed.csv', 'h6_flux88_abs0_surf0_689s - Sheet3_processed.csv', 'h6_flux78_abs0_surf0_523s - Sheet2_processed.csv', 'h3_flux88_abs0_mr_surf0_635s-Sheet1_processed.csv', 'h6_flux88_abs20_wr_surf0_734s - Sheet1_processed.csv', 'h6_flux88_abs20_surf0_651s - Sheet4_processed.csv', 'h6_flux88_abs92_surf0_648s - Sheet3_processed.csv', 'h6_flux88_abs92_mr_surf0_580s - Sheet1_processed.csv', 'h6_flux88_abs92_surf0_628s - Sheet4_processed.csv', 'h6_flux88_abs0_mr_surf0_617s - Sheet1_processed.csv', 'h3_flux88_abs90_surf0_Redone_640s-Sheet3_processed.csv', 'h6_flux88_abs0_surf0_800s - Sheet1_processed.csv', 'h6_flux88_abs92_surf0_630s - Sheet2_processed.csv', 'h3_flux88_abs90_surf0_692s-Sheet2_processed.csv', 'h3_flux88_abs25_surf0_660s-Sheet1_processed.csv', 'h3_flux88_abs90_surf0_749s-Sheet1_processed.csv', 'h2_flux88_abs92_surf0_probeUp_193s - Sheet1_processed.csv', 'h3_flux88_abs0_wr_surf0_416s-Sheet1_processed.csv', 'h2_flux88_abs0_surf0_585s - Sheet2_processed.csv', 'h6_flux78_abs0_surf0_newSalt_641s - Sheet1_processed.csv', 'h6_flux88_abs0_surf0_longRun_643s - Sheet3_processed.csv', 'h2_flux88_abs92_surf0_115s - Sheet1_processed.csv', 'h6_flux88_abs20_mr_surf0_537s - Sheet1_processed.csv', 'h6_flux78_abs0_surf0_745s - Sheet1_processed.csv', 'h3_flux88_abs0_surf0_825s-Sheer3_processed.csv', 'h6_flux78_abs0_surf1_newSalt_505s - Sheet3_processed.csv', 'h3_flux88_abs90_surf0_Redone_again_266s-Sheet1_processed.csv', 'h6_flux78_abs0_surf1_newSalt_466s - Sheet1_processed.csv', 'h6_flux73_abs0_surf1_754s - Sheet3_processed.csv', 'h2_flux88_abs0_surf0_probeUp_590s - Sheet2_processed.csv', 'h3_flux88_abs90_wr_surf0_529s-Sheet1_processed.csv', 'h6_flux88_abs0_surf0_800s - Sheet2_processed.csv', 'h6_flux88_abs0_surf1_790s - Sheet1_processed.csv', 'h6_flux88_abs20_surf1_675s - Sheet3_processed.csv', 'h2_flux88_abs92_wr_surf0_215s - Sheet1_processed.csv', 'h2_flux88_abs25_newSalt_wr_surf0_123s - Sheet1_processed.csv', 'h2_flux88_abs25_wr_surf0_393s - Sheet1_processed.csv', 'h6_flux88_abs20_surf1_830s - Sheet2_processed.csv', 'h6_flux88_abs0_surf1_545s - Sheet2_processed.csv', 'h3_flux88_abs90_surf0_747s-Sheet3_processed.csv', 'h2_flux88_abs0_surf0_431s - Sheet1_processed.csv', 'h3_flux88_abs90_surf0_Redone_again2_398s-Sheet1_processed.csv', 'h6_flux88_abs20_surf0_699s - Sheet1_processed.csv', 'h6_flux88_abs0_surf1_newSalt_573s - Sheet2_processed.csv', 'h6_flux88_abs92_surf0_598s - Sheet1_processed.csv', 'h3_flux88_abs90_surf0_Redone_again3_344s-Sheet1_processed.csv', 'h3_flux88_abs25_mr_surf0_796s-Sheet1_processed.csv', 'h2_flux88_abs0_mr_surf0_571s - Sheet1_processed.csv']\n"
          ]
        }
      ],
      "source": [
        "# Preprocessing\n",
        "theory_cols = [c for c in data.columns if c.startswith(\"Theoretical_Temps_\")]\n",
        "filenames = data[\"filename\"].reset_index(drop=True)\n",
        "X = data[[\"Time\", \"h\", \"flux\", \"abs\", \"surf\"] + theory_cols].copy()\n",
        "X[\"filename\"] = filenames\n",
        "y = data.drop(columns=[\"Time\", \"h\", \"flux\", \"abs\", \"surf\"] + theory_cols + [\"filename\"], errors='ignore')\n",
        "y_columns = y.columns\n",
        "\n",
        "X_train_raw, X_temp_raw, y_train_raw, y_temp_raw = train_test_split(\n",
        "    X.drop(columns=\"filename\"), y, test_size=0.3, random_state=SEED\n",
        ")\n",
        "X_val_raw, X_test_raw, y_val_raw, y_test_raw = train_test_split(\n",
        "    X_temp_raw, y_temp_raw, test_size=0.5, random_state=SEED\n",
        ")\n",
        "\n",
        "train_filenames = X.loc[X_train_raw.index, \"filename\"].unique().tolist()\n",
        "val_filenames = X.loc[X_val_raw.index, \"filename\"].unique().tolist()\n",
        "test_filenames = X.loc[X_test_raw.index, \"filename\"].unique().tolist()\n",
        "\n",
        "print(\"Train Files:\", train_filenames)\n",
        "print(\"Val Files:\", val_filenames)\n",
        "print(\"Test Files:\", test_filenames)\n",
        "\n",
        "# Scaling\n",
        "X_scaler = MinMaxScaler()\n",
        "X_train_scaled = X_scaler.fit_transform(X_train_raw)\n",
        "X_val_scaled = X_scaler.transform(X_val_raw)\n",
        "X_test_scaled = X_scaler.transform(X_test_raw)\n",
        "\n",
        "y_scaler = MinMaxScaler()\n",
        "y_train_scaled = y_scaler.fit_transform(y_train_raw)\n",
        "y_val_scaled = y_scaler.transform(y_val_raw)\n",
        "y_test_scaled = y_scaler.transform(y_test_raw)\n",
        "\n",
        "joblib.dump(X_scaler, \"X_scaler.pkl\")\n",
        "joblib.dump(y_scaler, \"y_scaler.pkl\")\n",
        "\n",
        "# Convert to tensors and create DataLoader\n",
        "train_dataset = TensorDataset(torch.tensor(X_train_scaled, dtype=torch.float32), torch.tensor(y_train_scaled, dtype=torch.float32))\n",
        "val_dataset = TensorDataset(torch.tensor(X_val_scaled, dtype=torch.float32), torch.tensor(y_val_scaled, dtype=torch.float32))\n",
        "test_dataset = TensorDataset(torch.tensor(X_test_scaled, dtype=torch.float32), torch.tensor(y_test_scaled, dtype=torch.float32))\n",
        "\n",
        "train_loader = DataLoader(train_dataset, batch_size=64, shuffle=True)\n",
        "val_loader = DataLoader(val_dataset, batch_size=64, shuffle=False)\n",
        "test_loader = DataLoader(test_dataset, batch_size=64, shuffle=False)"
      ]
    },
    {
      "cell_type": "code",
      "execution_count": null,
      "metadata": {
        "id": "kNe4WtPR0Vn-"
      },
      "outputs": [
        {
          "name": "stdout",
          "output_type": "stream",
          "text": [
            "Train Files: ['h6_flux88_abs20_surf1_675s - Sheet3_processed.csv', 'h6_flux88_abs0_surf0_longRun_762s - Sheet1_processed.csv', 'h6_flux73_abs0_surf0_429s - Sheet2_processed.csv', 'h6_flux88_abs20_surf0_389s - Sheet3_processed.csv', 'h6_flux88_abs92_surf0_598s - Sheet1_processed.csv', 'h6_flux73_abs0_surf0_511s - Sheet3_processed.csv', 'h6_flux88_abs0_surf1_790s - Sheet1_processed.csv', 'h6_flux88_abs0_surf0_longRun_558s - Sheet2_processed.csv', 'h6_flux88_abs20_surf1_613s - Sheet1_processed.csv', 'h6_flux73_abs0_surf1_754s - Sheet3_processed.csv', 'h6_flux88_abs0_surf0_800s - Sheet2_processed.csv', 'h6_flux88_abs92_mr_surf0_580s - Sheet1_processed.csv', 'h6_flux78_abs0_surf1_newSalt_466s - Sheet1_processed.csv', 'h6_flux88_abs92_surf0_630s - Sheet2_processed.csv', 'h6_flux88_abs0_surf1_newSalt_573s - Sheet2_processed.csv', 'h6_flux88_abs20_surf0_781s - Sheet2_processed.csv', 'h6_flux88_abs20_surf0_longRun_612s - Sheet2_processed.csv', 'h6_flux88_abs0_surf0_800s - Sheet1_processed.csv', 'h6_flux88_abs20_surf0_longRun_780s - Sheet1_processed.csv', 'h6_flux88_abs0_surf0_689s - Sheet3_processed.csv', 'h6_flux88_abs0_graphDisc_surf0_759s - Sheet1_processed.csv', 'h6_flux73_abs0_surf1_868s - Sheet2_processed.csv', 'h6_flux73_abs0_surf1_660s - Sheet1_processed.csv', 'h6_flux88_abs92_wr_surf0 _835s- Sheet1_processed.csv', 'h6_flux88_abs0_surf1_491s - Sheet3_processed.csv', 'h6_flux73_abs0_surf0_newSalt_398s - Sheet1_processed.csv', 'h6_flux78_abs0_surf0_450s - Sheet3_processed.csv', 'h6_flux88_abs20_mr_surf0_537s - Sheet1_processed.csv', 'h6_flux88_abs0_wr_surf0_632s - Sheet1_processed.csv', 'h6_flux88_abs20_wr_surf0_734s - Sheet1_processed.csv', 'h6_flux88_abs0_surf0_longRun_643s - Sheet3_processed.csv', 'h6_flux88_abs0_surf1_newSalt_689s - Sheet1_processed.csv', 'h6_flux78_abs0_surf0_newSalt_641s - Sheet1_processed.csv', 'h6_flux88_abs0_surf0_389s - Sheet4_processed.csv', 'h6_flux78_abs0_surf0_745s - Sheet1_processed.csv', 'h6_flux88_abs92_surf0_648s - Sheet3_processed.csv', 'h6_flux88_abs20_surf0_699s - Sheet1_processed.csv', 'h6_flux88_abs0_surf1_545s - Sheet2_processed.csv', 'h6_flux73_abs0_surf0_868s - Sheet1_processed.csv', 'h6_flux78_abs0_surf0_523s - Sheet2_processed.csv', 'h6_flux78_abs0_surf1_newSalt_505s - Sheet3_processed.csv', 'h6_flux88_abs92_surf0_628s - Sheet4_processed.csv', 'h6_flux78_abs0_surf1_newSalt_851s - Sheet2_processed.csv', 'h6_flux88_abs20_surf1_830s - Sheet2_processed.csv', 'h6_flux88_abs0_mr_surf0_617s - Sheet1_processed.csv', 'h6_flux88_abs20_surf0_651s - Sheet4_processed.csv']\n",
            "Val Files: ['h6_flux88_abs0_surf0_longRun_762s - Sheet1_processed.csv', 'h6_flux88_abs0_surf0_longRun_558s - Sheet2_processed.csv', 'h6_flux88_abs0_surf0_800s - Sheet2_processed.csv', 'h6_flux88_abs20_surf0_longRun_780s - Sheet1_processed.csv', 'h6_flux88_abs0_surf0_389s - Sheet4_processed.csv', 'h6_flux88_abs0_surf0_longRun_643s - Sheet3_processed.csv', 'h6_flux73_abs0_surf0_868s - Sheet1_processed.csv', 'h6_flux88_abs0_surf1_491s - Sheet3_processed.csv', 'h6_flux88_abs92_surf0_628s - Sheet4_processed.csv', 'h6_flux78_abs0_surf1_newSalt_466s - Sheet1_processed.csv', 'h6_flux88_abs20_surf0_651s - Sheet4_processed.csv', 'h6_flux88_abs20_surf0_longRun_612s - Sheet2_processed.csv', 'h6_flux88_abs0_surf0_800s - Sheet1_processed.csv', 'h6_flux78_abs0_surf0_newSalt_641s - Sheet1_processed.csv', 'h6_flux88_abs92_surf0_630s - Sheet2_processed.csv', 'h6_flux73_abs0_surf0_511s - Sheet3_processed.csv', 'h6_flux78_abs0_surf0_450s - Sheet3_processed.csv', 'h6_flux88_abs0_mr_surf0_617s - Sheet1_processed.csv', 'h6_flux88_abs92_surf0_598s - Sheet1_processed.csv', 'h6_flux88_abs20_surf0_699s - Sheet1_processed.csv', 'h6_flux73_abs0_surf1_754s - Sheet3_processed.csv', 'h6_flux88_abs0_surf0_689s - Sheet3_processed.csv', 'h6_flux88_abs92_mr_surf0_580s - Sheet1_processed.csv', 'h6_flux88_abs0_surf1_newSalt_573s - Sheet2_processed.csv', 'h6_flux88_abs20_surf1_613s - Sheet1_processed.csv', 'h6_flux88_abs20_surf0_389s - Sheet3_processed.csv', 'h6_flux88_abs0_surf1_newSalt_689s - Sheet1_processed.csv', 'h6_flux78_abs0_surf1_newSalt_851s - Sheet2_processed.csv', 'h6_flux78_abs0_surf0_523s - Sheet2_processed.csv', 'h6_flux88_abs20_surf0_781s - Sheet2_processed.csv', 'h6_flux88_abs0_surf1_545s - Sheet2_processed.csv', 'h6_flux88_abs92_surf0_648s - Sheet3_processed.csv', 'h6_flux88_abs92_wr_surf0 _835s- Sheet1_processed.csv', 'h6_flux73_abs0_surf1_868s - Sheet2_processed.csv', 'h6_flux88_abs0_surf1_790s - Sheet1_processed.csv', 'h6_flux73_abs0_surf0_429s - Sheet2_processed.csv', 'h6_flux88_abs0_graphDisc_surf0_759s - Sheet1_processed.csv', 'h6_flux88_abs20_surf1_830s - Sheet2_processed.csv', 'h6_flux88_abs0_wr_surf0_632s - Sheet1_processed.csv', 'h6_flux73_abs0_surf0_newSalt_398s - Sheet1_processed.csv', 'h6_flux78_abs0_surf1_newSalt_505s - Sheet3_processed.csv', 'h6_flux73_abs0_surf1_660s - Sheet1_processed.csv', 'h6_flux78_abs0_surf0_745s - Sheet1_processed.csv', 'h6_flux88_abs20_surf1_675s - Sheet3_processed.csv', 'h6_flux88_abs20_mr_surf0_537s - Sheet1_processed.csv', 'h6_flux88_abs20_wr_surf0_734s - Sheet1_processed.csv']\n",
            "Test Files: ['h6_flux88_abs20_wr_surf0_734s - Sheet1_processed.csv', 'h6_flux73_abs0_surf0_868s - Sheet1_processed.csv', 'h6_flux88_abs0_surf0_800s - Sheet2_processed.csv', 'h6_flux88_abs0_wr_surf0_632s - Sheet1_processed.csv', 'h6_flux88_abs0_surf0_longRun_558s - Sheet2_processed.csv', 'h6_flux73_abs0_surf0_429s - Sheet2_processed.csv', 'h6_flux88_abs20_surf1_830s - Sheet2_processed.csv', 'h6_flux88_abs0_surf1_545s - Sheet2_processed.csv', 'h6_flux88_abs20_surf0_longRun_780s - Sheet1_processed.csv', 'h6_flux88_abs0_mr_surf0_617s - Sheet1_processed.csv', 'h6_flux88_abs20_surf0_699s - Sheet1_processed.csv', 'h6_flux88_abs0_surf0_389s - Sheet4_processed.csv', 'h6_flux88_abs0_surf0_689s - Sheet3_processed.csv', 'h6_flux78_abs0_surf1_newSalt_505s - Sheet3_processed.csv', 'h6_flux88_abs20_surf0_longRun_612s - Sheet2_processed.csv', 'h6_flux78_abs0_surf0_745s - Sheet1_processed.csv', 'h6_flux88_abs0_surf1_491s - Sheet3_processed.csv', 'h6_flux88_abs20_surf0_651s - Sheet4_processed.csv', 'h6_flux88_abs0_surf1_newSalt_573s - Sheet2_processed.csv', 'h6_flux73_abs0_surf1_868s - Sheet2_processed.csv', 'h6_flux73_abs0_surf0_newSalt_398s - Sheet1_processed.csv', 'h6_flux88_abs20_mr_surf0_537s - Sheet1_processed.csv', 'h6_flux78_abs0_surf1_newSalt_466s - Sheet1_processed.csv', 'h6_flux78_abs0_surf0_newSalt_641s - Sheet1_processed.csv', 'h6_flux88_abs0_surf0_longRun_762s - Sheet1_processed.csv', 'h6_flux88_abs92_surf0_598s - Sheet1_processed.csv', 'h6_flux88_abs92_surf0_628s - Sheet4_processed.csv', 'h6_flux88_abs0_surf1_newSalt_689s - Sheet1_processed.csv', 'h6_flux88_abs92_mr_surf0_580s - Sheet1_processed.csv', 'h6_flux88_abs20_surf0_781s - Sheet2_processed.csv', 'h6_flux88_abs92_surf0_630s - Sheet2_processed.csv', 'h6_flux78_abs0_surf0_450s - Sheet3_processed.csv', 'h6_flux73_abs0_surf1_754s - Sheet3_processed.csv', 'h6_flux88_abs92_surf0_648s - Sheet3_processed.csv', 'h6_flux88_abs0_surf0_longRun_643s - Sheet3_processed.csv', 'h6_flux88_abs92_wr_surf0 _835s- Sheet1_processed.csv', 'h6_flux88_abs20_surf1_675s - Sheet3_processed.csv', 'h6_flux88_abs0_surf1_790s - Sheet1_processed.csv', 'h6_flux88_abs0_graphDisc_surf0_759s - Sheet1_processed.csv', 'h6_flux88_abs0_surf0_800s - Sheet1_processed.csv', 'h6_flux73_abs0_surf0_511s - Sheet3_processed.csv', 'h6_flux78_abs0_surf1_newSalt_851s - Sheet2_processed.csv', 'h6_flux78_abs0_surf0_523s - Sheet2_processed.csv', 'h6_flux73_abs0_surf1_660s - Sheet1_processed.csv', 'h6_flux88_abs20_surf1_613s - Sheet1_processed.csv', 'h6_flux88_abs20_surf0_389s - Sheet3_processed.csv']\n"
          ]
        }
      ],
      "source": [
        "# # Use if u want to see the filenames for each section of train,validation and test\n",
        "\n",
        "\n",
        "# # 1. Extract input (X) and output (y) columns\n",
        "# theory_cols = [c for c in data.columns if c.startswith(\"Theoretical_Temps_\")]\n",
        "# # Store filename separately\n",
        "# filenames = data[\"filename\"].reset_index(drop=True)\n",
        "\n",
        "# # Drop filename before assigning to X and y\n",
        "# X = data[[\"Time\", \"h\", \"flux\", \"abs\", \"surf\"] + theory_cols].copy()\n",
        "# X[\"filename\"] = filenames  # only attach to X, not y\n",
        "\n",
        "# y = data.drop(columns=[\"Time\", \"h\", \"flux\", \"abs\", \"surf\"] + theory_cols + [\"filename\"], errors='ignore')\n",
        "\n",
        "\n",
        "# X_train_raw, X_temp_raw, y_train_raw, y_temp_raw = train_test_split(\n",
        "#     X.drop(columns=\"filename\"), y, test_size=0.3, random_state=SEED\n",
        "# )\n",
        "# X_val_raw, X_test_raw, y_val_raw, y_test_raw = train_test_split(\n",
        "#     X_temp_raw, y_temp_raw, test_size=0.5, random_state=SEED\n",
        "# )\n",
        "\n",
        "# train_filenames = X.loc[X_train_raw.index, \"filename\"].unique().tolist()\n",
        "# val_filenames   = X.loc[X_val_raw.index, \"filename\"].unique().tolist()\n",
        "# test_filenames  = X.loc[X_test_raw.index, \"filename\"].unique().tolist()\n",
        "\n",
        "# print(\"Train Files:\", train_filenames)\n",
        "# print(\"Val Files:\", val_filenames)\n",
        "# print(\"Test Files:\", test_filenames)\n",
        "\n",
        "\n",
        "# # 2. Split into train, val, test before scaling\n",
        "# # X_train_raw, X_temp_raw, y_train_raw, y_temp_raw = train_test_split(X, y, test_size=0.3, random_state=SEED)\n",
        "# # X_val_raw, X_test_raw, y_val_raw, y_test_raw = train_test_split(X_temp_raw, y_temp_raw, test_size=0.5, random_state=SEED)\n",
        "\n",
        "# # 3. Scale using only training set statistics\n",
        "# X_scaler = MinMaxScaler()\n",
        "# X_train_scaled = X_scaler.fit_transform(X_train_raw)\n",
        "# X_val_scaled   = X_scaler.transform(X_val_raw)\n",
        "# X_test_scaled  = X_scaler.transform(X_test_raw)\n",
        "\n",
        "# y_scaler = MinMaxScaler()\n",
        "# y_train_scaled = y_scaler.fit_transform(y_train_raw)\n",
        "# y_val_scaled   = y_scaler.transform(y_val_raw)\n",
        "# y_test_scaled  = y_scaler.transform(y_test_raw)\n",
        "\n",
        "# joblib.dump(X_scaler, \"X_scaler.pkl\")\n",
        "# joblib.dump(y_scaler, \"y_scaler.pkl\")\n",
        "\n",
        "# # 4. Convert to PyTorch tensors for training\n",
        "# X_train = torch.tensor(X_train_scaled, dtype=torch.float32)\n",
        "# X_val   = torch.tensor(X_val_scaled, dtype=torch.float32)\n",
        "# X_test  = torch.tensor(X_test_scaled, dtype=torch.float32)\n",
        "\n",
        "# y_train = torch.tensor(y_train_scaled, dtype=torch.float32)\n",
        "# y_val   = torch.tensor(y_val_scaled, dtype=torch.float32)\n",
        "# y_test  = torch.tensor(y_test_scaled, dtype=torch.float32)\n"
      ]
    },
    {
      "cell_type": "markdown",
      "metadata": {
        "id": "BqsJsRau0Vn_"
      },
      "source": [
        "# Model"
      ]
    },
    {
      "cell_type": "code",
      "execution_count": null,
      "metadata": {
        "id": "XYdshwqi0Vn_"
      },
      "outputs": [],
      "source": [
        "# class EnhancedThermalNet(nn.Module):\n",
        "#     def __init__(self, input_size, output_size):\n",
        "#         super().__init__()\n",
        "        \n",
        "#         # Enhanced architecture with SiLU activation and better initialization\n",
        "#         self.net = nn.Sequential(\n",
        "#             nn.Linear(input_size, 256),\n",
        "#             nn.SiLU(),\n",
        "#             nn.BatchNorm1d(256),\n",
        "#             nn.Dropout(0.3),\n",
        "            \n",
        "#             nn.Linear(256, 512),\n",
        "#             nn.SiLU(),\n",
        "#             nn.BatchNorm1d(512),\n",
        "#             nn.Dropout(0.3),\n",
        "            \n",
        "#             nn.Linear(512,256),\n",
        "#             nn.SiLU(),\n",
        "#             nn.BatchNorm1d(256),\n",
        "#             nn.Dropout(0.2),\n",
        "            \n",
        "#             nn.Linear(256,128),\n",
        "#             nn.SiLU(),\n",
        "            \n",
        "#             nn.Linear(128, output_size)\n",
        "#         )\n",
        "        \n",
        "#         # Add Softplus for positive outputs\n",
        "#         self.activation = nn.Softplus(beta=1, threshold=20)\n",
        "    \n",
        "#     def forward(self, x):\n",
        "#         return self.net(x)"
      ]
    },
    {
      "cell_type": "code",
      "execution_count": 27,
      "metadata": {},
      "outputs": [],
      "source": [
        "# Model with SiLU and Corrected Residual Connection\n",
        "class EnhancedThermalNet(nn.Module):\n",
        "    def __init__(self, input_size, output_size):\n",
        "        super().__init__()\n",
        "        self.input_layer = nn.Linear(input_size, 512)\n",
        "        self.bn1 = nn.BatchNorm1d(512)\n",
        "        self.silu = nn.SiLU()\n",
        "        self.dropout = nn.Dropout(0.3)\n",
        "\n",
        "        self.layer1 = nn.Linear(512, 256)\n",
        "        self.bn2 = nn.BatchNorm1d(256)\n",
        "        self.layer2 = nn.Linear(256, 256)\n",
        "        self.bn3 = nn.BatchNorm1d(256)\n",
        "        self.layer3 = nn.Linear(256, 128)\n",
        "        self.bn4 = nn.BatchNorm1d(128)\n",
        "        self.output_layer = nn.Linear(128, output_size)\n",
        "\n",
        "        # Projection layer for residual connection\n",
        "        self.residual_proj = nn.Linear(512, 256)\n",
        "\n",
        "        self._initialize_weights()\n",
        "\n",
        "    def _initialize_weights(self):\n",
        "        for m in self.modules():\n",
        "            if isinstance(m, nn.Linear):\n",
        "                nn.init.xavier_normal_(m.weight)\n",
        "                if m.bias is not None:\n",
        "                    nn.init.constant_(m.bias, 0)\n",
        "\n",
        "    def forward(self, x):\n",
        "        # Initial transformation\n",
        "        x = self.silu(self.bn1(self.input_layer(x)))\n",
        "        residual = self.residual_proj(x)  # Project residual to 256 dimensions\n",
        "        x = self.dropout(x)\n",
        "        \n",
        "        # Main path\n",
        "        x = self.silu(self.bn2(self.layer1(x)))\n",
        "        x = self.silu(self.bn3(self.layer2(x)))\n",
        "        x = x + residual  # Residual connection\n",
        "        x = self.dropout(x)\n",
        "        \n",
        "        x = self.silu(self.bn4(self.layer3(x)))\n",
        "        x = self.output_layer(x)\n",
        "        return x\n"
      ]
    },
    {
      "cell_type": "markdown",
      "metadata": {
        "id": "pyN5g_Pe0Vn_"
      },
      "source": [
        "# Training"
      ]
    },
    {
      "cell_type": "code",
      "execution_count": 28,
      "metadata": {},
      "outputs": [
        {
          "name": "stdout",
          "output_type": "stream",
          "text": [
            "Epoch [50/1000] Train Loss: 0.007626 Val Loss: 0.008188\n",
            "Epoch [100/1000] Train Loss: 0.007411 Val Loss: 0.007937\n",
            "Epoch [150/1000] Train Loss: 0.007550 Val Loss: 0.008075\n",
            "Early stopping at epoch 166\n"
          ]
        },
        {
          "data": {
            "text/plain": [
              "<All keys matched successfully>"
            ]
          },
          "execution_count": 28,
          "metadata": {},
          "output_type": "execute_result"
        }
      ],
      "source": [
        "# Training Setup\n",
        "device = torch.device('cuda' if torch.cuda.is_available() else 'cpu')\n",
        "input_size = X_train_scaled.shape[1]\n",
        "output_size = y_train_scaled.shape[1]\n",
        "model = EnhancedThermalNet(input_size, output_size).to(device)\n",
        "\n",
        "optimizer = optim.AdamW(model.parameters(), lr=0.001, weight_decay=1e-4)\n",
        "scheduler = optim.lr_scheduler.CosineAnnealingLR(optimizer, T_max=100)\n",
        "\n",
        "class EnhancedLoss(nn.Module):\n",
        "    def __init__(self, smoothness_lambda=0.001):\n",
        "        super().__init__()\n",
        "        self.mse_loss = nn.MSELoss()\n",
        "        self.smoothness_lambda = smoothness_lambda\n",
        "\n",
        "    def forward(self, preds, targets):\n",
        "        mse = self.mse_loss(preds, targets)\n",
        "        smoothness = torch.mean(torch.abs(preds[:, 1:] - preds[:, :-1]))\n",
        "        return mse + self.smoothness_lambda * smoothness\n",
        "\n",
        "criterion = EnhancedLoss()\n",
        "\n",
        "# Training Loop\n",
        "EPOCHS = 1000\n",
        "best_val_loss = float('inf')\n",
        "patience = 50\n",
        "patience_counter = 0\n",
        "train_losses = []\n",
        "val_losses = []\n",
        "\n",
        "for epoch in range(EPOCHS):\n",
        "    model.train()\n",
        "    train_loss_epoch = 0\n",
        "    for X_batch, y_batch in train_loader:\n",
        "        X_batch, y_batch = X_batch.to(device), y_batch.to(device)\n",
        "        optimizer.zero_grad()\n",
        "        predictions = model(X_batch)\n",
        "        train_loss = criterion(predictions, y_batch)\n",
        "        train_loss.backward()\n",
        "        torch.nn.utils.clip_grad_norm_(model.parameters(), max_norm=1.0)\n",
        "        optimizer.step()\n",
        "        train_loss_epoch += train_loss.item()\n",
        "    \n",
        "    train_loss_epoch /= len(train_loader)\n",
        "    \n",
        "    model.eval()\n",
        "    val_loss_epoch = 0\n",
        "    with torch.no_grad():\n",
        "        for X_batch, y_batch in val_loader:\n",
        "            X_batch, y_batch = X_batch.to(device), y_batch.to(device)\n",
        "            val_preds = model(X_batch)\n",
        "            val_loss = criterion(val_preds, y_batch)\n",
        "            val_loss_epoch += val_loss.item()\n",
        "    \n",
        "    val_loss_epoch /= len(val_loader)\n",
        "    scheduler.step()\n",
        "\n",
        "    train_losses.append(train_loss_epoch)\n",
        "    val_losses.append(val_loss_epoch)\n",
        "\n",
        "    if val_loss_epoch < best_val_loss:\n",
        "        best_val_loss = val_loss_epoch\n",
        "        patience_counter = 0\n",
        "        torch.save({\n",
        "            'epoch': epoch,\n",
        "            'model_state_dict': model.state_dict(),\n",
        "            'optimizer_state_dict': optimizer.state_dict(),\n",
        "            'loss': best_val_loss,\n",
        "        }, 'best_model_checkpoint.pth')\n",
        "    else:\n",
        "        patience_counter += 1\n",
        "        if patience_counter >= patience:\n",
        "            print(f\"Early stopping at epoch {epoch}\")\n",
        "            break\n",
        "\n",
        "    if (epoch + 1) % 50 == 0:\n",
        "        print(f\"Epoch [{epoch+1}/{EPOCHS}] Train Loss: {train_loss_epoch:.6f} Val Loss: {val_loss_epoch:.6f}\")\n",
        "\n",
        "# Load best model\n",
        "checkpoint = torch.load('best_model_checkpoint.pth')\n",
        "model.load_state_dict(checkpoint['model_state_dict'])"
      ]
    },
    {
      "cell_type": "markdown",
      "metadata": {
        "id": "X6RMSCgq0VoA"
      },
      "source": [
        "# Evaluation"
      ]
    },
    {
      "cell_type": "code",
      "execution_count": 29,
      "metadata": {
        "colab": {
          "base_uri": "https://localhost:8080/"
        },
        "id": "Ltk47Zh-0VoB",
        "outputId": "e8fc3bc0-07ba-4f71-b206-15ac19047b28"
      },
      "outputs": [
        {
          "name": "stdout",
          "output_type": "stream",
          "text": [
            "\n",
            "=== Comprehensive Evaluation ===\n",
            "Sensor          RMSE (°C)    MAE (°C)     R² Score    \n",
            "TC1_tip         29.691       8.117        0.229       \n",
            "TC2             29.415       7.749        0.231       \n",
            "TC3             29.979       8.544        0.226       \n",
            "TC4             29.646       8.651        0.741       \n",
            "TC5             29.518       8.842        0.839       \n",
            "TC6             29.424       9.025        0.888       \n",
            "TC7             29.778       9.349        0.914       \n",
            "TC8             30.550       10.171       0.927       \n",
            "TC9             31.966       12.419       0.928       \n",
            "TC10            33.944       16.815       0.902       \n",
            "\n",
            "Average RMSE: 30.391 °C\n",
            "Average MAE: 9.968 °C\n",
            "Average R²: 0.683\n"
          ]
        }
      ],
      "source": [
        "# Evaluation\n",
        "def evaluate_model(model, loader, scaler):\n",
        "    model.eval()\n",
        "    preds = []\n",
        "    y_true = []\n",
        "    with torch.no_grad():\n",
        "        for X_batch, y_batch in loader:\n",
        "            X_batch = X_batch.to(device)\n",
        "            pred = model(X_batch).cpu().numpy()\n",
        "            preds.append(pred)\n",
        "            y_true.append(y_batch.numpy())\n",
        "    \n",
        "    preds = np.concatenate(preds)\n",
        "    y_true = np.concatenate(y_true)\n",
        "    preds_real = scaler.inverse_transform(preds)\n",
        "    y_real = scaler.inverse_transform(y_true)\n",
        "    rmse = np.sqrt(np.mean((preds_real - y_real) ** 2, axis=0))\n",
        "    mae = np.mean(np.abs(preds_real - y_real), axis=0)\n",
        "    y_mean = np.mean(y_real, axis=0)\n",
        "    ss_tot = np.sum((y_real - y_mean) ** 2, axis=0)\n",
        "    ss_res = np.sum((y_real - preds_real) ** 2, axis=0)\n",
        "    r2 = 1 - (ss_res / (ss_tot + 1e-8))\n",
        "    return preds_real, y_real, rmse, mae, r2\n",
        "\n",
        "preds_real, y_real, rmse, mae, r2 = evaluate_model(model, test_loader, y_scaler)\n",
        "\n",
        "print(\"\\n=== Comprehensive Evaluation ===\")\n",
        "print(f\"{'Sensor':<15} {'RMSE (°C)':<12} {'MAE (°C)':<12} {'R² Score':<12}\")\n",
        "for i, col in enumerate(y_columns):\n",
        "    print(f\"{col:<15} {rmse[i]:<12.3f} {mae[i]:<12.3f} {r2[i]:<12.3f}\")\n",
        "print(f\"\\nAverage RMSE: {np.mean(rmse):.3f} °C\")\n",
        "print(f\"Average MAE: {np.mean(mae):.3f} °C\")\n",
        "print(f\"Average R²: {np.mean(r2):.3f}\")"
      ]
    },
    {
      "cell_type": "markdown",
      "metadata": {
        "id": "1pMWK_uV0VoC"
      },
      "source": [
        "<!-- ----------------------------------------------------------------------------------------------------------------------------------- -->"
      ]
    },
    {
      "cell_type": "code",
      "execution_count": 30,
      "metadata": {},
      "outputs": [
        {
          "data": {
            "image/png": "[encoded data removed]",
            "text/plain": [
              "<Figure size 1000x600 with 1 Axes>"
            ]
          },
          "metadata": {},
          "output_type": "display_data"
        }
      ],
      "source": [
        "plt.figure(figsize=(10, 6))\n",
        "plt.plot(train_losses, label='Train Loss', color='blue')\n",
        "plt.plot(val_losses, label='Validation Loss', color='orange')\n",
        "plt.xlabel('Epoch')\n",
        "plt.ylabel('Loss')\n",
        "plt.title('Training and Validation Loss over Epochs')\n",
        "plt.legend()\n",
        "plt.grid(True)\n",
        "plt.show()\n"
      ]
    },
    {
      "cell_type": "code",
      "execution_count": 31,
      "metadata": {},
      "outputs": [],
      "source": [
        "def check_and_clip_input(input_df, scaler):\n",
        "    min_vals = scaler.data_min_\n",
        "    max_vals = scaler.data_max_\n",
        "    columns = scaler.feature_names_in_\n",
        "    clipped = False\n",
        "    for i, col in enumerate(columns):\n",
        "        val = input_df.iloc[0, i]\n",
        "        if val < min_vals[i] or val > max_vals[i]:\n",
        "            print(f\"Warning: '{col}' value {val} is out of range [{min_vals[i]}, {max_vals[i]}]. Clipping.\")\n",
        "            input_df.iloc[0, i] = min(max(val, min_vals[i]), max_vals[i])\n",
        "            clipped = True\n",
        "    if not clipped:\n",
        "        print(\"All input values are within the training range.\")\n",
        "    return input_df"
      ]
    },
    {
      "cell_type": "code",
      "execution_count": 32,
      "metadata": {},
      "outputs": [
        {
          "name": "stdout",
          "output_type": "stream",
          "text": [
            "All input values are within the training range.\n",
            "\n",
            "Predicted Temperatures: [355.2514343261719, 356.61138916015625, 358.7702941894531, 360.8740539550781, 361.59423828125, 365.1515197753906, 364.3194274902344, 365.9534912109375, 365.2297058105469, 347.08880615234375]\n"
          ]
        }
      ],
      "source": [
        "# Use a sample from the dataset for inference\n",
        "new_input = [[734, 0.1575, 25900, 20, 0.98] + [329.386266207629, 352.551499568358, 352.553759702364, 350.275738614983, 339.497145930202, 329.185115858301, 321.851178317625, 319.313289675805, 319.313289675805, 319.313289675805]]\n",
        "theory_cols = [f\"Theoretical_Temps_{i+1}\" for i in range(10)]\n",
        "input_columns = [\"Time\", \"h\", \"flux\", \"abs\", \"surf\"] + theory_cols\n",
        "new_input_df = pd.DataFrame(new_input, columns=input_columns)\n",
        "new_input_df = check_and_clip_input(new_input_df, X_scaler)  # Changed from new_input to new_input_df\n",
        "new_input_scaled = X_scaler.transform(new_input_df)\n",
        "new_tensor = torch.tensor(new_input_scaled, dtype=torch.float32).to(device)\n",
        "\n",
        "model.eval()\n",
        "with torch.no_grad():\n",
        "    pred = model(new_tensor).cpu().numpy()\n",
        "real_pred = y_scaler.inverse_transform(pred)\n",
        "print(\"\\nPredicted Temperatures:\", real_pred.flatten().tolist())"
      ]
    },
    {
      "cell_type": "code",
      "execution_count": 33,
      "metadata": {},
      "outputs": [
        {
          "data": {
            "image/png": "[encoded data removed]",
            "text/plain": [
              "<Figure size 700x600 with 1 Axes>"
            ]
          },
          "metadata": {},
          "output_type": "display_data"
        }
      ],
      "source": [
        "def plot_vertical_profile(predicted, actual, filename=\"Sample Profile\"):\n",
        "    sensor_labels = [f\"TC{i+1}\" for i in range(10)]\n",
        "    depths = [-0.016 + i * 0.0015 for i in range(10)]\n",
        "    plt.figure(figsize=(7, 6))\n",
        "    plt.plot(actual, depths, label=\"Actual\", color='blue', marker='o')\n",
        "    plt.plot(predicted, depths, label=\"Predicted\", color='red', marker='x', linestyle='--')\n",
        "    plt.gca().invert_yaxis()\n",
        "    plt.xlabel(\"Temperature (°C)\")\n",
        "    plt.ylabel(\"Depth (m)\")\n",
        "    plt.title(f\"Vertical Profile: {filename}\")\n",
        "    plt.legend()\n",
        "\n",
        "    # Add sensor labels at each point\n",
        "    for i, label in enumerate(sensor_labels):\n",
        "        plt.text(actual[i], depths[i], label, ha='right', va='bottom', fontsize=8)\n",
        "        plt.text(predicted[i], depths[i], label, ha='left', va='bottom', fontsize=8)\n",
        "\n",
        "    plt.grid(True)\n",
        "    plt.show()\n",
        "# Use actual values from the dataset for comparison\n",
        "actual_values = [360.74, 360.08, 360.53, 360.79, 360.14, 361.79, 358.63, 359.26, 356.22, 335.77]\n",
        "plot_vertical_profile(real_pred.flatten(), actual_values, filename=\"h6_flux88_abs20_wr_surf0_734s\")"
      ]
    },
    {
      "cell_type": "code",
      "execution_count": null,
      "metadata": {},
      "outputs": [],
      "source": [
        "# Plot Predicted vs Actual Temperatures for 5 samples from the test set\n",
        "num_samples = 5\n",
        "for idx in range(num_samples):\n",
        "    plt.figure(figsize=(8, 4))\n",
        "    plt.plot(y_real[idx], label='Actual', marker='o')\n",
        "    plt.plot(preds_real[idx], label='Predicted', marker='x')\n",
        "    plt.title(f'Predicted vs Actual Temperatures (Sample {idx})')\n",
        "    plt.xlabel('Sensor Index')\n",
        "    plt.ylabel('Temperature (°C)')\n",
        "    plt.legend()\n",
        "    plt.grid(True)\n",
        "    plt.show()\n",
        "\n"
      ]
    }
  ],
  "metadata": {
    "colab": {
      "provenance": []
    },
    "kernelspec": {
      "display_name": "base",
      "language": "python",
      "name": "python3"
    },
    "language_info": {
      "codemirror_mode": {
        "name": "ipython",
        "version": 3
      },
      "file_extension": ".py",
      "mimetype": "text/x-python",
      "name": "python",
      "nbconvert_exporter": "python",
      "pygments_lexer": "ipython3",
      "version": "3.11.5"
    }
  },
  "nbformat": 4,
  "nbformat_minor": 0
}
