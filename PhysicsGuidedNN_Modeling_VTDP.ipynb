{
  "cells": [
    {
      "cell_type": "code",
      "source": [
        "from google.colab import drive\n",
        "drive.mount('/content/drive')"
      ],
      "metadata": {
        "colab": {
          "base_uri": "https://localhost:8080/"
        },
        "id": "kucuGNSzQlOr",
        "outputId": "b2517d8e-d69b-4de7-d67a-b568fa70953a"
      },
      "execution_count": 11,
      "outputs": [
        {
          "output_type": "stream",
          "name": "stdout",
          "text": [
            "Drive already mounted at /content/drive; to attempt to forcibly remount, call drive.mount(\"/content/drive\", force_remount=True).\n"
          ]
        }
      ]
    },
    {
      "cell_type": "code",
      "source": [
        "\n",
        "cd drive/MyDrive/Colab\\ Notebooks/\n"
      ],
      "metadata": {
        "colab": {
          "base_uri": "https://localhost:8080/"
        },
        "id": "vi_opgPH29S_",
        "outputId": "b5eb3ad0-75d7-4f51-9aa7-dbe553f967ac"
      },
      "execution_count": 12,
      "outputs": [
        {
          "output_type": "stream",
          "name": "stdout",
          "text": [
            "[Errno 2] No such file or directory: 'drive/MyDrive/Colab Notebooks/'\n",
            "/content/drive/MyDrive/Colab Notebooks\n"
          ]
        }
      ]
    },
    {
      "cell_type": "code",
      "source": [
        "ls"
      ],
      "metadata": {
        "colab": {
          "base_uri": "https://localhost:8080/"
        },
        "id": "hnks7Rop3Bft",
        "outputId": "7b882ff3-0da1-4fa0-f44f-3aebc37525c3"
      },
      "execution_count": 13,
      "outputs": [
        {
          "output_type": "stream",
          "name": "stdout",
          "text": [
            " CMPUT466_Coding_Assignment1_Thasanka_Kandage_1716597.ipynb\n",
            " CMPUT466_CodingAssignment2_ThasankaKandage_1716597.ipynb\n",
            " \u001b[0m\u001b[01;34mcsv_temp_profiles\u001b[0m/\n",
            " database.db\n",
            " dataset_A_linear.png\n",
            " dataset_A_logistic.png\n",
            " dataset_B_linear.png\n",
            " dataset_B_logistic.png\n",
            "'ECE 449 Lab 1 - Thasanka Kandage 1716597.ipynb'\n",
            "'ECE449_Lab2_Thasanka Kandage 1716597.ipynb'\n",
            " ECE449_Lab3_Thasanka_Kandage_1716597\n",
            " ECE449_Lab4_Thasanka_Kandage_17165971.ipynb\n",
            " ECE449_Lab5_An_Huynh.ipynb\n",
            " ECE449_Lab5_ThasankaKandage_1716597.ipynb\n",
            " Forecasting.ipynb\n",
            " Learning_PyTorch.ipynb\n",
            " ML_Models_TempProfiles.ipynb\n",
            " paper_plots_and_im_crossover.ipynb\n",
            "'PG PI ML_Models_TempProfiles.ipynb'\n",
            " PhysicsGuidedNN_Modeling_VTDP.ipynb\n",
            " t10k-images-idx3-ubyte.idx3-ubyte\n",
            " t10k-labels-idx1-ubyte.idx1-ubyte\n",
            " \u001b[01;34mTheoretical_VTDP\u001b[0m/\n",
            " thermal_model_weights.pth\n",
            " tipper_test.csv\n",
            " tipper_train.csv\n",
            " train-images-idx3-ubyte.idx3-ubyte\n",
            " train-labels-idx1-ubyte.idx1-ubyte\n",
            " \u001b[01;34mTrimmed_TC_updated\u001b[0m/\n",
            " Untitled0.ipynb\n",
            " Untitled1.ipynb\n",
            " Untitled2.ipynb\n",
            " Untitled3.ipynb\n",
            " Untitled4.ipynb\n",
            " Untitled5.ipynb\n"
          ]
        }
      ]
    },
    {
      "cell_type": "markdown",
      "metadata": {
        "id": "8mVGwbKW0Vn2"
      },
      "source": [
        "# Imports + Setup"
      ]
    },
    {
      "cell_type": "code",
      "execution_count": 14,
      "metadata": {
        "id": "HNxLFpgi0Vn4"
      },
      "outputs": [],
      "source": [
        "import os, re\n",
        "import pandas as pd\n",
        "import numpy as np\n",
        "import torch\n",
        "import torch.nn as nn\n",
        "import torch.optim as optim\n",
        "from sklearn.model_selection import train_test_split\n",
        "from sklearn.preprocessing import MinMaxScaler\n",
        "import matplotlib.pyplot as plt"
      ]
    },
    {
      "cell_type": "code",
      "execution_count": 15,
      "metadata": {
        "id": "5-TXbl4Y0Vn5"
      },
      "outputs": [],
      "source": [
        "# Set seeds for reproducibility\n",
        "import random\n",
        "SEED = 1\n",
        "random.seed(SEED)\n",
        "np.random.seed(SEED)\n",
        "torch.manual_seed(SEED)\n",
        "torch.backends.cudnn.deterministic = True  # Ensure deterministic behavior for CUDA\n",
        "torch.backends.cudnn.benchmark = False      # Disable auto-tuner that can introduce randomness"
      ]
    },
    {
      "cell_type": "code",
      "execution_count": 16,
      "metadata": {
        "id": "q96kJ_tT0Vn6"
      },
      "outputs": [],
      "source": [
        "# File Mapping\n",
        "h_map = {2: 0.0375, 3: 0.084, 6: 0.1575}\n",
        "flux_map = {88: 25900, 78: 21250, 73: 19400}\n",
        "abs_map = {0: 3, 92: 100}\n",
        "surf_map = {0: 0.98, 1: 0.76}\n",
        "pattern = r\"h(\\d+)_flux(\\d+)_abs(\\d+)(?:_[A-Za-z0-9]+)*_surf([01])(?:_[A-Za-z0-9]+)*[\\s_]+(\\d+)s\\b\"\n",
        "# Depending on where u store the data files\n",
        "# cd drive/MyDrive/Colab\\ Notebooks/Theoretical_VTDP\n",
        "# DATA_DIR = \"../../data/Theoretical_VTDP\"\n",
        "DATA_DIR = \"Theoretical_VTDP/\"\n",
        "DROP_COLS = [\"TC_9_5\", \"TC_Bottom_rec_groove\", \"TC_wall_ins_ext\", \"TC_bottom_ins_groove\", \"Theoretical_Temps_11\"]"
      ]
    },
    {
      "cell_type": "markdown",
      "metadata": {
        "id": "IEPwSUTU0Vn6"
      },
      "source": [
        "# Utilities"
      ]
    },
    {
      "cell_type": "code",
      "execution_count": 17,
      "metadata": {
        "id": "s0OmPxTi0Vn7"
      },
      "outputs": [],
      "source": [
        "def parse_filename_params(filename):\n",
        "    m = re.search(pattern, filename)\n",
        "    if not m:\n",
        "        return None\n",
        "    h_raw    = int(m.group(1))\n",
        "    flux_raw = int(m.group(2))\n",
        "    abs_raw  = int(m.group(3))\n",
        "    surf_raw = int(m.group(4))\n",
        "    t        = int(m.group(5))\n",
        "\n",
        "    # keeping number if no entry exists\n",
        "    h    = h_map.get(h_raw,    h_raw)\n",
        "    flux = flux_map.get(flux_raw, flux_raw)\n",
        "    abs_ = abs_map.get(abs_raw,  abs_raw)\n",
        "    surf = surf_map.get(surf_raw)\n",
        "\n",
        "    return h, flux, abs_, surf, t\n",
        "\n",
        "def load_and_process_file(path, h, flux, abs_val, surf, min_time):\n",
        "    df = pd.read_csv(path, encoding=\"utf-8-sig\")\n",
        "    df = df[df[\"Time\"] >= min_time].copy()\n",
        "    df.drop(columns=[col for col in df.columns if col in DROP_COLS or col.startswith(\"Depth_\")], inplace=True)\n",
        "    df[\"h\"] = h\n",
        "    df[\"flux\"] = flux\n",
        "    df[\"abs\"] = abs_val\n",
        "    df[\"surf\"] = surf\n",
        "    return df"
      ]
    },
    {
      "cell_type": "markdown",
      "metadata": {
        "id": "EZon2gIG0Vn7"
      },
      "source": [
        "# Load and Combine Data"
      ]
    },
    {
      "cell_type": "code",
      "execution_count": 18,
      "metadata": {
        "colab": {
          "base_uri": "https://localhost:8080/"
        },
        "id": "YJIZorgZ0Vn8",
        "outputId": "1b80bd5b-a6b3-4099-fa65-226c99bf2b5d"
      },
      "outputs": [
        {
          "output_type": "stream",
          "name": "stdout",
          "text": [
            "Skipping: h2_flux88_abs25_wr_surfSimD_525s - Sheet1_processed.csv\n",
            "Skipping: h2_flux88_abs25_wr_surfParAdded_169s - Sheet1_processed.csv\n",
            "Skipping: PG_combined_data.csv\n",
            "<class 'pandas.core.frame.DataFrame'>\n",
            "RangeIndex: 66146 entries, 0 to 66145\n",
            "Data columns (total 25 columns):\n",
            " #   Column                Non-Null Count  Dtype  \n",
            "---  ------                --------------  -----  \n",
            " 0   Time                  66146 non-null  int64  \n",
            " 1   TC1_tip               66146 non-null  float64\n",
            " 2   TC2                   66146 non-null  float64\n",
            " 3   TC3                   66146 non-null  float64\n",
            " 4   TC4                   66146 non-null  float64\n",
            " 5   TC5                   66146 non-null  float64\n",
            " 6   TC6                   66146 non-null  float64\n",
            " 7   TC7                   66146 non-null  float64\n",
            " 8   TC8                   66146 non-null  float64\n",
            " 9   TC9                   66146 non-null  float64\n",
            " 10  TC10                  66146 non-null  float64\n",
            " 11  Theoretical_Temps_1   66146 non-null  float64\n",
            " 12  Theoretical_Temps_2   66146 non-null  float64\n",
            " 13  Theoretical_Temps_3   66146 non-null  float64\n",
            " 14  Theoretical_Temps_4   66146 non-null  float64\n",
            " 15  Theoretical_Temps_5   66146 non-null  float64\n",
            " 16  Theoretical_Temps_6   66146 non-null  float64\n",
            " 17  Theoretical_Temps_7   66146 non-null  float64\n",
            " 18  Theoretical_Temps_8   66146 non-null  float64\n",
            " 19  Theoretical_Temps_9   66146 non-null  float64\n",
            " 20  Theoretical_Temps_10  66146 non-null  float64\n",
            " 21  h                     66146 non-null  float64\n",
            " 22  flux                  66146 non-null  int64  \n",
            " 23  abs                   66146 non-null  int64  \n",
            " 24  surf                  66146 non-null  float64\n",
            "dtypes: float64(22), int64(3)\n",
            "memory usage: 12.6 MB\n",
            "None\n",
            "   Time  TC1_tip     TC2     TC3     TC4     TC5    TC6    TC7    TC8    TC9  \\\n",
            "0   393   361.67  358.69  337.85  192.15  131.10  89.60  71.99  60.24  49.62   \n",
            "1   394   361.66  358.80  337.61  191.81  130.97  89.34  72.04  60.41  49.69   \n",
            "2   395   361.73  358.91  337.50  191.64  130.86  89.23  72.14  60.54  49.82   \n",
            "3   396   361.84  359.07  337.41  191.48  130.77  89.07  72.27  60.84  49.98   \n",
            "4   397   361.96  359.24  337.29  191.48  130.74  89.36  72.43  61.02  50.20   \n",
            "\n",
            "   ...  Theoretical_Temps_5  Theoretical_Temps_6  Theoretical_Temps_7  \\\n",
            "0  ...           372.461387           372.461387           372.461387   \n",
            "1  ...           372.631180           372.631180           372.631180   \n",
            "2  ...           372.800896           372.800896           372.800896   \n",
            "3  ...           372.970534           372.970534           372.970534   \n",
            "4  ...           373.140095           373.140095           373.140095   \n",
            "\n",
            "   Theoretical_Temps_8  Theoretical_Temps_9  Theoretical_Temps_10       h  \\\n",
            "0           372.461387           372.461387            372.461387  0.0375   \n",
            "1           372.631180           372.631180            372.631180  0.0375   \n",
            "2           372.800896           372.800896            372.800896  0.0375   \n",
            "3           372.970534           372.970534            372.970534  0.0375   \n",
            "4           373.140095           373.140095            373.140095  0.0375   \n",
            "\n",
            "    flux  abs  surf  \n",
            "0  25900   25  0.98  \n",
            "1  25900   25  0.98  \n",
            "2  25900   25  0.98  \n",
            "3  25900   25  0.98  \n",
            "4  25900   25  0.98  \n",
            "\n",
            "[5 rows x 25 columns]\n"
          ]
        }
      ],
      "source": [
        "dataframes = []\n",
        "for fname in os.listdir(DATA_DIR):\n",
        "    if not fname.endswith(\".csv\"):\n",
        "        continue\n",
        "    params = parse_filename_params(fname)\n",
        "    if params is None or params[3] is None:\n",
        "        print(\"Skipping:\", fname)\n",
        "        continue\n",
        "    path = os.path.join(DATA_DIR, fname)\n",
        "    df = load_and_process_file(path, *params)\n",
        "    dataframes.append(df)\n",
        "\n",
        "data = pd.concat(dataframes, ignore_index=True)\n",
        "print(data.info())\n",
        "print(data.head())\n"
      ]
    },
    {
      "cell_type": "markdown",
      "metadata": {
        "id": "PhvD7dmJ0Vn9"
      },
      "source": [
        "# Preprocessing"
      ]
    },
    {
      "cell_type": "code",
      "execution_count": 19,
      "metadata": {
        "id": "kNe4WtPR0Vn-"
      },
      "outputs": [],
      "source": [
        "theory_cols = [c for c in data.columns if c.startswith(\"Theoretical_Temps_\")]\n",
        "X = data[[\"Time\", \"h\", \"flux\", \"abs\", \"surf\"] + theory_cols]\n",
        "y = data.drop(columns=[\"Time\", \"h\", \"flux\", \"abs\", \"surf\"] + theory_cols)\n",
        "y_columns = y.columns\n",
        "\n",
        "X_scaler = MinMaxScaler()\n",
        "y_scaler = MinMaxScaler()\n",
        "X_scaled = X_scaler.fit_transform(X)\n",
        "y_scaled = y_scaler.fit_transform(y)\n",
        "\n",
        "X_train, X_temp, y_train, y_temp = train_test_split(X_scaled, y_scaled, test_size=0.3, random_state=SEED) # 70% of dataset is training\n",
        "X_val, X_test, y_val, y_test = train_test_split(X_temp, y_temp, test_size=0.5, random_state=SEED) # 15% of entire dataset is val and another 15 is test\n",
        "\n",
        "X_train = torch.tensor(X_train, dtype=torch.float32)\n",
        "X_val = torch.tensor(X_val, dtype=torch.float32)\n",
        "X_test = torch.tensor(X_test, dtype=torch.float32)\n",
        "\n",
        "y_train = torch.tensor(y_train, dtype=torch.float32)\n",
        "y_val = torch.tensor(y_val, dtype=torch.float32)\n",
        "y_test = torch.tensor(y_test, dtype=torch.float32)"
      ]
    },
    {
      "cell_type": "markdown",
      "metadata": {
        "id": "BqsJsRau0Vn_"
      },
      "source": [
        "# Model"
      ]
    },
    {
      "cell_type": "code",
      "execution_count": 20,
      "metadata": {
        "id": "XYdshwqi0Vn_"
      },
      "outputs": [],
      "source": [
        "class NeuralNet(nn.Module):\n",
        "    def __init__(self, input_size, output_size):\n",
        "        super().__init__()\n",
        "        self.fc1 = nn.Linear(input_size, 64)\n",
        "        self.fc2 = nn.Linear(64, 128)\n",
        "        self.fc3 = nn.Linear(128, 64)\n",
        "        self.fc4 = nn.Linear(64, output_size)\n",
        "        self.relu = nn.ReLU()\n",
        "\n",
        "    def forward(self, x):\n",
        "        x = self.relu(self.fc1(x))\n",
        "        x = self.relu(self.fc2(x))\n",
        "        x = self.relu(self.fc3(x))\n",
        "        return self.fc4(x)\n",
        "\n",
        "input_size = X_train.shape[1]\n",
        "output_size = y_train.shape[1]\n",
        "model = NeuralNet(input_size, output_size)"
      ]
    },
    {
      "cell_type": "markdown",
      "metadata": {
        "id": "pyN5g_Pe0Vn_"
      },
      "source": [
        "# Training"
      ]
    },
    {
      "cell_type": "code",
      "execution_count": 21,
      "metadata": {
        "colab": {
          "base_uri": "https://localhost:8080/"
        },
        "id": "Kt-6ScmG0VoA",
        "outputId": "c1d2ce0c-3cc6-405a-c186-4a12bf6e7cc5"
      },
      "outputs": [
        {
          "output_type": "stream",
          "name": "stdout",
          "text": [
            "Epoch [50/500], Train Loss: 0.040442, Val Loss: 0.039038\n",
            "Epoch [100/500], Train Loss: 0.019138, Val Loss: 0.018519\n",
            "Epoch [150/500], Train Loss: 0.012083, Val Loss: 0.011846\n",
            "Epoch [200/500], Train Loss: 0.009907, Val Loss: 0.009712\n",
            "Epoch [250/500], Train Loss: 0.008813, Val Loss: 0.008675\n",
            "Epoch [300/500], Train Loss: 0.008473, Val Loss: 0.008354\n",
            "Epoch [350/500], Train Loss: 0.008255, Val Loss: 0.008143\n",
            "Epoch [400/500], Train Loss: 0.008120, Val Loss: 0.008008\n",
            "Epoch [450/500], Train Loss: 0.008019, Val Loss: 0.007905\n",
            "Epoch [500/500], Train Loss: 0.007931, Val Loss: 0.007817\n"
          ]
        }
      ],
      "source": [
        "criterion = nn.MSELoss()\n",
        "optimizer = optim.Adam(model.parameters(), lr=0.001)\n",
        "EPOCHS = 500\n",
        "\n",
        "train_losses = []\n",
        "val_losses = []\n",
        "\n",
        "for epoch in range(EPOCHS):\n",
        "    model.train()\n",
        "    optimizer.zero_grad()\n",
        "    predictions = model(X_train)\n",
        "    train_loss = criterion(predictions, y_train)\n",
        "    train_loss.backward()\n",
        "    optimizer.step()\n",
        "\n",
        "    # validate\n",
        "    model.eval()\n",
        "    with torch.no_grad():\n",
        "        val_preds = model(X_val)\n",
        "        val_loss = criterion(val_preds, y_val)\n",
        "\n",
        "    train_losses.append(train_loss.item())\n",
        "    val_losses.append(val_loss.item())\n",
        "\n",
        "    if (epoch + 1) % 50 == 0:\n",
        "        print(f\"Epoch [{epoch+1}/{EPOCHS}], Train Loss: {train_loss.item():.6f}, Val Loss: {val_loss.item():.6f}\")"
      ]
    },
    {
      "cell_type": "code",
      "execution_count": 22,
      "metadata": {
        "id": "i_oUn8N-0VoA",
        "colab": {
          "base_uri": "https://localhost:8080/",
          "height": 564
        },
        "outputId": "396d88dc-492a-43e0-e195-dfb551fd94d5"
      },
      "outputs": [
        {
          "output_type": "display_data",
          "data": {
            "text/plain": [
              "<Figure size 1000x600 with 1 Axes>"
            ],
            "image/png": "[encoded data removed]"
          },
          "metadata": {}
        }
      ],
      "source": [
        "plt.figure(figsize=(10, 6))\n",
        "plt.plot(train_losses, label='Train Loss', color='blue')\n",
        "plt.plot(val_losses, label='Validation Loss', color='orange')\n",
        "plt.xlabel('Epoch')\n",
        "plt.ylabel('Loss')\n",
        "plt.title('Training and Validation Loss over Epochs')\n",
        "plt.legend()\n",
        "plt.grid(True)\n",
        "plt.show()"
      ]
    },
    {
      "cell_type": "markdown",
      "metadata": {
        "id": "X6RMSCgq0VoA"
      },
      "source": [
        "# Evaluation"
      ]
    },
    {
      "cell_type": "code",
      "execution_count": 23,
      "metadata": {
        "id": "Ltk47Zh-0VoB",
        "colab": {
          "base_uri": "https://localhost:8080/"
        },
        "outputId": "dbc77ec5-7948-4c08-82b8-31187f5a5e4e"
      },
      "outputs": [
        {
          "output_type": "stream",
          "name": "stdout",
          "text": [
            "\n",
            "RMSE per output (°C):\n",
            "TC1_tip: 30.109 °C\n",
            "TC2: 29.717 °C\n",
            "TC3: 30.204 °C\n",
            "TC4: 29.780 °C\n",
            "TC5: 29.725 °C\n",
            "TC6: 29.556 °C\n",
            "TC7: 29.955 °C\n",
            "TC8: 30.677 °C\n",
            "TC9: 32.297 °C\n",
            "TC10: 35.238 °C\n",
            "\n",
            "Average RMSE across all outputs: 30.726 °C\n",
            "Model weights saved to 'thermal_model_weights.pth'\n"
          ]
        }
      ],
      "source": [
        "model.eval()\n",
        "with torch.no_grad():\n",
        "    preds = model(X_test).numpy()\n",
        "\n",
        "preds_real = y_scaler.inverse_transform(preds)\n",
        "y_real = y_scaler.inverse_transform(y_test.numpy())\n",
        "rmse = np.sqrt(np.mean((preds_real - y_real) ** 2, axis=0))\n",
        "\n",
        "print(\"\\nRMSE per output (°C):\")\n",
        "for col, val in zip(y.columns, rmse):\n",
        "    print(f\"{col}: {val:.3f} °C\")\n",
        "\n",
        "print(f\"\\nAverage RMSE across all outputs: {np.mean(rmse):.3f} °C\")\n",
        "\n",
        "torch.save(model.state_dict(), \"thermal_model_weights.pth\")\n",
        "print(\"Model weights saved to 'thermal_model_weights.pth'\")"
      ]
    },
    {
      "cell_type": "markdown",
      "metadata": {
        "id": "1pMWK_uV0VoC"
      },
      "source": [
        "<!-- ----------------------------------------------------------------------------------------------------------------------------------- -->"
      ]
    },
    {
      "cell_type": "code",
      "execution_count": 24,
      "metadata": {
        "id": "EqP4hPqZ0VoC",
        "colab": {
          "base_uri": "https://localhost:8080/"
        },
        "outputId": "c7f4086f-d1cf-4ab7-a553-4ed509c96690"
      },
      "outputs": [
        {
          "output_type": "stream",
          "name": "stdout",
          "text": [
            "\n",
            "Predicted Temperatures: [[340.06152 337.89517 339.95825 337.16284 340.06653 340.61966 341.27878\n",
            "  342.48294 340.9035  330.3166 ]]\n"
          ]
        },
        {
          "output_type": "stream",
          "name": "stderr",
          "text": [
            "/usr/local/lib/python3.11/dist-packages/sklearn/utils/validation.py:2739: UserWarning: X does not have valid feature names, but MinMaxScaler was fitted with feature names\n",
            "  warnings.warn(\n"
          ]
        }
      ],
      "source": [
        "new_input = [\n",
        "    [  # Full input vector for inference\n",
        "        1049.0,     # Time (seconds)\n",
        "        0.1575,     # Depth (h)\n",
        "        25900,      # Heat flux (q0)\n",
        "        3,          # Absorption coefficient (abs)\n",
        "        0.98        # Surface emissivity (surf)\n",
        "    ] + [350.0]*10  # Theoretical temperature values at 10 vertical points\n",
        "]\n",
        "new_input_scaled = X_scaler.transform(new_input)\n",
        "new_tensor = torch.tensor(new_input_scaled, dtype=torch.float32)\n",
        "\n",
        "with torch.no_grad():\n",
        "    pred = model(new_tensor).numpy()\n",
        "real_pred = y_scaler.inverse_transform(pred)\n",
        "print(\"\\nPredicted Temperatures:\", real_pred)\n"
      ]
    }
  ],
  "metadata": {
    "colab": {
      "provenance": []
    },
    "kernelspec": {
      "display_name": "Python 3",
      "name": "python3"
    },
    "language_info": {
      "codemirror_mode": {
        "name": "ipython",
        "version": 3
      },
      "file_extension": ".py",
      "mimetype": "text/x-python",
      "name": "python",
      "nbconvert_exporter": "python",
      "pygments_lexer": "ipython3",
      "version": "3.11.5"
    }
  },
  "nbformat": 4,
  "nbformat_minor": 0
}