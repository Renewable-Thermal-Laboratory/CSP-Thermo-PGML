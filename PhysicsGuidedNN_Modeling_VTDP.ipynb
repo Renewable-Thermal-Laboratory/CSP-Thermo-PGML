{
  "cells": [
    {
      "cell_type": "markdown",
      "metadata": {},
      "source": [
        "# Imports + Setup"
      ]
    },
    {
      "cell_type": "code",
      "execution_count": 43,
      "metadata": {},
      "outputs": [],
      "source": [
        "import os, re\n",
        "import pandas as pd\n",
        "import numpy as np\n",
        "import torch\n",
        "import torch.nn as nn\n",
        "import torch.optim as optim\n",
        "from sklearn.model_selection import train_test_split\n",
        "from sklearn.preprocessing import MinMaxScaler"
      ]
    },
    {
      "cell_type": "code",
      "execution_count": null,
      "metadata": {},
      "outputs": [],
      "source": [
        "# Set seeds for reproducibility\n",
        "import random\n",
        "SEED = 42\n",
        "random.seed(SEED)\n",
        "np.random.seed(SEED)\n",
        "torch.manual_seed(SEED)\n",
        "torch.backends.cudnn.deterministic = True  # Ensure deterministic behavior for CUDA\n",
        "torch.backends.cudnn.benchmark = False      # Disable auto-tuner that can introduce randomness"
      ]
    },
    {
      "cell_type": "code",
      "execution_count": null,
      "metadata": {},
      "outputs": [],
      "source": [
        "# File Mapping\n",
        "h_map = {2: 0.0375, 3: 0.084, 6: 0.1575}\n",
        "flux_map = {88: 25900, 78: 21250, 73: 19400}\n",
        "abs_map = {0: 3, 92: 100}\n",
        "surf_map = {0: 0.98, 1: 0.76}\n",
        "pattern = r\"h(\\d+)_flux(\\d+)_abs(\\d+).*?_surf(\\d+).*?_(\\d+)s\"\n",
        "# Depending on where u store the data files\n",
        "# cd drive/MyDrive/Colab\\ Notebooks/Theoretical_VTDP\n",
        "DATA_DIR = \"../../data/Theoretical_VTDP\"\n",
        "DROP_COLS = [\"TC_9_5\", \"TC_Bottom_rec_groove\", \"TC_wall_ins_ext\", \"TC_bottom_ins_groove\", \"Theoretical_Temps_11\"]"
      ]
    },
    {
      "cell_type": "markdown",
      "metadata": {},
      "source": [
        "# Utilities"
      ]
    },
    {
      "cell_type": "code",
      "execution_count": 45,
      "metadata": {},
      "outputs": [],
      "source": [
        "def parse_filename_params(filename):\n",
        "    match = re.search(pattern, filename)\n",
        "    if not match:\n",
        "        return None\n",
        "    h = h_map.get(int(match[1]))\n",
        "    flux = flux_map.get(int(match[2]))\n",
        "    abs_val = abs_map.get(int(match[3]))\n",
        "    surf = surf_map.get(int(match[4]))\n",
        "    min_time = int(match[5])\n",
        "    return h, flux, abs_val, surf, min_time\n",
        "\n",
        "def load_and_process_file(path, h, flux, abs_val, surf, min_time):\n",
        "    df = pd.read_csv(path, encoding=\"utf-8-sig\")\n",
        "    df = df[df[\"Time\"] >= min_time].copy()\n",
        "    df.drop(columns=[col for col in df.columns if col in DROP_COLS or col.startswith(\"Depth_\")], inplace=True)\n",
        "    df[\"h\"] = h\n",
        "    df[\"flux\"] = flux\n",
        "    df[\"abs\"] = abs_val\n",
        "    df[\"surf\"] = surf\n",
        "    return df"
      ]
    },
    {
      "cell_type": "markdown",
      "metadata": {},
      "source": [
        "# Load and Combine Data"
      ]
    },
    {
      "cell_type": "code",
      "execution_count": null,
      "metadata": {},
      "outputs": [],
      "source": [
        "dataframes = []\n",
        "for fname in os.listdir(DATA_DIR):\n",
        "    if not fname.endswith(\".csv\"):\n",
        "        continue\n",
        "    params = parse_filename_params(fname)\n",
        "    if params is None or None in params:\n",
        "        print(f\"Skipping: {fname}\")\n",
        "        continue\n",
        "    path = os.path.join(DATA_DIR, fname)\n",
        "    df = load_and_process_file(path, *params)\n",
        "    dataframes.append(df)\n",
        "\n",
        "data = pd.concat(dataframes, ignore_index=True)"
      ]
    },
    {
      "cell_type": "markdown",
      "metadata": {},
      "source": [
        "# Preprocessing"
      ]
    },
    {
      "cell_type": "code",
      "execution_count": 47,
      "metadata": {},
      "outputs": [],
      "source": [
        "theory_cols = [c for c in data.columns if c.startswith(\"Theoretical_Temps_\")]\n",
        "X = data[[\"Time\", \"h\", \"flux\", \"abs\", \"surf\"] + theory_cols]\n",
        "y = data.drop(columns=[\"Time\", \"h\", \"flux\", \"abs\", \"surf\"] + theory_cols)\n",
        "\n",
        "X_scaler = MinMaxScaler()\n",
        "y_scaler = MinMaxScaler()\n",
        "X_scaled = X_scaler.fit_transform(X)\n",
        "y_scaled = y_scaler.fit_transform(y)\n",
        "\n",
        "X_train, X_test, y_train, y_test = train_test_split(X_scaled, y_scaled, test_size=0.2, random_state=1)\n",
        "X_train = torch.tensor(X_train, dtype=torch.float32)\n",
        "X_test = torch.tensor(X_test, dtype=torch.float32)\n",
        "y_train = torch.tensor(y_train, dtype=torch.float32)\n",
        "y_test = torch.tensor(y_test, dtype=torch.float32)"
      ]
    },
    {
      "cell_type": "markdown",
      "metadata": {},
      "source": [
        "# Model"
      ]
    },
    {
      "cell_type": "code",
      "execution_count": 48,
      "metadata": {},
      "outputs": [],
      "source": [
        "class NeuralNet(nn.Module):\n",
        "    def __init__(self, input_size, output_size):\n",
        "        super().__init__()\n",
        "        self.fc1 = nn.Linear(input_size, 64)\n",
        "        self.fc2 = nn.Linear(64, 128)\n",
        "        self.fc3 = nn.Linear(128, 64)\n",
        "        self.fc4 = nn.Linear(64, output_size)\n",
        "        self.relu = nn.ReLU()\n",
        "\n",
        "    def forward(self, x):\n",
        "        x = self.relu(self.fc1(x))\n",
        "        x = self.relu(self.fc2(x))\n",
        "        x = self.relu(self.fc3(x))\n",
        "        return self.fc4(x)\n",
        "\n",
        "input_size = X_train.shape[1]\n",
        "output_size = y_train.shape[1]\n",
        "model = NeuralNet(input_size, output_size)"
      ]
    },
    {
      "cell_type": "markdown",
      "metadata": {},
      "source": [
        "# Training"
      ]
    },
    {
      "cell_type": "code",
      "execution_count": null,
      "metadata": {},
      "outputs": [],
      "source": [
        "criterion = nn.MSELoss()\n",
        "optimizer = optim.Adam(model.parameters(), lr=0.001)\n",
        "EPOCHS = 500\n",
        "\n",
        "for epoch in range(EPOCHS):\n",
        "    model.train()\n",
        "    optimizer.zero_grad()\n",
        "    predictions = model(X_train)\n",
        "    loss = criterion(predictions, y_train)\n",
        "    loss.backward()\n",
        "    optimizer.step()\n",
        "\n",
        "    if (epoch + 1) % 50 == 0:\n",
        "        print(f\"Epoch [{epoch+1}/{EPOCHS}], Loss: {loss.item():.6f}\")"
      ]
    },
    {
      "cell_type": "markdown",
      "metadata": {},
      "source": [
        "# Evaluation"
      ]
    },
    {
      "cell_type": "code",
      "execution_count": null,
      "metadata": {},
      "outputs": [],
      "source": [
        "model.eval()\n",
        "with torch.no_grad():\n",
        "    preds = model(X_test).numpy()\n",
        "\n",
        "preds_real = y_scaler.inverse_transform(preds)\n",
        "y_real = y_scaler.inverse_transform(y_test.numpy())\n",
        "rmse = np.sqrt(np.mean((preds_real - y_real) ** 2, axis=0))\n",
        "\n",
        "print(\"\\nRMSE per output (°C):\")\n",
        "for col, val in zip(y.columns, rmse):\n",
        "    print(f\"{col}: {val:.3f} °C\")\n",
        "\n",
        "print(f\"\\nAverage RMSE across all outputs: {np.mean(rmse):.3f} °C\")\n",
        "\n",
        "torch.save(model.state_dict(), \"thermal_model_weights.pth\")\n",
        "print(\"Model weights saved to 'thermal_model_weights.pth'\")"
      ]
    },
    {
      "cell_type": "markdown",
      "metadata": {},
      "source": [
        "<!-- ----------------------------------------------------------------------------------------------------------------------------------- -->"
      ]
    },
    {
      "cell_type": "code",
      "execution_count": null,
      "metadata": {},
      "outputs": [],
      "source": [
        "new_input = [\n",
        "    [  # Full input vector for inference\n",
        "        1049.0,     # Time (seconds)\n",
        "        0.1575,     # Depth (h)\n",
        "        25900,      # Heat flux (q0)\n",
        "        3,          # Absorption coefficient (abs)\n",
        "        0.98        # Surface emissivity (surf)\n",
        "    ] + [350.0]*10  # Theoretical temperature values at 10 vertical points\n",
        "]\n",
        "new_input_scaled = X_scaler.transform(new_input)\n",
        "new_tensor = torch.tensor(new_input_scaled, dtype=torch.float32)\n",
        "\n",
        "with torch.no_grad():\n",
        "    pred = model(new_tensor).numpy()\n",
        "real_pred = y_scaler.inverse_transform(pred)\n",
        "print(\"\\nPredicted Temperatures:\", real_pred)\n"
      ]
    }
  ],
  "metadata": {
    "colab": {
      "provenance": []
    },
    "kernelspec": {
      "display_name": "Python 3",
      "name": "python3"
    },
    "language_info": {
      "codemirror_mode": {
        "name": "ipython",
        "version": 3
      },
      "file_extension": ".py",
      "mimetype": "text/x-python",
      "name": "python",
      "nbconvert_exporter": "python",
      "pygments_lexer": "ipython3",
      "version": "3.11.5"
    }
  },
  "nbformat": 4,
  "nbformat_minor": 0
}
