{
  "cells": [
    {
      "cell_type": "code",
      "execution_count": 43,
      "metadata": {},
      "outputs": [],
      "source": [
        "import os, re\n",
        "import pandas as pd\n",
        "import numpy as np\n",
        "import torch\n",
        "import torch.nn as nn\n",
        "import torch.optim as optim\n",
        "from sklearn.model_selection import train_test_split\n",
        "from sklearn.preprocessing import MinMaxScaler"
      ]
    },
    {
      "cell_type": "code",
      "execution_count": 44,
      "metadata": {},
      "outputs": [],
      "source": [
        "h_map = {2: 0.0375, 3: 0.084, 6: 0.1575}\n",
        "flux_map = {88: 25900, 78: 21250, 73: 19400}\n",
        "abs_map = {0: 3, 92: 100}\n",
        "surf_map = {0: 0.98, 1: 0.76}\n",
        "pattern = r\"h(\\d+)_flux(\\d+)_abs(\\d+).*?_surf(\\d+).*?_(\\d+)s\"\n",
        "# Depending on where u store the data files\n",
        "# cd drive/MyDrive/Colab\\ Notebooks/Theoretical_VTDP\n",
        "DATA_DIR = \"../../data/Theoretical_VTDP\"\n",
        "DROP_COLS = [\"TC_9_5\", \"TC_Bottom_rec_groove\", \"TC_wall_ins_ext\", \"TC_bottom_ins_groove\", \"Theoretical_Temps_11\"]"
      ]
    },
    {
      "cell_type": "code",
      "execution_count": 45,
      "metadata": {},
      "outputs": [],
      "source": [
        "def parse_filename_params(filename):\n",
        "    match = re.search(pattern, filename)\n",
        "    if not match:\n",
        "        return None\n",
        "    h = h_map.get(int(match[1]))\n",
        "    flux = flux_map.get(int(match[2]))\n",
        "    abs_val = abs_map.get(int(match[3]))\n",
        "    surf = surf_map.get(int(match[4]))\n",
        "    min_time = int(match[5])\n",
        "    return h, flux, abs_val, surf, min_time\n",
        "\n",
        "def load_and_process_file(path, h, flux, abs_val, surf, min_time):\n",
        "    df = pd.read_csv(path, encoding=\"utf-8-sig\")\n",
        "    df = df[df[\"Time\"] >= min_time].copy()\n",
        "    df.drop(columns=[col for col in df.columns if col in DROP_COLS or col.startswith(\"Depth_\")], inplace=True)\n",
        "    df[\"h\"] = h\n",
        "    df[\"flux\"] = flux\n",
        "    df[\"abs\"] = abs_val\n",
        "    df[\"surf\"] = surf\n",
        "    return df"
      ]
    },
    {
      "cell_type": "code",
      "execution_count": 46,
      "metadata": {},
      "outputs": [
        {
          "name": "stdout",
          "output_type": "stream",
          "text": [
            "Skipping: h2_flux88_abs25_newSalt_surf0_172s - Sheet1_processed.csv\n",
            "Skipping: h2_flux88_abs25_newSalt_wr_surf0_123s - Sheet1_processed.csv\n",
            "Skipping: h2_flux88_abs25_surf0_493s - Sheet1_processed.csv\n",
            "Skipping: h2_flux88_abs25_wr_surf0_393s - Sheet1_processed.csv\n",
            "Skipping: h2_flux88_abs25_wr_surfParAdded_169s - Sheet1_processed.csv\n",
            "Skipping: h2_flux88_abs25_wr_surfSimD_525s - Sheet1_processed.csv\n",
            "Skipping: h3_flux88_abs25_mr_surf0_796s-Sheet1_processed.csv\n",
            "Skipping: h3_flux88_abs25_surf0_439s-Sheet2_processed.csv\n",
            "Skipping: h3_flux88_abs25_surf0_660s-Sheet1_processed.csv\n",
            "Skipping: h3_flux88_abs25_wr_surf0_422s-Sheet1_processed.csv\n",
            "Skipping: h3_flux88_abs25_wr_surf0_746s-Sheet2_processed.csv\n",
            "Skipping: h3_flux88_abs90_mr_surf0_506s-Sheet1_processed.csv\n",
            "Skipping: h3_flux88_abs90_surf0_692s-Sheet2_processed.csv\n",
            "Skipping: h3_flux88_abs90_surf0_747s-Sheet3_processed.csv\n",
            "Skipping: h3_flux88_abs90_surf0_749s-Sheet1_processed.csv\n",
            "Skipping: h3_flux88_abs90_surf0_Redone_640s-Sheet3_processed.csv\n",
            "Skipping: h3_flux88_abs90_surf0_Redone_again2_398s-Sheet1_processed.csv\n",
            "Skipping: h3_flux88_abs90_surf0_Redone_again3_344s-Sheet1_processed.csv\n",
            "Skipping: h3_flux88_abs90_surf0_Redone_again_266s-Sheet1_processed.csv\n",
            "Skipping: h3_flux88_abs90_wr_surf0_529s-Sheet1_processed.csv\n",
            "Skipping: h6_flux88_abs20_mr_surf0_537s - Sheet1_processed.csv\n",
            "Skipping: h6_flux88_abs20_surf0_389s - Sheet3_processed.csv\n",
            "Skipping: h6_flux88_abs20_surf0_651s - Sheet4_processed.csv\n",
            "Skipping: h6_flux88_abs20_surf0_699s - Sheet1_processed.csv\n",
            "Skipping: h6_flux88_abs20_surf0_781s - Sheet2_processed.csv\n",
            "Skipping: h6_flux88_abs20_surf0_longRun_612s - Sheet2_processed.csv\n",
            "Skipping: h6_flux88_abs20_surf0_longRun_780s - Sheet1_processed.csv\n",
            "Skipping: h6_flux88_abs20_surf1_613s - Sheet1_processed.csv\n",
            "Skipping: h6_flux88_abs20_surf1_675s - Sheet3_processed.csv\n",
            "Skipping: h6_flux88_abs20_surf1_830s - Sheet2_processed.csv\n",
            "Skipping: h6_flux88_abs20_wr_surf0_734s - Sheet1_processed.csv\n"
          ]
        }
      ],
      "source": [
        "dataframes = []\n",
        "for fname in os.listdir(DATA_DIR):\n",
        "    if not fname.endswith(\".csv\"):\n",
        "        continue\n",
        "    params = parse_filename_params(fname)\n",
        "    if params is None or None in params:\n",
        "        print(f\"Skipping: {fname}\")\n",
        "        continue\n",
        "    path = os.path.join(DATA_DIR, fname)\n",
        "    df = load_and_process_file(path, *params)\n",
        "    dataframes.append(df)\n",
        "\n",
        "data = pd.concat(dataframes, ignore_index=True)"
      ]
    },
    {
      "cell_type": "code",
      "execution_count": 47,
      "metadata": {},
      "outputs": [],
      "source": [
        "theory_cols = [c for c in data.columns if c.startswith(\"Theoretical_Temps_\")]\n",
        "X = data[[\"Time\", \"h\", \"flux\", \"abs\", \"surf\"] + theory_cols]\n",
        "y = data.drop(columns=[\"Time\", \"h\", \"flux\", \"abs\", \"surf\"] + theory_cols)\n",
        "\n",
        "X_scaler = MinMaxScaler()\n",
        "y_scaler = MinMaxScaler()\n",
        "X_scaled = X_scaler.fit_transform(X)\n",
        "y_scaled = y_scaler.fit_transform(y)\n",
        "\n",
        "X_train, X_test, y_train, y_test = train_test_split(X_scaled, y_scaled, test_size=0.2, random_state=1)\n",
        "X_train = torch.tensor(X_train, dtype=torch.float32)\n",
        "X_test = torch.tensor(X_test, dtype=torch.float32)\n",
        "y_train = torch.tensor(y_train, dtype=torch.float32)\n",
        "y_test = torch.tensor(y_test, dtype=torch.float32)"
      ]
    },
    {
      "cell_type": "code",
      "execution_count": 48,
      "metadata": {},
      "outputs": [],
      "source": [
        "class NeuralNet(nn.Module):\n",
        "    def __init__(self, input_size, output_size):\n",
        "        super().__init__()\n",
        "        self.fc1 = nn.Linear(input_size, 64)\n",
        "        self.fc2 = nn.Linear(64, 128)\n",
        "        self.fc3 = nn.Linear(128, 64)\n",
        "        self.fc4 = nn.Linear(64, output_size)\n",
        "        self.relu = nn.ReLU()\n",
        "\n",
        "    def forward(self, x):\n",
        "        x = self.relu(self.fc1(x))\n",
        "        x = self.relu(self.fc2(x))\n",
        "        x = self.relu(self.fc3(x))\n",
        "        return self.fc4(x)\n",
        "\n",
        "input_size = X_train.shape[1]\n",
        "output_size = y_train.shape[1]\n",
        "model = NeuralNet(input_size, output_size)"
      ]
    },
    {
      "cell_type": "code",
      "execution_count": 49,
      "metadata": {},
      "outputs": [],
      "source": [
        "import random\n",
        "SEED = 42\n",
        "random.seed(SEED)\n",
        "np.random.seed(SEED)\n",
        "torch.manual_seed(SEED)\n",
        "torch.backends.cudnn.deterministic = True\n",
        "torch.backends.cudnn.benchmark = False\n"
      ]
    },
    {
      "cell_type": "code",
      "execution_count": 50,
      "metadata": {},
      "outputs": [
        {
          "name": "stdout",
          "output_type": "stream",
          "text": [
            "Epoch [50/500], Loss: 0.040789\n",
            "Epoch [100/500], Loss: 0.022865\n",
            "Epoch [150/500], Loss: 0.015902\n",
            "Epoch [200/500], Loss: 0.014774\n",
            "Epoch [250/500], Loss: 0.014193\n",
            "Epoch [300/500], Loss: 0.013483\n",
            "Epoch [350/500], Loss: 0.012753\n",
            "Epoch [400/500], Loss: 0.012397\n",
            "Epoch [450/500], Loss: 0.012172\n",
            "Epoch [500/500], Loss: 0.011969\n"
          ]
        }
      ],
      "source": [
        "criterion = nn.MSELoss()\n",
        "optimizer = optim.Adam(model.parameters(), lr=0.001)\n",
        "EPOCHS = 500\n",
        "\n",
        "for epoch in range(EPOCHS):\n",
        "    model.train()\n",
        "    optimizer.zero_grad()\n",
        "    predictions = model(X_train)\n",
        "    loss = criterion(predictions, y_train)\n",
        "    loss.backward()\n",
        "    optimizer.step()\n",
        "\n",
        "    if (epoch + 1) % 50 == 0:\n",
        "        print(f\"Epoch [{epoch+1}/{EPOCHS}], Loss: {loss.item():.6f}\")"
      ]
    },
    {
      "cell_type": "code",
      "execution_count": 51,
      "metadata": {},
      "outputs": [
        {
          "name": "stdout",
          "output_type": "stream",
          "text": [
            "\n",
            "RMSE per output (°C):\n",
            "TC1_tip: 40.951 °C\n",
            "TC2: 40.332 °C\n",
            "TC3: 40.827 °C\n",
            "TC4: 40.028 °C\n",
            "TC5: 39.692 °C\n",
            "TC6: 39.293 °C\n",
            "TC7: 39.744 °C\n",
            "TC8: 40.567 °C\n",
            "TC9: 41.761 °C\n",
            "TC10: 43.174 °C\n",
            "\n",
            "Average RMSE across all outputs: 40.637 °C\n",
            "Model weights saved to 'thermal_model_weights.pth'\n"
          ]
        }
      ],
      "source": [
        "model.eval()\n",
        "with torch.no_grad():\n",
        "    preds = model(X_test).numpy()\n",
        "\n",
        "preds_real = y_scaler.inverse_transform(preds)\n",
        "y_real = y_scaler.inverse_transform(y_test.numpy())\n",
        "rmse = np.sqrt(np.mean((preds_real - y_real) ** 2, axis=0))\n",
        "\n",
        "print(\"\\nRMSE per output (°C):\")\n",
        "for col, val in zip(y.columns, rmse):\n",
        "    print(f\"{col}: {val:.3f} °C\")\n",
        "\n",
        "print(f\"\\nAverage RMSE across all outputs: {np.mean(rmse):.3f} °C\")\n",
        "\n",
        "torch.save(model.state_dict(), \"thermal_model_weights.pth\")\n",
        "print(\"Model weights saved to 'thermal_model_weights.pth'\")"
      ]
    },
    {
      "cell_type": "markdown",
      "metadata": {},
      "source": [
        "<!-- ----------------------------------------------------------------------------------------------------------------------------------- -->"
      ]
    },
    {
      "cell_type": "code",
      "execution_count": 54,
      "metadata": {},
      "outputs": [
        {
          "name": "stdout",
          "output_type": "stream",
          "text": [
            "\n",
            "Predicted Temperatures: [[344.10406 347.67975 348.32047 351.7217  352.54453 356.4938  353.60437\n",
            "  356.736   353.87872 337.36874]]\n"
          ]
        },
        {
          "name": "stderr",
          "output_type": "stream",
          "text": [
            "C:\\Users\\Rajasekar\\AppData\\Roaming\\Python\\Python311\\site-packages\\sklearn\\utils\\validation.py:2739: UserWarning: X does not have valid feature names, but MinMaxScaler was fitted with feature names\n",
            "  warnings.warn(\n"
          ]
        }
      ],
      "source": [
        "new_input = [[1049.0, 0.1575, 25900, 3, 0.98] + [350.0]*10]  # Replace with actual physics model output\n",
        "new_input_scaled = X_scaler.transform(new_input)\n",
        "new_tensor = torch.tensor(new_input_scaled, dtype=torch.float32)\n",
        "\n",
        "with torch.no_grad():\n",
        "    pred = model(new_tensor).numpy()\n",
        "real_pred = y_scaler.inverse_transform(pred)\n",
        "print(\"\\nPredicted Temperatures:\", real_pred)\n"
      ]
    }
  ],
  "metadata": {
    "colab": {
      "provenance": []
    },
    "kernelspec": {
      "display_name": "Python 3",
      "name": "python3"
    },
    "language_info": {
      "codemirror_mode": {
        "name": "ipython",
        "version": 3
      },
      "file_extension": ".py",
      "mimetype": "text/x-python",
      "name": "python",
      "nbconvert_exporter": "python",
      "pygments_lexer": "ipython3",
      "version": "3.11.5"
    }
  },
  "nbformat": 4,
  "nbformat_minor": 0
}
