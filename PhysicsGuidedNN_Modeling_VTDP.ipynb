{
  "cells": [
    {
      "cell_type": "code",
      "execution_count": 16,
      "metadata": {
        "colab": {
          "base_uri": "https://localhost:8080/"
        },
        "id": "vi_opgPH29S_",
        "outputId": "12c01415-4303-4905-e005-ce4875fbd2f3"
      },
      "outputs": [],
      "source": [
        "\n",
        "# cd drive/MyDrive/Colab\\ Notebooks/\n"
      ]
    },
    {
      "cell_type": "code",
      "execution_count": 17,
      "metadata": {
        "colab": {
          "base_uri": "https://localhost:8080/"
        },
        "id": "hnks7Rop3Bft",
        "outputId": "2305f684-b61c-4ceb-9779-fdea80731dfa"
      },
      "outputs": [],
      "source": [
        "# ls"
      ]
    },
    {
      "cell_type": "markdown",
      "metadata": {
        "id": "8mVGwbKW0Vn2"
      },
      "source": [
        "# Imports + Setup"
      ]
    },
    {
      "cell_type": "code",
      "execution_count": 18,
      "metadata": {
        "id": "HNxLFpgi0Vn4"
      },
      "outputs": [],
      "source": [
        "import os, re\n",
        "import pandas as pd\n",
        "import numpy as np\n",
        "import torch\n",
        "import torch.nn as nn\n",
        "import torch.optim as optim\n",
        "from sklearn.model_selection import train_test_split\n",
        "from sklearn.preprocessing import MinMaxScaler\n",
        "import matplotlib.pyplot as plt"
      ]
    },
    {
      "cell_type": "code",
      "execution_count": 19,
      "metadata": {
        "id": "5-TXbl4Y0Vn5"
      },
      "outputs": [],
      "source": [
        "# Set seeds for reproducibility\n",
        "import random\n",
        "SEED = 1\n",
        "random.seed(SEED)\n",
        "np.random.seed(SEED)\n",
        "torch.manual_seed(SEED)\n",
        "torch.backends.cudnn.deterministic = True  # Ensure deterministic behavior for CUDA\n",
        "torch.backends.cudnn.benchmark = False      # Disable auto-tuner that can introduce randomness"
      ]
    },
    {
      "cell_type": "code",
      "execution_count": 20,
      "metadata": {
        "id": "q96kJ_tT0Vn6"
      },
      "outputs": [],
      "source": [
        "# File Mapping\n",
        "h_map = {2: 0.0375, 3: 0.084, 6: 0.1575}\n",
        "flux_map = {88: 25900, 78: 21250, 73: 19400}\n",
        "abs_map = {0: 3, 92: 100}\n",
        "surf_map = {0: 0.98, 1: 0.76}\n",
        "pattern = r\"h(\\d+)_flux(\\d+)_abs(\\d+)(?:_[A-Za-z0-9]+)*_surf([01])(?:_[A-Za-z0-9]+)*[\\s_]+(\\d+)s\\b\"\n",
        "# Depending on where u store the data files\n",
        "# cd drive/MyDrive/Colab\\ Notebooks/Theoretical_VTDP\n",
        "DATA_DIR = \"../../data/Theoretical_VTDP\"\n",
        "# DATA_DIR = \"Theoretical_VTDP/\"\n",
        "DROP_COLS = [\"TC_9_5\", \"TC_Bottom_rec_groove\", \"TC_wall_ins_ext\", \"TC_bottom_ins_groove\", \"Theoretical_Temps_11\"]"
      ]
    },
    {
      "cell_type": "markdown",
      "metadata": {
        "id": "IEPwSUTU0Vn6"
      },
      "source": [
        "# Utilities"
      ]
    },
    {
      "cell_type": "code",
      "execution_count": 21,
      "metadata": {
        "id": "s0OmPxTi0Vn7"
      },
      "outputs": [],
      "source": [
        "def parse_filename_params(filename):\n",
        "    m = re.search(pattern, filename)\n",
        "    if not m:\n",
        "        return None\n",
        "    h_raw    = int(m.group(1))\n",
        "    flux_raw = int(m.group(2))\n",
        "    abs_raw  = int(m.group(3))\n",
        "    surf_raw = int(m.group(4))\n",
        "    t        = int(m.group(5))\n",
        "\n",
        "    # keeping number if no entry exists\n",
        "    h    = h_map.get(h_raw,    h_raw)\n",
        "    flux = flux_map.get(flux_raw, flux_raw)\n",
        "    abs_ = abs_map.get(abs_raw,  abs_raw)\n",
        "    surf = surf_map.get(surf_raw)\n",
        "\n",
        "    return h, flux, abs_, surf, t\n",
        "\n",
        "def load_and_process_file(path, h, flux, abs_val, surf, min_time):\n",
        "    df = pd.read_csv(path, encoding=\"utf-8-sig\")\n",
        "    df = df[df[\"Time\"] >= min_time].copy()\n",
        "    df.drop(columns=[col for col in df.columns if col in DROP_COLS or col.startswith(\"Depth_\")], inplace=True)\n",
        "    df[\"h\"] = h\n",
        "    df[\"flux\"] = flux\n",
        "    df[\"abs\"] = abs_val\n",
        "    df[\"surf\"] = surf\n",
        "    return df"
      ]
    },
    {
      "cell_type": "markdown",
      "metadata": {
        "id": "EZon2gIG0Vn7"
      },
      "source": [
        "# Load and Combine Data"
      ]
    },
    {
      "cell_type": "code",
      "execution_count": 22,
      "metadata": {
        "colab": {
          "base_uri": "https://localhost:8080/"
        },
        "id": "YJIZorgZ0Vn8",
        "outputId": "db3c8589-a8da-40b7-b963-187cf3df65e3"
      },
      "outputs": [
        {
          "name": "stdout",
          "output_type": "stream",
          "text": [
            "Skipping: h2_flux88_abs25_wr_surfParAdded_169s - Sheet1_processed.csv\n",
            "Skipping: h2_flux88_abs25_wr_surfSimD_525s - Sheet1_processed.csv\n",
            "<class 'pandas.core.frame.DataFrame'>\n",
            "RangeIndex: 66146 entries, 0 to 66145\n",
            "Data columns (total 25 columns):\n",
            " #   Column                Non-Null Count  Dtype  \n",
            "---  ------                --------------  -----  \n",
            " 0   Time                  66146 non-null  int64  \n",
            " 1   TC1_tip               66146 non-null  float64\n",
            " 2   TC2                   66146 non-null  float64\n",
            " 3   TC3                   66146 non-null  float64\n",
            " 4   TC4                   66146 non-null  float64\n",
            " 5   TC5                   66146 non-null  float64\n",
            " 6   TC6                   66146 non-null  float64\n",
            " 7   TC7                   66146 non-null  float64\n",
            " 8   TC8                   66146 non-null  float64\n",
            " 9   TC9                   66146 non-null  float64\n",
            " 10  TC10                  66146 non-null  float64\n",
            " 11  Theoretical_Temps_1   66146 non-null  float64\n",
            " 12  Theoretical_Temps_2   66146 non-null  float64\n",
            " 13  Theoretical_Temps_3   66146 non-null  float64\n",
            " 14  Theoretical_Temps_4   66146 non-null  float64\n",
            " 15  Theoretical_Temps_5   66146 non-null  float64\n",
            " 16  Theoretical_Temps_6   66146 non-null  float64\n",
            " 17  Theoretical_Temps_7   66146 non-null  float64\n",
            " 18  Theoretical_Temps_8   66146 non-null  float64\n",
            " 19  Theoretical_Temps_9   66146 non-null  float64\n",
            " 20  Theoretical_Temps_10  66146 non-null  float64\n",
            " 21  h                     66146 non-null  float64\n",
            " 22  flux                  66146 non-null  int64  \n",
            " 23  abs                   66146 non-null  int64  \n",
            " 24  surf                  66146 non-null  float64\n",
            "dtypes: float64(22), int64(3)\n",
            "memory usage: 12.6 MB\n",
            "None\n",
            "   Time  TC1_tip     TC2     TC3     TC4     TC5    TC6    TC7    TC8    TC9  \\\n",
            "0   571   362.19  358.26  333.06  183.66  124.89  82.55  64.62  52.62  42.62   \n",
            "1   572   362.24  358.30  332.63  183.57  124.75  82.47  64.61  52.71  42.62   \n",
            "2   573   362.55  358.94  332.55  183.51  124.68  82.44  64.79  52.91  42.80   \n",
            "3   574   362.82  359.44  332.70  183.64  124.69  82.52  65.04  53.29  43.01   \n",
            "4   575   363.11  359.92  332.86  183.88  124.72  82.53  65.26  53.63  43.24   \n",
            "\n",
            "   ...  Theoretical_Temps_5  Theoretical_Temps_6  Theoretical_Temps_7  \\\n",
            "0  ...           401.456645           401.456645           401.456645   \n",
            "1  ...           401.612500           401.612500           401.612500   \n",
            "2  ...           401.768277           401.768277           401.768277   \n",
            "3  ...           401.923974           401.923974           401.923974   \n",
            "4  ...           402.079593           402.079593           402.079593   \n",
            "\n",
            "   Theoretical_Temps_8  Theoretical_Temps_9  Theoretical_Temps_10       h  \\\n",
            "0           401.456645           401.456645            401.456645  0.0375   \n",
            "1           401.612500           401.612500            401.612500  0.0375   \n",
            "2           401.768277           401.768277            401.768277  0.0375   \n",
            "3           401.923974           401.923974            401.923974  0.0375   \n",
            "4           402.079593           402.079593            402.079593  0.0375   \n",
            "\n",
            "    flux  abs  surf  \n",
            "0  25900    3  0.98  \n",
            "1  25900    3  0.98  \n",
            "2  25900    3  0.98  \n",
            "3  25900    3  0.98  \n",
            "4  25900    3  0.98  \n",
            "\n",
            "[5 rows x 25 columns]\n"
          ]
        }
      ],
      "source": [
        "dataframes = []\n",
        "for fname in os.listdir(DATA_DIR):\n",
        "    if not fname.endswith(\".csv\"):\n",
        "        continue\n",
        "    params = parse_filename_params(fname)\n",
        "    if params is None or params[3] is None:\n",
        "        print(\"Skipping:\", fname)\n",
        "        continue\n",
        "    path = os.path.join(DATA_DIR, fname)\n",
        "    df = load_and_process_file(path, *params)\n",
        "    dataframes.append(df)\n",
        "\n",
        "data = pd.concat(dataframes, ignore_index=True)\n",
        "print(data.info())\n",
        "print(data.head())\n"
      ]
    },
    {
      "cell_type": "markdown",
      "metadata": {
        "id": "PhvD7dmJ0Vn9"
      },
      "source": [
        "# Preprocessing"
      ]
    },
    {
      "cell_type": "code",
      "execution_count": 23,
      "metadata": {
        "id": "kNe4WtPR0Vn-"
      },
      "outputs": [],
      "source": [
        "# 1. Split first before scaling\n",
        "theory_cols = [c for c in data.columns if c.startswith(\"Theoretical_Temps_\")]\n",
        "X = data[[\"Time\", \"h\", \"flux\", \"abs\", \"surf\"] + theory_cols]\n",
        "y = data.drop(columns=[\"Time\", \"h\", \"flux\", \"abs\", \"surf\"] + theory_cols)\n",
        "y_columns = y.columns  # keep for later inverse_transform\n",
        "\n",
        "# Initial split\n",
        "X_train_raw, X_temp_raw, y_train_raw, y_temp_raw = train_test_split(X, y, test_size=0.3, random_state=SEED)\n",
        "X_val_raw, X_test_raw, y_val_raw, y_test_raw = train_test_split(X_temp_raw, y_temp_raw, test_size=0.5, random_state=SEED)\n",
        "\n",
        "# 2. Scale using only training set statistics\n",
        "X_scaler = MinMaxScaler()\n",
        "X_train_scaled = X_scaler.fit_transform(X_train_raw)\n",
        "X_val_scaled   = X_scaler.transform(X_val_raw)\n",
        "X_test_scaled  = X_scaler.transform(X_test_raw)\n",
        "\n",
        "y_scaler = MinMaxScaler()\n",
        "y_train_scaled = y_scaler.fit_transform(y_train_raw)\n",
        "y_val_scaled   = y_scaler.transform(y_val_raw)\n",
        "y_test_scaled  = y_scaler.transform(y_test_raw)\n",
        "\n",
        "# 3. Convert to tensors\n",
        "X_train = torch.tensor(X_train_scaled, dtype=torch.float32)\n",
        "X_val   = torch.tensor(X_val_scaled, dtype=torch.float32)\n",
        "X_test  = torch.tensor(X_test_scaled, dtype=torch.float32)\n",
        "\n",
        "y_train = torch.tensor(y_train_scaled, dtype=torch.float32)\n",
        "y_val   = torch.tensor(y_val_scaled, dtype=torch.float32)\n",
        "y_test  = torch.tensor(y_test_scaled, dtype=torch.float32)\n"
      ]
    },
    {
      "cell_type": "markdown",
      "metadata": {
        "id": "BqsJsRau0Vn_"
      },
      "source": [
        "# Model"
      ]
    },
    {
      "cell_type": "code",
      "execution_count": 24,
      "metadata": {
        "id": "XYdshwqi0Vn_"
      },
      "outputs": [],
      "source": [
        "class NeuralNet(nn.Module):\n",
        "    def __init__(self, input_size, output_size):\n",
        "        super().__init__()\n",
        "        self.fc1 = nn.Linear(input_size, 64)\n",
        "        self.fc2 = nn.Linear(64, 128)\n",
        "        self.fc3 = nn.Linear(128, 64)\n",
        "        self.fc4 = nn.Linear(64, output_size)\n",
        "        self.relu = nn.ReLU()\n",
        "\n",
        "    def forward(self, x):\n",
        "        x = self.relu(self.fc1(x))\n",
        "        x = self.relu(self.fc2(x))\n",
        "        x = self.relu(self.fc3(x))\n",
        "        return self.fc4(x)\n",
        "\n",
        "input_size = X_train.shape[1]\n",
        "output_size = y_train.shape[1]\n",
        "model = NeuralNet(input_size, output_size)"
      ]
    },
    {
      "cell_type": "markdown",
      "metadata": {
        "id": "pyN5g_Pe0Vn_"
      },
      "source": [
        "# Training"
      ]
    },
    {
      "cell_type": "code",
      "execution_count": 25,
      "metadata": {
        "colab": {
          "base_uri": "https://localhost:8080/"
        },
        "id": "Kt-6ScmG0VoA",
        "outputId": "3edd5450-3d88-4f8b-a500-4eb093a1c363"
      },
      "outputs": [
        {
          "name": "stdout",
          "output_type": "stream",
          "text": [
            "Epoch [50/500], Train Loss: 0.040667, Val Loss: 0.041580\n",
            "Epoch [100/500], Train Loss: 0.022866, Val Loss: 0.023742\n",
            "Epoch [150/500], Train Loss: 0.012598, Val Loss: 0.013492\n",
            "Epoch [200/500], Train Loss: 0.010070, Val Loss: 0.011004\n",
            "Epoch [250/500], Train Loss: 0.008902, Val Loss: 0.009800\n",
            "Epoch [300/500], Train Loss: 0.008269, Val Loss: 0.009148\n",
            "Epoch [350/500], Train Loss: 0.007986, Val Loss: 0.008843\n",
            "Epoch [400/500], Train Loss: 0.007788, Val Loss: 0.008623\n",
            "Epoch [450/500], Train Loss: 0.007660, Val Loss: 0.008474\n",
            "Epoch [500/500], Train Loss: 0.007554, Val Loss: 0.008348\n"
          ]
        }
      ],
      "source": [
        "criterion = nn.MSELoss()\n",
        "optimizer = optim.Adam(model.parameters(), lr=0.001)\n",
        "EPOCHS = 500\n",
        "\n",
        "train_losses = []\n",
        "val_losses = []\n",
        "\n",
        "for epoch in range(EPOCHS):\n",
        "    model.train()\n",
        "    optimizer.zero_grad()\n",
        "    predictions = model(X_train)\n",
        "    train_loss = criterion(predictions, y_train)\n",
        "    train_loss.backward()\n",
        "    optimizer.step()\n",
        "\n",
        "    # validate\n",
        "    model.eval()\n",
        "    with torch.no_grad():\n",
        "        val_preds = model(X_val)\n",
        "        val_loss = criterion(val_preds, y_val)\n",
        "\n",
        "    train_losses.append(train_loss.item())\n",
        "    val_losses.append(val_loss.item())\n",
        "\n",
        "    if (epoch + 1) % 50 == 0:\n",
        "        print(f\"Epoch [{epoch+1}/{EPOCHS}], Train Loss: {train_loss.item():.6f}, Val Loss: {val_loss.item():.6f}\")"
      ]
    },
    {
      "cell_type": "code",
      "execution_count": 26,
      "metadata": {
        "colab": {
          "base_uri": "https://localhost:8080/",
          "height": 564
        },
        "id": "i_oUn8N-0VoA",
        "outputId": "922707c8-8445-457f-bbeb-29162fb3d906"
      },
      "outputs": [
        {
          "data": {
            "image/png": "[encoded data removed]",
            "text/plain": [
              "<Figure size 1000x600 with 1 Axes>"
            ]
          },
          "metadata": {},
          "output_type": "display_data"
        }
      ],
      "source": [
        "# ✅ Plot training loss\n",
        "plt.figure(figsize=(10, 6))\n",
        "plt.plot(train_losses, label='Train Loss', color='blue')\n",
        "plt.plot(val_losses, label='Validation Loss', color='orange')\n",
        "plt.xlabel('Epoch')\n",
        "plt.ylabel('Loss')\n",
        "plt.title('Training and Validation Loss over Epochs')\n",
        "plt.legend()\n",
        "plt.grid(True)\n",
        "plt.show()"
      ]
    },
    {
      "cell_type": "markdown",
      "metadata": {
        "id": "X6RMSCgq0VoA"
      },
      "source": [
        "# Evaluation"
      ]
    },
    {
      "cell_type": "code",
      "execution_count": 27,
      "metadata": {
        "colab": {
          "base_uri": "https://localhost:8080/"
        },
        "id": "Ltk47Zh-0VoB",
        "outputId": "e8fc3bc0-07ba-4f71-b206-15ac19047b28"
      },
      "outputs": [
        {
          "name": "stdout",
          "output_type": "stream",
          "text": [
            "\n",
            "RMSE per output (°C):\n",
            "TC1_tip: 30.105 °C\n",
            "TC2: 29.750 °C\n",
            "TC3: 30.322 °C\n",
            "TC4: 29.998 °C\n",
            "TC5: 30.011 °C\n",
            "TC6: 29.819 °C\n",
            "TC7: 30.231 °C\n",
            "TC8: 31.198 °C\n",
            "TC9: 32.863 °C\n",
            "TC10: 35.550 °C\n",
            "\n",
            "Average RMSE across all outputs: 30.985 °C\n",
            "Model weights saved to 'thermal_model_weights.pth'\n"
          ]
        }
      ],
      "source": [
        "model.eval()\n",
        "with torch.no_grad():\n",
        "    preds = model(X_test).numpy()\n",
        "\n",
        "preds_real = y_scaler.inverse_transform(preds)\n",
        "y_real = y_scaler.inverse_transform(y_test.numpy())\n",
        "rmse = np.sqrt(np.mean((preds_real - y_real) ** 2, axis=0))\n",
        "\n",
        "print(\"\\nRMSE per output (°C):\")\n",
        "for col, val in zip(y.columns, rmse):\n",
        "    print(f\"{col}: {val:.3f} °C\")\n",
        "\n",
        "print(f\"\\nAverage RMSE across all outputs: {np.mean(rmse):.3f} °C\")\n",
        "\n",
        "torch.save(model.state_dict(), \"thermal_model_weights.pth\")\n",
        "print(\"Model weights saved to 'thermal_model_weights.pth'\")"
      ]
    },
    {
      "cell_type": "markdown",
      "metadata": {
        "id": "1pMWK_uV0VoC"
      },
      "source": [
        "<!-- ----------------------------------------------------------------------------------------------------------------------------------- -->"
      ]
    },
    {
      "cell_type": "code",
      "execution_count": 28,
      "metadata": {
        "colab": {
          "base_uri": "https://localhost:8080/"
        },
        "id": "EqP4hPqZ0VoC",
        "outputId": "a54f302a-e595-4a2d-9267-c459f594be3b"
      },
      "outputs": [
        {
          "name": "stdout",
          "output_type": "stream",
          "text": [
            "\n",
            "Predicted Temperatures: [[354.0398  354.19827 354.24744 352.62277 352.20047 354.19583 357.13162\n",
            "  356.53366 355.84616 343.77643]]\n"
          ]
        },
        {
          "name": "stderr",
          "output_type": "stream",
          "text": [
            "C:\\Users\\Rajasekar\\AppData\\Roaming\\Python\\Python311\\site-packages\\sklearn\\utils\\validation.py:2739: UserWarning: X does not have valid feature names, but MinMaxScaler was fitted with feature names\n",
            "  warnings.warn(\n"
          ]
        }
      ],
      "source": [
        "new_input = [\n",
        "    [  # Full input vector for inference\n",
        "        1049.0,     # Time (seconds)\n",
        "        0.1575,     # Depth (h)\n",
        "        25900,      # Heat flux (q0)\n",
        "        3,          # Absorption coefficient (abs)\n",
        "        0.98        # Surface emissivity (surf)\n",
        "    ] + [350.0]*10  # Theoretical temperature values at 10 vertical points\n",
        "]\n",
        "new_input_scaled = X_scaler.transform(new_input)\n",
        "new_tensor = torch.tensor(new_input_scaled, dtype=torch.float32)\n",
        "\n",
        "with torch.no_grad():\n",
        "    pred = model(new_tensor).numpy()\n",
        "real_pred = y_scaler.inverse_transform(pred)\n",
        "print(\"\\nPredicted Temperatures:\", real_pred)\n"
      ]
    }
  ],
  "metadata": {
    "colab": {
      "provenance": []
    },
    "kernelspec": {
      "display_name": "Python 3",
      "name": "python3"
    },
    "language_info": {
      "codemirror_mode": {
        "name": "ipython",
        "version": 3
      },
      "file_extension": ".py",
      "mimetype": "text/x-python",
      "name": "python",
      "nbconvert_exporter": "python",
      "pygments_lexer": "ipython3",
      "version": "3.11.5"
    }
  },
  "nbformat": 4,
  "nbformat_minor": 0
}
