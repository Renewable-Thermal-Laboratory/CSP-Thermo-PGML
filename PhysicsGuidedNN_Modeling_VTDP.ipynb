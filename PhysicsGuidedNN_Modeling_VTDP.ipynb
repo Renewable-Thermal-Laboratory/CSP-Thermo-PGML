{
  "cells": [
    {
      "cell_type": "code",
      "execution_count": 41,
      "metadata": {
        "colab": {
          "base_uri": "https://localhost:8080/"
        },
        "id": "vi_opgPH29S_",
        "outputId": "12c01415-4303-4905-e005-ce4875fbd2f3"
      },
      "outputs": [],
      "source": [
        "\n",
        "# cd drive/MyDrive/Colab\\ Notebooks/\n"
      ]
    },
    {
      "cell_type": "code",
      "execution_count": 42,
      "metadata": {
        "colab": {
          "base_uri": "https://localhost:8080/"
        },
        "id": "hnks7Rop3Bft",
        "outputId": "2305f684-b61c-4ceb-9779-fdea80731dfa"
      },
      "outputs": [],
      "source": [
        "# ls"
      ]
    },
    {
      "cell_type": "markdown",
      "metadata": {
        "id": "8mVGwbKW0Vn2"
      },
      "source": [
        "# Imports + Setup"
      ]
    },
    {
      "cell_type": "code",
      "execution_count": null,
      "metadata": {
        "id": "HNxLFpgi0Vn4"
      },
      "outputs": [],
      "source": [
        "import os, re\n",
        "import pandas as pd\n",
        "import numpy as np\n",
        "import torch\n",
        "import torch.nn as nn\n",
        "import torch.optim as optim\n",
        "from sklearn.model_selection import train_test_split\n",
        "from sklearn.preprocessing import MinMaxScaler\n",
        "import joblib\n",
        "import matplotlib.pyplot as plt"
      ]
    },
    {
      "cell_type": "code",
      "execution_count": 3,
      "metadata": {
        "id": "5-TXbl4Y0Vn5"
      },
      "outputs": [],
      "source": [
        "# Set seeds for reproducibility\n",
        "import random\n",
        "SEED = 1\n",
        "random.seed(SEED)\n",
        "np.random.seed(SEED)\n",
        "torch.manual_seed(SEED)\n",
        "torch.backends.cudnn.deterministic = True  # Ensure deterministic behavior for CUDA\n",
        "torch.backends.cudnn.benchmark = False      # Disable auto-tuner that can introduce randomness"
      ]
    },
    {
      "cell_type": "code",
      "execution_count": 4,
      "metadata": {
        "id": "q96kJ_tT0Vn6"
      },
      "outputs": [],
      "source": [
        "# File Mapping\n",
        "h_map = {2: 0.0375, 3: 0.084, 6: 0.1575}\n",
        "flux_map = {88: 25900, 78: 21250, 73: 19400}\n",
        "abs_map = {0: 3, 92: 100}\n",
        "surf_map = {0: 0.98, 1: 0.76}\n",
        "pattern = r\"h(\\d+)_flux(\\d+)_abs(\\d+)(?:_[A-Za-z0-9]+)*_surf([01])(?:_[A-Za-z0-9]+)*[\\s_]+(\\d+)s\\b\"\n",
        "# Depending on where u store the data files\n",
        "# cd drive/MyDrive/Colab\\ Notebooks/Theoretical_VTDP\n",
        "DATA_DIR = \"../../data/Theoretical_VTDP\"\n",
        "# DATA_DIR = \"Theoretical_VTDP/\"\n",
        "DROP_COLS = [\"TC_9_5\", \"TC_Bottom_rec_groove\", \"TC_wall_ins_ext\", \"TC_bottom_ins_groove\", \"Theoretical_Temps_11\"]"
      ]
    },
    {
      "cell_type": "markdown",
      "metadata": {
        "id": "IEPwSUTU0Vn6"
      },
      "source": [
        "# Utilities"
      ]
    },
    {
      "cell_type": "code",
      "execution_count": 5,
      "metadata": {
        "id": "s0OmPxTi0Vn7"
      },
      "outputs": [],
      "source": [
        "def parse_filename_params(filename):\n",
        "    m = re.search(pattern, filename)\n",
        "    if not m:\n",
        "        return None\n",
        "    h_raw    = int(m.group(1))\n",
        "    flux_raw = int(m.group(2))\n",
        "    abs_raw  = int(m.group(3))\n",
        "    surf_raw = int(m.group(4))\n",
        "    t        = int(m.group(5))\n",
        "\n",
        "    # keeping number if no entry exists\n",
        "    h    = h_map.get(h_raw,    h_raw)\n",
        "    flux = flux_map.get(flux_raw, flux_raw)\n",
        "    abs_ = abs_map.get(abs_raw,  abs_raw)\n",
        "    surf = surf_map.get(surf_raw)\n",
        "\n",
        "    return h, flux, abs_, surf, t\n",
        "\n",
        "def load_and_process_file(path, h, flux, abs_val, surf, min_time):\n",
        "    df = pd.read_csv(path, encoding=\"utf-8-sig\")\n",
        "    df = df[df[\"Time\"] >= min_time].copy()\n",
        "    df.drop(columns=[col for col in df.columns if col in DROP_COLS or col.startswith(\"Depth_\")], inplace=True)\n",
        "    df[\"h\"] = h\n",
        "    df[\"flux\"] = flux\n",
        "    df[\"abs\"] = abs_val\n",
        "    df[\"surf\"] = surf\n",
        "    return df"
      ]
    },
    {
      "cell_type": "markdown",
      "metadata": {
        "id": "EZon2gIG0Vn7"
      },
      "source": [
        "# Load and Combine Data"
      ]
    },
    {
      "cell_type": "code",
      "execution_count": 6,
      "metadata": {
        "colab": {
          "base_uri": "https://localhost:8080/"
        },
        "id": "YJIZorgZ0Vn8",
        "outputId": "db3c8589-a8da-40b7-b963-187cf3df65e3"
      },
      "outputs": [
        {
          "name": "stdout",
          "output_type": "stream",
          "text": [
            "Skipping: h2_flux88_abs25_wr_surfParAdded_169s - Sheet1_processed.csv\n",
            "Skipping: h2_flux88_abs25_wr_surfSimD_525s - Sheet1_processed.csv\n",
            "<class 'pandas.core.frame.DataFrame'>\n",
            "RangeIndex: 66146 entries, 0 to 66145\n",
            "Data columns (total 25 columns):\n",
            " #   Column                Non-Null Count  Dtype  \n",
            "---  ------                --------------  -----  \n",
            " 0   Time                  66146 non-null  int64  \n",
            " 1   TC1_tip               66146 non-null  float64\n",
            " 2   TC2                   66146 non-null  float64\n",
            " 3   TC3                   66146 non-null  float64\n",
            " 4   TC4                   66146 non-null  float64\n",
            " 5   TC5                   66146 non-null  float64\n",
            " 6   TC6                   66146 non-null  float64\n",
            " 7   TC7                   66146 non-null  float64\n",
            " 8   TC8                   66146 non-null  float64\n",
            " 9   TC9                   66146 non-null  float64\n",
            " 10  TC10                  66146 non-null  float64\n",
            " 11  Theoretical_Temps_1   66146 non-null  float64\n",
            " 12  Theoretical_Temps_2   66146 non-null  float64\n",
            " 13  Theoretical_Temps_3   66146 non-null  float64\n",
            " 14  Theoretical_Temps_4   66146 non-null  float64\n",
            " 15  Theoretical_Temps_5   66146 non-null  float64\n",
            " 16  Theoretical_Temps_6   66146 non-null  float64\n",
            " 17  Theoretical_Temps_7   66146 non-null  float64\n",
            " 18  Theoretical_Temps_8   66146 non-null  float64\n",
            " 19  Theoretical_Temps_9   66146 non-null  float64\n",
            " 20  Theoretical_Temps_10  66146 non-null  float64\n",
            " 21  h                     66146 non-null  float64\n",
            " 22  flux                  66146 non-null  int64  \n",
            " 23  abs                   66146 non-null  int64  \n",
            " 24  surf                  66146 non-null  float64\n",
            "dtypes: float64(22), int64(3)\n",
            "memory usage: 12.6 MB\n",
            "None\n",
            "   Time  TC1_tip     TC2     TC3     TC4     TC5    TC6    TC7    TC8    TC9  \\\n",
            "0   571   362.19  358.26  333.06  183.66  124.89  82.55  64.62  52.62  42.62   \n",
            "1   572   362.24  358.30  332.63  183.57  124.75  82.47  64.61  52.71  42.62   \n",
            "2   573   362.55  358.94  332.55  183.51  124.68  82.44  64.79  52.91  42.80   \n",
            "3   574   362.82  359.44  332.70  183.64  124.69  82.52  65.04  53.29  43.01   \n",
            "4   575   363.11  359.92  332.86  183.88  124.72  82.53  65.26  53.63  43.24   \n",
            "\n",
            "   ...  Theoretical_Temps_5  Theoretical_Temps_6  Theoretical_Temps_7  \\\n",
            "0  ...           401.456645           401.456645           401.456645   \n",
            "1  ...           401.612500           401.612500           401.612500   \n",
            "2  ...           401.768277           401.768277           401.768277   \n",
            "3  ...           401.923974           401.923974           401.923974   \n",
            "4  ...           402.079593           402.079593           402.079593   \n",
            "\n",
            "   Theoretical_Temps_8  Theoretical_Temps_9  Theoretical_Temps_10       h  \\\n",
            "0           401.456645           401.456645            401.456645  0.0375   \n",
            "1           401.612500           401.612500            401.612500  0.0375   \n",
            "2           401.768277           401.768277            401.768277  0.0375   \n",
            "3           401.923974           401.923974            401.923974  0.0375   \n",
            "4           402.079593           402.079593            402.079593  0.0375   \n",
            "\n",
            "    flux  abs  surf  \n",
            "0  25900    3  0.98  \n",
            "1  25900    3  0.98  \n",
            "2  25900    3  0.98  \n",
            "3  25900    3  0.98  \n",
            "4  25900    3  0.98  \n",
            "\n",
            "[5 rows x 25 columns]\n"
          ]
        }
      ],
      "source": [
        "dataframes = []\n",
        "for fname in os.listdir(DATA_DIR):\n",
        "    if not fname.endswith(\".csv\"):\n",
        "        continue\n",
        "    params = parse_filename_params(fname)\n",
        "    if params is None or params[3] is None:\n",
        "        print(\"Skipping:\", fname)\n",
        "        continue\n",
        "    path = os.path.join(DATA_DIR, fname)\n",
        "    df = load_and_process_file(path, *params)\n",
        "    dataframes.append(df)\n",
        "\n",
        "data = pd.concat(dataframes, ignore_index=True)\n",
        "print(data.info())\n",
        "print(data.head())\n"
      ]
    },
    {
      "cell_type": "markdown",
      "metadata": {
        "id": "PhvD7dmJ0Vn9"
      },
      "source": [
        "# Preprocessing"
      ]
    },
    {
      "cell_type": "code",
      "execution_count": 7,
      "metadata": {
        "id": "kNe4WtPR0Vn-"
      },
      "outputs": [],
      "source": [
        "# 1. Extract input (X) and output (y) columns\n",
        "theory_cols = [c for c in data.columns if c.startswith(\"Theoretical_Temps_\")]\n",
        "X = data[[\"Time\", \"h\", \"flux\", \"abs\", \"surf\"] + theory_cols]\n",
        "y = data.drop(columns=[\"Time\", \"h\", \"flux\", \"abs\", \"surf\"] + theory_cols)\n",
        "y_columns = y.columns  # For inverse transform after prediction\n",
        "\n",
        "# 2. Split into train, val, test before scaling\n",
        "X_train_raw, X_temp_raw, y_train_raw, y_temp_raw = train_test_split(X, y, test_size=0.3, random_state=SEED)\n",
        "X_val_raw, X_test_raw, y_val_raw, y_test_raw = train_test_split(X_temp_raw, y_temp_raw, test_size=0.5, random_state=SEED)\n",
        "\n",
        "# 3. Scale using only training set statistics\n",
        "X_scaler = MinMaxScaler()\n",
        "X_train_scaled = X_scaler.fit_transform(X_train_raw)\n",
        "X_val_scaled   = X_scaler.transform(X_val_raw)\n",
        "X_test_scaled  = X_scaler.transform(X_test_raw)\n",
        "\n",
        "y_scaler = MinMaxScaler()\n",
        "y_train_scaled = y_scaler.fit_transform(y_train_raw)\n",
        "y_val_scaled   = y_scaler.transform(y_val_raw)\n",
        "y_test_scaled  = y_scaler.transform(y_test_raw)\n",
        "\n",
        "joblib.dump(X_scaler, \"X_scaler.pkl\")\n",
        "joblib.dump(y_scaler, \"y_scaler.pkl\")\n",
        "\n",
        "# 4. Convert to PyTorch tensors for training\n",
        "X_train = torch.tensor(X_train_scaled, dtype=torch.float32)\n",
        "X_val   = torch.tensor(X_val_scaled, dtype=torch.float32)\n",
        "X_test  = torch.tensor(X_test_scaled, dtype=torch.float32)\n",
        "\n",
        "y_train = torch.tensor(y_train_scaled, dtype=torch.float32)\n",
        "y_val   = torch.tensor(y_val_scaled, dtype=torch.float32)\n",
        "y_test  = torch.tensor(y_test_scaled, dtype=torch.float32)\n"
      ]
    },
    {
      "cell_type": "markdown",
      "metadata": {
        "id": "BqsJsRau0Vn_"
      },
      "source": [
        "# Model"
      ]
    },
    {
      "cell_type": "code",
      "execution_count": 8,
      "metadata": {
        "id": "XYdshwqi0Vn_"
      },
      "outputs": [],
      "source": [
        "class NeuralNet(nn.Module):\n",
        "    def __init__(self, input_size, output_size):\n",
        "        super().__init__()\n",
        "        self.net = nn.Sequential(\n",
        "            nn.Linear(input_size, 128),\n",
        "            nn.ReLU(),\n",
        "            nn.BatchNorm1d(128),\n",
        "            nn.Dropout(0.2),\n",
        "\n",
        "            nn.Linear(128, 256),\n",
        "            nn.ReLU(),\n",
        "            nn.BatchNorm1d(256),\n",
        "            nn.Dropout(0.2),\n",
        "\n",
        "            nn.Linear(256, 128),\n",
        "            nn.ReLU(),\n",
        "\n",
        "            nn.Linear(128, output_size)\n",
        "        )\n",
        "\n",
        "    def forward(self, x):\n",
        "        return self.net(x)\n",
        "\n",
        "input_size = X_train.shape[1]\n",
        "output_size = y_train.shape[1]\n",
        "model = NeuralNet(input_size, output_size)"
      ]
    },
    {
      "cell_type": "markdown",
      "metadata": {
        "id": "pyN5g_Pe0Vn_"
      },
      "source": [
        "# Training"
      ]
    },
    {
      "cell_type": "code",
      "execution_count": 9,
      "metadata": {
        "colab": {
          "base_uri": "https://localhost:8080/"
        },
        "id": "Kt-6ScmG0VoA",
        "outputId": "3edd5450-3d88-4f8b-a500-4eb093a1c363"
      },
      "outputs": [
        {
          "name": "stdout",
          "output_type": "stream",
          "text": [
            "Epoch [50/500], Train Loss: 0.040192, Val Loss: 0.034480\n",
            "Epoch [100/500], Train Loss: 0.029732, Val Loss: 0.017848\n",
            "Epoch [150/500], Train Loss: 0.026116, Val Loss: 0.016812\n",
            "Epoch [200/500], Train Loss: 0.024000, Val Loss: 0.016089\n",
            "Epoch [250/500], Train Loss: 0.022537, Val Loss: 0.015616\n",
            "Epoch [300/500], Train Loss: 0.021424, Val Loss: 0.015127\n",
            "Epoch [350/500], Train Loss: 0.020679, Val Loss: 0.014776\n",
            "Epoch [400/500], Train Loss: 0.020110, Val Loss: 0.014473\n",
            "Epoch [450/500], Train Loss: 0.019529, Val Loss: 0.014341\n",
            "Epoch [500/500], Train Loss: 0.019241, Val Loss: 0.014515\n"
          ]
        }
      ],
      "source": [
        "# ✅ Define loss and optimizer\n",
        "mse_loss = nn.MSELoss()\n",
        "mae_loss = nn.L1Loss()\n",
        "optimizer = optim.Adam(model.parameters(), lr=0.001)\n",
        "EPOCHS = 500\n",
        "\n",
        "# ✅ For storing loss per epoch\n",
        "train_losses = []\n",
        "val_losses = []\n",
        "\n",
        "# ✅ Training loop\n",
        "for epoch in range(EPOCHS):\n",
        "    model.train()\n",
        "    optimizer.zero_grad()\n",
        "    \n",
        "    # Forward pass + loss\n",
        "    predictions = model(X_train)\n",
        "    train_loss = 0.7 * mse_loss(predictions, y_train) + 0.3 * mae_loss(predictions, y_train)\n",
        "    \n",
        "    # Backward pass + optimization\n",
        "    train_loss.backward()\n",
        "    optimizer.step()\n",
        "\n",
        "    # Validation loss\n",
        "    model.eval()\n",
        "    with torch.no_grad():\n",
        "        val_preds = model(X_val)\n",
        "        val_loss = 0.7 * mse_loss(val_preds, y_val) + 0.3 * mae_loss(val_preds, y_val)\n",
        "\n",
        "    # Save losses\n",
        "    train_losses.append(train_loss.item())\n",
        "    val_losses.append(val_loss.item())\n",
        "\n",
        "    # Print progress every 50 epochs\n",
        "    if (epoch + 1) % 50 == 0:\n",
        "        print(f\"Epoch [{epoch+1}/{EPOCHS}], Train Loss: {train_loss.item():.6f}, Val Loss: {val_loss.item():.6f}\")\n",
        "torch.save(model.state_dict(), \"thermal_model_weights.pth\")"
      ]
    },
    {
      "cell_type": "code",
      "execution_count": 9,
      "metadata": {
        "colab": {
          "base_uri": "https://localhost:8080/",
          "height": 564
        },
        "id": "i_oUn8N-0VoA",
        "outputId": "922707c8-8445-457f-bbeb-29162fb3d906"
      },
      "outputs": [
        {
          "data": {
            "image/png": "[encoded data removed]",
            "text/plain": [
              "<Figure size 1000x600 with 1 Axes>"
            ]
          },
          "metadata": {},
          "output_type": "display_data"
        }
      ],
      "source": [
        "# ✅ Plot training loss\n",
        "plt.figure(figsize=(10, 6))\n",
        "plt.plot(train_losses, label='Train Loss', color='blue')\n",
        "plt.plot(val_losses, label='Validation Loss', color='orange')\n",
        "plt.xlabel('Epoch')\n",
        "plt.ylabel('Loss')\n",
        "plt.title('Training and Validation Loss over Epochs')\n",
        "plt.legend()\n",
        "plt.grid(True)\n",
        "plt.show()\n",
        "\n",
        "# idx = 0  # or any test sample index\n",
        "# plt.plot(y_real[idx], label='Actual')\n",
        "# plt.plot(preds_real[idx], label='Predicted')\n",
        "# plt.legend()\n",
        "# plt.title(\"Predicted vs Actual Sensor Temperatures\")\n",
        "# plt.xlabel(\"Sensor Index\")\n",
        "# plt.ylabel(\"Temperature (°C)\")\n",
        "# plt.grid(True)\n",
        "# plt.show()\n",
        "\n",
        "# Scatterplot\n",
        "# 🔥 If predictions are perfect, points should fall on the red line.\n",
        "# plt.figure(figsize=(6, 6))\n",
        "# plt.scatter(y_real.flatten(), preds_real.flatten(), alpha=0.4)\n",
        "# plt.plot([y_real.min(), y_real.max()], [y_real.min(), y_real.max()], color='red', linestyle='--')\n",
        "# plt.xlabel(\"Actual Temperature (°C)\")\n",
        "# plt.ylabel(\"Predicted Temperature (°C)\")\n",
        "# plt.title(\"All Predicted vs Actual Sensor Values\")\n",
        "# plt.grid(True)\n",
        "# plt.axis(\"equal\")\n",
        "# plt.show()\n"
      ]
    },
    {
      "cell_type": "markdown",
      "metadata": {
        "id": "X6RMSCgq0VoA"
      },
      "source": [
        "# Evaluation"
      ]
    },
    {
      "cell_type": "code",
      "execution_count": 10,
      "metadata": {
        "colab": {
          "base_uri": "https://localhost:8080/"
        },
        "id": "Ltk47Zh-0VoB",
        "outputId": "e8fc3bc0-07ba-4f71-b206-15ac19047b28"
      },
      "outputs": [
        {
          "name": "stdout",
          "output_type": "stream",
          "text": [
            "\n",
            "RMSE per output (°C):\n",
            "TC1_tip: 31.111 °C\n",
            "TC2: 30.526 °C\n",
            "TC3: 31.563 °C\n",
            "TC4: 31.422 °C\n",
            "TC5: 31.060 °C\n",
            "TC6: 30.907 °C\n",
            "TC7: 31.387 °C\n",
            "TC8: 32.135 °C\n",
            "TC9: 33.797 °C\n",
            "TC10: 35.613 °C\n",
            "\n",
            "Average RMSE across all outputs: 31.952 °C\n",
            "\n",
            "MAE per output (°C):\n",
            "TC1_tip: 7.214 °C\n",
            "TC2: 7.051 °C\n",
            "TC3: 8.532 °C\n",
            "TC4: 9.178 °C\n",
            "TC5: 8.416 °C\n",
            "TC6: 8.506 °C\n",
            "TC7: 8.772 °C\n",
            "TC8: 9.327 °C\n",
            "TC9: 11.380 °C\n",
            "TC10: 16.395 °C\n",
            "\n",
            "Average MAE across all outputs: 9.477 °C\n"
          ]
        }
      ],
      "source": [
        "model.eval()\n",
        "with torch.no_grad():\n",
        "    preds = model(X_test).numpy()\n",
        "\n",
        "preds_real = y_scaler.inverse_transform(preds)\n",
        "y_real = y_scaler.inverse_transform(y_test.numpy())\n",
        "rmse = np.sqrt(np.mean((preds_real - y_real) ** 2, axis=0))\n",
        "\n",
        "print(\"\\nRMSE per output (°C):\")\n",
        "for col, val in zip(y.columns, rmse):\n",
        "    print(f\"{col}: {val:.3f} °C\")\n",
        "\n",
        "print(f\"\\nAverage RMSE across all outputs: {np.mean(rmse):.3f} °C\")\n",
        "\n",
        "mae = np.mean(np.abs(preds_real - y_real), axis=0)\n",
        "\n",
        "print(\"\\nMAE per output (°C):\")\n",
        "for col, val in zip(y.columns, mae):\n",
        "    print(f\"{col}: {val:.3f} °C\")\n",
        "\n",
        "print(f\"\\nAverage MAE across all outputs: {np.mean(mae):.3f} °C\")\n"
      ]
    },
    {
      "cell_type": "markdown",
      "metadata": {
        "id": "1pMWK_uV0VoC"
      },
      "source": [
        "<!-- ----------------------------------------------------------------------------------------------------------------------------------- -->"
      ]
    },
    {
      "cell_type": "code",
      "execution_count": 15,
      "metadata": {},
      "outputs": [],
      "source": [
        "def check_and_clip_input(input_df, scaler):\n",
        "    min_vals = scaler.data_min_\n",
        "    max_vals = scaler.data_max_\n",
        "    columns = scaler.feature_names_in_\n",
        "    clipped = False\n",
        "    for i, col in enumerate(columns):\n",
        "        val = input_df.iloc[0, i]\n",
        "        if val < min_vals[i] or val > max_vals[i]:\n",
        "            print(f\"Warning: '{col}' value {val} is out of range [{min_vals[i]}, {max_vals[i]}]. Clipping.\")\n",
        "            input_df.iloc[0, i] = min(max(val, min_vals[i]), max_vals[i])\n",
        "            clipped = True\n",
        "    if not clipped:\n",
        "        print(\"All input values are within the training range.\")\n",
        "    return input_df"
      ]
    },
    {
      "cell_type": "code",
      "execution_count": 11,
      "metadata": {
        "colab": {
          "base_uri": "https://localhost:8080/"
        },
        "id": "EqP4hPqZ0VoC",
        "outputId": "a54f302a-e595-4a2d-9267-c459f594be3b"
      },
      "outputs": [
        {
          "name": "stdout",
          "output_type": "stream",
          "text": [
            "Model loaded. First layer weights (sample): tensor([ 0.1330, -0.1140, -0.0501,  0.1212, -0.2431], grad_fn=<SliceBackward0>)\n",
            "\n",
            "Predicted Temperatures: [[ 743.0247    -400.38733    570.9364     277.69922    542.6188\n",
            "   342.30576    460.31006      1.7123228 -272.84686    207.14558  ]]\n"
          ]
        },
        {
          "name": "stderr",
          "output_type": "stream",
          "text": [
            "C:\\Users\\Rajasekar\\AppData\\Roaming\\Python\\Python311\\site-packages\\sklearn\\utils\\validation.py:2739: UserWarning: X does not have valid feature names, but MinMaxScaler was fitted with feature names\n",
            "  warnings.warn(\n"
          ]
        }
      ],
      "source": [
        "new_input = [\n",
        "    [  # Full input vector for inference\n",
        "        571,     # Time (seconds)\n",
        "        0.0375,     # Depth (h)\n",
        "        25900,      # Heat flux (q0)\n",
        "        3,          # Absorption coefficient (abs)\n",
        "        0.98        # Surface emissivity (surf)\n",
        "    ] + [362.19,358.26,333.06,183.66,124.89,82.55,64.62,52.62,42.62,40.52]  # Theoretical temperature values at 10 vertical points\n",
        "]\n",
        "\n",
        "X_scaler = joblib.load(\"X_scaler.pkl\")\n",
        "y_scaler = joblib.load(\"y_scaler.pkl\")\n",
        "\n",
        "input_size = len(new_input[0])               # Should be 15\n",
        "output_size = len(y_scaler.scale_)           # Should be 10 if you're predicting TC1–TC10\n",
        "model = NeuralNet(input_size, output_size)\n",
        "model.load_state_dict(torch.load(\"thermal_model_weights.pth\"))\n",
        "print(\"Model loaded. First layer weights (sample):\", model.net[0].weight[0][:5])\n",
        "model.eval()\n",
        "\n",
        "new_input_scaled = X_scaler.transform(new_input)\n",
        "new_tensor = torch.tensor(new_input_scaled, dtype=torch.float32)\n",
        "\n",
        "with torch.no_grad():\n",
        "    pred = model(new_tensor).numpy()\n",
        "    \n",
        "real_pred = y_scaler.inverse_transform(pred)\n",
        "print(\"\\nPredicted Temperatures:\", real_pred)\n"
      ]
    },
    {
      "cell_type": "code",
      "execution_count": 14,
      "metadata": {},
      "outputs": [
        {
          "name": "stdout",
          "output_type": "stream",
          "text": [
            "\n",
            "✅ Predicted Temperatures (°C): [ 743.0247    -400.38733    570.9364     277.69922    542.6188\n",
            "  342.30576    460.31006      1.7123228 -272.84686    207.14558  ]\n",
            "\n",
            "[DEBUG] Scaled input: [[ 0.08626561  0.          1.          0.          1.          0.402821\n",
            "   0.23510896  0.10518082 -0.63054141 -0.8640125  -1.10842761 -1.28966613\n",
            "  -1.37248747 -1.42779368 -1.43940895]]\n",
            "[DEBUG] X_scaler min: [1.15000000e+02 3.75000000e-02 1.94000000e+04 3.00000000e+00\n",
            " 7.60000000e-01 2.93404333e+02 3.12659764e+02 3.12659764e+02\n",
            " 3.08548514e+02 3.01803880e+02 3.00374006e+02 3.00077446e+02\n",
            " 3.00016032e+02 3.00003326e+02 3.00000802e+02]\n",
            "[DEBUG] X_scaler max: [5.40100000e+03 1.57500000e-01 2.59000000e+04 1.00000000e+02\n",
            " 9.80000000e-01 4.64164217e+02 5.06613395e+02 5.06613716e+02\n",
            " 5.06614037e+02 5.06562351e+02 4.96890229e+02 4.82649851e+02\n",
            " 4.80269795e+02 4.80269795e+02 4.80269795e+02]\n",
            "[DEBUG] Input DataFrame columns: ['Time', 'h', 'flux', 'abs', 'surf', 'Theoretical_Temps_1', 'Theoretical_Temps_2', 'Theoretical_Temps_3', 'Theoretical_Temps_4', 'Theoretical_Temps_5', 'Theoretical_Temps_6', 'Theoretical_Temps_7', 'Theoretical_Temps_8', 'Theoretical_Temps_9', 'Theoretical_Temps_10']\n",
            "[DEBUG] Expected columns: ['Time', 'h', 'flux', 'abs', 'surf', 'Theoretical_Temps_1', 'Theoretical_Temps_2', 'Theoretical_Temps_3', 'Theoretical_Temps_4', 'Theoretical_Temps_5', 'Theoretical_Temps_6', 'Theoretical_Temps_7', 'Theoretical_Temps_8', 'Theoretical_Temps_9', 'Theoretical_Temps_10']\n",
            "[DEBUG] Test row true values: [[353.   353.93 358.22 360.57 361.91 365.56 365.77 367.38 369.15 357.83]]\n",
            "[DEBUG] Test row predicted values: [[353.6607  355.87173 357.34772 356.97983 359.0253  359.41666 361.2091\n",
            "  365.0137  363.6659  346.3647 ]]\n"
          ]
        }
      ],
      "source": [
        "# ✅ Inverse scale\n",
        "real_pred = y_scaler.inverse_transform(pred)\n",
        "print(\"\\n✅ Predicted Temperatures (°C):\", real_pred[0])\n",
        "\n",
        "# === DEBUGGING BLOCK START ===\n",
        "\n",
        "# 1. Print scaled input\n",
        "print(\"\\n[DEBUG] Scaled input:\", new_input_scaled)\n",
        "\n",
        "# 2. Print scaler min/max\n",
        "print(\"[DEBUG] X_scaler min:\", X_scaler.data_min_)\n",
        "print(\"[DEBUG] X_scaler max:\", X_scaler.data_max_)\n",
        "\n",
        "# 3. Print input DataFrame columns and expected columns\n",
        "print(\"[DEBUG] Input DataFrame columns:\", new_input_df.columns.tolist())\n",
        "try:\n",
        "    print(\"[DEBUG] Expected columns:\", X_scaler.feature_names_in_.tolist())\n",
        "except AttributeError:\n",
        "    print(\"[DEBUG] X_scaler does not have feature_names_in_ attribute.\")\n",
        "\n",
        "# 4. Predict on a known test row (if available)\n",
        "try:\n",
        "    # Use a row from your test set (if you have X_test_raw and y_test_raw in scope)\n",
        "    test_row = X_test_raw.iloc[[0]]\n",
        "    true_y = y_test_raw.iloc[[0]]\n",
        "    test_row_scaled = X_scaler.transform(test_row)\n",
        "    test_tensor = torch.tensor(test_row_scaled, dtype=torch.float32)\n",
        "    with torch.no_grad():\n",
        "        test_pred = model(test_tensor).numpy()\n",
        "    test_real_pred = y_scaler.inverse_transform(test_pred)\n",
        "    print(\"[DEBUG] Test row true values:\", true_y.values)\n",
        "    print(\"[DEBUG] Test row predicted values:\", test_real_pred)\n",
        "except Exception as e:\n",
        "    print(\"[DEBUG] Could not run test row prediction:\", e)\n",
        "\n",
        "# === DEBUGGING BLOCK END ==="
      ]
    },
    {
      "cell_type": "code",
      "execution_count": 16,
      "metadata": {},
      "outputs": [
        {
          "name": "stdout",
          "output_type": "stream",
          "text": [
            "Warning: 'Theoretical_Temps_4' value 183.66 is out of range [308.548514268715, 506.61403661117]. Clipping.\n",
            "Warning: 'Theoretical_Temps_5' value 124.89 is out of range [301.803879708834, 506.562351054894]. Clipping.\n",
            "Warning: 'Theoretical_Temps_6' value 82.55 is out of range [300.374006414077, 496.890228815211]. Clipping.\n",
            "Warning: 'Theoretical_Temps_7' value 64.62 is out of range [300.077446289069, 482.649851155994]. Clipping.\n",
            "Warning: 'Theoretical_Temps_8' value 52.62 is out of range [300.016032132492, 480.269795202575]. Clipping.\n",
            "Warning: 'Theoretical_Temps_9' value 42.62 is out of range [300.003325524494, 480.269795202575]. Clipping.\n",
            "Warning: 'Theoretical_Temps_10' value 40.52 is out of range [300.000802228083, 480.269795202575]. Clipping.\n",
            "Model loaded. First layer weights (sample): tensor([ 0.1330, -0.1140, -0.0501,  0.1212, -0.2431], grad_fn=<SliceBackward0>)\n",
            "\n",
            "Predicted Temperatures: [[367.93576  368.75208  383.8451   331.24036  333.5436   231.93723\n",
            "  186.59888  118.00723   99.650246  70.7392  ]]\n"
          ]
        }
      ],
      "source": [
        "new_input = [\n",
        "    [  # Full input vector for inference\n",
        "        571,     # Time (seconds)\n",
        "        0.0375,     # Depth (h)\n",
        "        25900,      # Heat flux (q0)\n",
        "        3,          # Absorption coefficient (abs)\n",
        "        0.98        # Surface emissivity (surf)\n",
        "    ] + [362.19,358.26,333.06,183.66,124.89,82.55,64.62,52.62,42.62,40.52]  # Theoretical temperature values at 10 vertical points\n",
        "]\n",
        "\n",
        "X_scaler = joblib.load(\"X_scaler.pkl\")\n",
        "y_scaler = joblib.load(\"y_scaler.pkl\")\n",
        "\n",
        "# Create DataFrame with correct columns\n",
        "theory_cols = [f\"Theoretical_Temps_{i+1}\" for i in range(10)]\n",
        "input_columns = [\"Time\", \"h\", \"flux\", \"abs\", \"surf\"] + theory_cols\n",
        "new_input_df = pd.DataFrame(new_input, columns=input_columns)\n",
        "\n",
        "# Clip out-of-range values before scaling\n",
        "new_input_df = check_and_clip_input(new_input_df, X_scaler)\n",
        "\n",
        "new_input_scaled = X_scaler.transform(new_input_df)\n",
        "new_tensor = torch.tensor(new_input_scaled, dtype=torch.float32)\n",
        "\n",
        "input_size = len(new_input[0])               # Should be 15\n",
        "output_size = len(y_scaler.scale_)           # Should be 10 if you're predicting TC1–TC10\n",
        "model = NeuralNet(input_size, output_size)\n",
        "model.load_state_dict(torch.load(\"thermal_model_weights.pth\"))\n",
        "print(\"Model loaded. First layer weights (sample):\", model.net[0].weight[0][:5])\n",
        "model.eval()\n",
        "\n",
        "with torch.no_grad():\n",
        "    pred = model(new_tensor).numpy()\n",
        "    \n",
        "real_pred = y_scaler.inverse_transform(pred)\n",
        "print(\"\\nPredicted Temperatures:\", real_pred)"
      ]
    }
  ],
  "metadata": {
    "colab": {
      "provenance": []
    },
    "kernelspec": {
      "display_name": "base",
      "language": "python",
      "name": "python3"
    },
    "language_info": {
      "codemirror_mode": {
        "name": "ipython",
        "version": 3
      },
      "file_extension": ".py",
      "mimetype": "text/x-python",
      "name": "python",
      "nbconvert_exporter": "python",
      "pygments_lexer": "ipython3",
      "version": "3.11.5"
    }
  },
  "nbformat": 4,
  "nbformat_minor": 0
}
